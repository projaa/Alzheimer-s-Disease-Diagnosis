{
  "nbformat": 4,
  "nbformat_minor": 0,
  "metadata": {
    "accelerator": "GPU",
    "colab": {
      "name": "VGG19.ipynb",
      "provenance": [],
      "collapsed_sections": []
    },
    "kernelspec": {
      "display_name": "Python 3",
      "name": "python3"
    }
  },
  "cells": [
    {
      "cell_type": "code",
      "metadata": {
        "id": "WgllZkdgn2oh"
      },
      "source": [
        "#load libraries\n",
        "from tensorflow.keras.preprocessing.image import ImageDataGenerator\n",
        "from keras.applications.vgg19 import VGG19, preprocess_input\n",
        "from keras.models import Sequential\n",
        "from keras import models,layers\n",
        "import matplotlib.pyplot as plt\n",
        "import tensorflow as tf\n",
        "import numpy as np\n",
        "import random\n",
        "import shutil\n",
        "import cv2\n",
        "import os"
      ],
      "execution_count": 1,
      "outputs": []
    },
    {
      "cell_type": "code",
      "metadata": {
        "id": "ymfLNeV40c_p",
        "colab": {
          "base_uri": "https://localhost:8080/"
        },
        "outputId": "d4f4fe4d-23a5-46f5-ae5b-a12bcc06f5c1"
      },
      "source": [
        "from google.colab import drive\n",
        "drive.mount('/content/drive')"
      ],
      "execution_count": 2,
      "outputs": [
        {
          "output_type": "stream",
          "name": "stdout",
          "text": [
            "Mounted at /content/drive\n"
          ]
        }
      ]
    },
    {
      "cell_type": "markdown",
      "source": [
        "# DATASET PREPARATION"
      ],
      "metadata": {
        "id": "2L82X6v50nvt"
      }
    },
    {
      "cell_type": "code",
      "metadata": {
        "id": "DdKP6T92pHAL"
      },
      "source": [
        "data_path = '/content/drive/MyDrive/Alzheimer_s Dataset/'"
      ],
      "execution_count": 3,
      "outputs": []
    },
    {
      "cell_type": "code",
      "metadata": {
        "id": "guoCfMxgGxRt",
        "colab": {
          "base_uri": "https://localhost:8080/"
        },
        "outputId": "8643674f-c7cf-4d8e-ecb0-3d9d0676b4b1"
      },
      "source": [
        "#4 classes\n",
        "classes = ['MildDemented','ModerateDemented','NonDemented','VeryMildDemented']\n",
        "freq_of_classes = []\n",
        "for CLASS in classes:\n",
        "  freq_of_classes.append(len(os.listdir(data_path + CLASS + '/')))\n",
        "print(freq_of_classes)"
      ],
      "execution_count": 4,
      "outputs": [
        {
          "output_type": "stream",
          "name": "stdout",
          "text": [
            "[717, 52, 2560, 1792]\n"
          ]
        }
      ]
    },
    {
      "cell_type": "code",
      "source": [
        "#Create Train-Test directory\n",
        "!mkdir TRAIN_DIR TRAIN_DIR/MildDemented TRAIN_DIR/ModerateDemented TRAIN_DIR/NonDemented TRAIN_DIR/VeryMildDemented\n",
        "!mkdir TEST_DIR TEST_DIR/MildDemented TEST_DIR/ModerateDemented TEST_DIR/NonDemented TEST_DIR/VeryMildDemented\n",
        "\n",
        "TRAIN_DIR = '/content/TRAIN_DIR/'\n",
        "TEST_DIR = '/content/TEST_DIR/'"
      ],
      "metadata": {
        "id": "WtrkG67i1S3w"
      },
      "execution_count": 5,
      "outputs": []
    },
    {
      "cell_type": "code",
      "source": [
        "#Distribute the data into Train-Test directory\n",
        "test_ratio = 0.2\n",
        "training_label_freq = []\n",
        "test_label_freq = []\n",
        "\n",
        "for label in classes:\n",
        "  training_path = os.listdir(data_path + label + '/')\n",
        "  test_path = random.sample(training_path,int(len(training_path)*test_ratio))\n",
        "  training_path = [file for file in training_path if file not in test_path]\n",
        "  #Data copied to train-test directory\n",
        "  for file in training_path:\n",
        "    shutil.copy(data_path + label + '/' + file,TRAIN_DIR + label + '/' + file)\n",
        "  for file in test_path:\n",
        "    shutil.copy(data_path + label + '/' + file,TEST_DIR + label + '/' + file)\n",
        "  \n",
        "  training_label_freq.append(len(training_path))\n",
        "  test_label_freq.append(len(test_path))\n",
        "\n",
        "print(training_label_freq)\n",
        "print(test_label_freq)"
      ],
      "metadata": {
        "id": "rNaOuxwO1lwv",
        "colab": {
          "base_uri": "https://localhost:8080/"
        },
        "outputId": "e1af0e16-f47f-410f-b5c8-9e82de3c1ea2"
      },
      "execution_count": 6,
      "outputs": [
        {
          "output_type": "stream",
          "name": "stdout",
          "text": [
            "[574, 42, 2048, 1434]\n",
            "[143, 10, 512, 358]\n"
          ]
        }
      ]
    },
    {
      "cell_type": "code",
      "source": [
        "def load_data(dir_path):\n",
        "    X = []\n",
        "    y = []\n",
        "    class_labels = dict()\n",
        "    i = 0\n",
        "    for CLASS in classes:\n",
        "        class_labels[i] = CLASS\n",
        "        for file in os.listdir(dir_path + CLASS + '/'):\n",
        "            img = cv2.imread(dir_path + CLASS + '/' + file)\n",
        "            X.append(img)\n",
        "            y.append(i)\n",
        "        i += 1\n",
        "    X = np.array(X)\n",
        "    y = np.array(y)\n",
        "    print(str(len(X)) + ' images loaded.')\n",
        "    return X, y, class_labels"
      ],
      "metadata": {
        "id": "Tdt1azd_0vks"
      },
      "execution_count": 7,
      "outputs": []
    },
    {
      "cell_type": "code",
      "source": [
        "#load the dataset\n",
        "X_set, y_set, labels  = load_data(TRAIN_DIR)"
      ],
      "metadata": {
        "id": "x-RH_MEI02UC",
        "colab": {
          "base_uri": "https://localhost:8080/"
        },
        "outputId": "9b264219-ba81-49be-b4e2-a8103fceabc4"
      },
      "execution_count": 8,
      "outputs": [
        {
          "output_type": "stream",
          "name": "stdout",
          "text": [
            "4098 images loaded.\n"
          ]
        }
      ]
    },
    {
      "cell_type": "code",
      "source": [
        "print(X_set.shape)\n",
        "print(y_set.shape)\n",
        "print(labels)"
      ],
      "metadata": {
        "id": "Cv4AFPIY068R",
        "colab": {
          "base_uri": "https://localhost:8080/"
        },
        "outputId": "4f843ed6-181a-4238-ef93-9c61e4411add"
      },
      "execution_count": 9,
      "outputs": [
        {
          "output_type": "stream",
          "name": "stdout",
          "text": [
            "(4098, 208, 176, 3)\n",
            "(4098,)\n",
            "{0: 'MildDemented', 1: 'ModerateDemented', 2: 'NonDemented', 3: 'VeryMildDemented'}\n"
          ]
        }
      ]
    },
    {
      "cell_type": "markdown",
      "source": [
        "# SMOTE"
      ],
      "metadata": {
        "id": "AsqyEcY709q6"
      }
    },
    {
      "cell_type": "code",
      "source": [
        "from imblearn.over_sampling import SMOTE\n",
        "\n",
        "def SMOTE_Sampling(X,y):\n",
        "    a = X.shape[0]        #Total number of samples 4098\n",
        "    b = X.shape[1]        #height 224\n",
        "    c = X.shape[2]        #width 176\n",
        "    d = X.shape[3]        #channels 3\n",
        "    X = X.reshape(X.shape[0], -1)   # (4098,224*176*3)\n",
        "    sampler = SMOTE()\n",
        "    X_res, y_res = sampler.fit_resample(X, y)\n",
        "    a = X_res.shape[0]    #New samples 2048*4\n",
        "    X_res = X_res.reshape(a,b,c,d) #(8192, 208, 176, 3))\n",
        "    print(X_res.shape)\n",
        "    print(y_res.shape)\n",
        "    return X_res, y_res"
      ],
      "metadata": {
        "id": "Zqio7LaV0_q2"
      },
      "execution_count": 10,
      "outputs": []
    },
    {
      "cell_type": "code",
      "source": [
        "reSampled_X_set, reSampled_y_set = SMOTE_Sampling(X_set,y_set)"
      ],
      "metadata": {
        "id": "gLW0XK0M1D0w",
        "colab": {
          "base_uri": "https://localhost:8080/"
        },
        "outputId": "928b5415-156d-4fc9-c9a1-0f033944d846"
      },
      "execution_count": 11,
      "outputs": [
        {
          "output_type": "stream",
          "name": "stdout",
          "text": [
            "(8192, 208, 176, 3)\n",
            "(8192,)\n"
          ]
        }
      ]
    },
    {
      "cell_type": "code",
      "source": [
        "from collections import Counter\n",
        "print(\"Before Resampling->\", Counter(y_set))\n",
        "print(\"After Resampling->\", Counter(reSampled_y_set))"
      ],
      "metadata": {
        "id": "gEtQO5Rs1GbJ",
        "colab": {
          "base_uri": "https://localhost:8080/"
        },
        "outputId": "0eb6ebb1-815a-4fe2-85f6-f25b0ce0aa8f"
      },
      "execution_count": 12,
      "outputs": [
        {
          "output_type": "stream",
          "name": "stdout",
          "text": [
            "Before Resampling-> Counter({2: 2048, 3: 1434, 0: 574, 1: 42})\n",
            "After Resampling-> Counter({0: 2048, 1: 2048, 2: 2048, 3: 2048})\n"
          ]
        }
      ]
    },
    {
      "cell_type": "markdown",
      "source": [
        "# RESAMPLED DIRECTORY"
      ],
      "metadata": {
        "id": "q02v6xl-13z7"
      }
    },
    {
      "cell_type": "code",
      "source": [
        "!mkdir resampled_dir resampled_dir/MildDemented resampled_dir/ModerateDemented resampled_dir/NonDemented resampled_dir/VeryMildDemented"
      ],
      "metadata": {
        "id": "ho-wteqK17CM"
      },
      "execution_count": 13,
      "outputs": []
    },
    {
      "cell_type": "code",
      "source": [
        "RESAMPLED_DIR = '/content/resampled_dir/'"
      ],
      "metadata": {
        "id": "26qL6gJB19Pe"
      },
      "execution_count": 14,
      "outputs": []
    },
    {
      "cell_type": "code",
      "source": [
        "#Save the resampled images to new directory\n",
        "def save_sampled_images(X,y,dir_name):\n",
        "    i = 0\n",
        "    for (img,imclass) in zip(X,y):\n",
        "        if imclass == 0:\n",
        "            cv2.imwrite(dir_name + 'MildDemented/' + str(i) + '.jpg',img)\n",
        "        elif imclass == 1:\n",
        "            cv2.imwrite(dir_name + 'ModerateDemented/' + str(i) + '.jpg',img)\n",
        "        elif imclass == 2:\n",
        "            cv2.imwrite(dir_name + 'NonDemented/' + str(i) + '.jpg',img)\n",
        "        elif imclass == 3:\n",
        "            cv2.imwrite(dir_name + 'VeryMildDemented/' + str(i) + '.jpg',img)\n",
        "        i += 1"
      ],
      "metadata": {
        "id": "jjC7F6sc2GFh"
      },
      "execution_count": 15,
      "outputs": []
    },
    {
      "cell_type": "code",
      "source": [
        "save_sampled_images(reSampled_X_set,reSampled_y_set,dir_name = RESAMPLED_DIR)"
      ],
      "metadata": {
        "id": "Wy-esG842I1R"
      },
      "execution_count": 16,
      "outputs": []
    },
    {
      "cell_type": "markdown",
      "source": [
        "# DATA Generator"
      ],
      "metadata": {
        "id": "Dyh6Yyb22Kug"
      }
    },
    {
      "cell_type": "code",
      "metadata": {
        "id": "rENuYdQJ10vm",
        "colab": {
          "base_uri": "https://localhost:8080/"
        },
        "outputId": "93c2add8-d298-46c0-f45c-bee55aafce58"
      },
      "source": [
        "BATCH_SIZE = 128\n",
        "IMG_SIZE = (224,224)\n",
        "\n",
        "train_datagen = ImageDataGenerator(validation_split = 0.20, preprocessing_function = preprocess_input)\n",
        "train_data = train_datagen.flow_from_directory(RESAMPLED_DIR,\n",
        "                                               target_size = IMG_SIZE,\n",
        "                                               color_mode = 'rgb',\n",
        "                                               class_mode = 'categorical',\n",
        "                                               shuffle = 'True',\n",
        "                                               batch_size = BATCH_SIZE,\n",
        "                                               seed = 802,\n",
        "                                               subset = 'training')\n",
        "val_data = train_datagen.flow_from_directory(RESAMPLED_DIR,\n",
        "                                               target_size = IMG_SIZE,\n",
        "                                               color_mode = 'rgb',\n",
        "                                               class_mode = 'categorical',\n",
        "                                               shuffle = 'True',\n",
        "                                               batch_size = BATCH_SIZE,\n",
        "                                               seed = 802,\n",
        "                                               subset = 'validation')\n",
        "\n",
        "test_datagen = ImageDataGenerator(preprocessing_function = preprocess_input)\n",
        "test_data = test_datagen.flow_from_directory(TEST_DIR,\n",
        "                                               target_size = IMG_SIZE,\n",
        "                                               color_mode = 'rgb',\n",
        "                                               class_mode = 'categorical',\n",
        "                                               shuffle = 'False')"
      ],
      "execution_count": 17,
      "outputs": [
        {
          "output_type": "stream",
          "name": "stdout",
          "text": [
            "Found 6556 images belonging to 4 classes.\n",
            "Found 1636 images belonging to 4 classes.\n",
            "Found 1023 images belonging to 4 classes.\n"
          ]
        }
      ]
    },
    {
      "cell_type": "markdown",
      "source": [
        "# VGG19 MODEL"
      ],
      "metadata": {
        "id": "t_1S7RAqzmN4"
      }
    },
    {
      "cell_type": "code",
      "metadata": {
        "id": "BEFXgrE840oj",
        "colab": {
          "base_uri": "https://localhost:8080/"
        },
        "outputId": "3686355e-3f53-46a1-c4fe-9a17732c5cd4"
      },
      "source": [
        "#load base model\n",
        "base_model = VGG19(\n",
        "    weights = 'imagenet',\n",
        "    include_top = False,\n",
        "    input_shape = IMG_SIZE + (3,)\n",
        ")\n",
        "model = Sequential()\n",
        "model.add(base_model)\n",
        "model.add(layers.Flatten())\n",
        "model.add(layers.Dropout(0.5))\n",
        "model.add(layers.Dense(4, activation='softmax'))\n",
        "model.layers[0].trainable = False"
      ],
      "execution_count": 18,
      "outputs": [
        {
          "output_type": "stream",
          "name": "stdout",
          "text": [
            "Downloading data from https://storage.googleapis.com/tensorflow/keras-applications/vgg19/vgg19_weights_tf_dim_ordering_tf_kernels_notop.h5\n",
            "80142336/80134624 [==============================] - 1s 0us/step\n",
            "80150528/80134624 [==============================] - 1s 0us/step\n"
          ]
        }
      ]
    },
    {
      "cell_type": "code",
      "metadata": {
        "id": "z2bxejvQdcHt"
      },
      "source": [
        "#Compile the model\n",
        "model.compile(optimizer = 'adam', loss = 'categorical_crossentropy', metrics = ['accuracy'])"
      ],
      "execution_count": 19,
      "outputs": []
    },
    {
      "cell_type": "code",
      "source": [
        "#Summary of the model\n",
        "model.summary()"
      ],
      "metadata": {
        "id": "evn0jEWIzfeU",
        "colab": {
          "base_uri": "https://localhost:8080/"
        },
        "outputId": "3a2186a6-5d37-48fd-f89d-5a5412b3ec5d"
      },
      "execution_count": 20,
      "outputs": [
        {
          "output_type": "stream",
          "name": "stdout",
          "text": [
            "Model: \"sequential\"\n",
            "_________________________________________________________________\n",
            " Layer (type)                Output Shape              Param #   \n",
            "=================================================================\n",
            " vgg19 (Functional)          (None, 7, 7, 512)         20024384  \n",
            "                                                                 \n",
            " flatten (Flatten)           (None, 25088)             0         \n",
            "                                                                 \n",
            " dropout (Dropout)           (None, 25088)             0         \n",
            "                                                                 \n",
            " dense (Dense)               (None, 4)                 100356    \n",
            "                                                                 \n",
            "=================================================================\n",
            "Total params: 20,124,740\n",
            "Trainable params: 100,356\n",
            "Non-trainable params: 20,024,384\n",
            "_________________________________________________________________\n"
          ]
        }
      ]
    },
    {
      "cell_type": "code",
      "metadata": {
        "id": "C7mlh29MEBn3",
        "colab": {
          "base_uri": "https://localhost:8080/"
        },
        "outputId": "b7814ccc-5a2f-4ed0-bc0a-30317d845876"
      },
      "source": [
        "#Fit the model\n",
        "from keras.callbacks import EarlyStopping\n",
        "EPOCHS = 100\n",
        "es = EarlyStopping(\n",
        "    monitor = 'loss', \n",
        "    mode = 'min',\n",
        "    patience = 10\n",
        ")\n",
        "reducer = tf.keras.callbacks.ReduceLROnPlateau(factor = np.sqrt(0.1),patience = 5,cooldown = 0, min_lr = 0.5e-6)\n",
        "hist = model.fit(train_data, batch_size = BATCH_SIZE, epochs = EPOCHS, validation_data = val_data, callbacks = [es,reducer])"
      ],
      "execution_count": 21,
      "outputs": [
        {
          "output_type": "stream",
          "name": "stdout",
          "text": [
            "Epoch 1/100\n",
            "52/52 [==============================] - 149s 2s/step - loss: 10.9754 - accuracy: 0.5474 - val_loss: 4.8159 - val_accuracy: 0.6571 - lr: 0.0010\n",
            "Epoch 2/100\n",
            "52/52 [==============================] - 72s 1s/step - loss: 4.6475 - accuracy: 0.7041 - val_loss: 3.8271 - val_accuracy: 0.6877 - lr: 0.0010\n",
            "Epoch 3/100\n",
            "52/52 [==============================] - 72s 1s/step - loss: 3.2037 - accuracy: 0.7646 - val_loss: 2.6379 - val_accuracy: 0.7304 - lr: 0.0010\n",
            "Epoch 4/100\n",
            "52/52 [==============================] - 72s 1s/step - loss: 2.8381 - accuracy: 0.7880 - val_loss: 7.6982 - val_accuracy: 0.6498 - lr: 0.0010\n",
            "Epoch 5/100\n",
            "52/52 [==============================] - 71s 1s/step - loss: 2.7284 - accuracy: 0.8019 - val_loss: 1.9434 - val_accuracy: 0.7775 - lr: 0.0010\n",
            "Epoch 6/100\n",
            "52/52 [==============================] - 71s 1s/step - loss: 2.3036 - accuracy: 0.8171 - val_loss: 3.5827 - val_accuracy: 0.7256 - lr: 0.0010\n",
            "Epoch 7/100\n",
            "52/52 [==============================] - 71s 1s/step - loss: 2.1025 - accuracy: 0.8433 - val_loss: 1.5776 - val_accuracy: 0.8099 - lr: 0.0010\n",
            "Epoch 8/100\n",
            "52/52 [==============================] - 71s 1s/step - loss: 1.9837 - accuracy: 0.8417 - val_loss: 2.0854 - val_accuracy: 0.7977 - lr: 0.0010\n",
            "Epoch 9/100\n",
            "52/52 [==============================] - 71s 1s/step - loss: 1.7492 - accuracy: 0.8572 - val_loss: 2.5909 - val_accuracy: 0.7720 - lr: 0.0010\n",
            "Epoch 10/100\n",
            "52/52 [==============================] - 71s 1s/step - loss: 1.5150 - accuracy: 0.8659 - val_loss: 1.3725 - val_accuracy: 0.8337 - lr: 0.0010\n",
            "Epoch 11/100\n",
            "52/52 [==============================] - 72s 1s/step - loss: 1.8661 - accuracy: 0.8572 - val_loss: 3.1043 - val_accuracy: 0.7567 - lr: 0.0010\n",
            "Epoch 12/100\n",
            "52/52 [==============================] - 71s 1s/step - loss: 2.1273 - accuracy: 0.8525 - val_loss: 3.0117 - val_accuracy: 0.7647 - lr: 0.0010\n",
            "Epoch 13/100\n",
            "52/52 [==============================] - 71s 1s/step - loss: 1.9471 - accuracy: 0.8725 - val_loss: 1.3207 - val_accuracy: 0.8564 - lr: 0.0010\n",
            "Epoch 14/100\n",
            "52/52 [==============================] - 71s 1s/step - loss: 1.8355 - accuracy: 0.8693 - val_loss: 1.5108 - val_accuracy: 0.8392 - lr: 0.0010\n",
            "Epoch 15/100\n",
            "52/52 [==============================] - 71s 1s/step - loss: 1.8140 - accuracy: 0.8716 - val_loss: 3.2824 - val_accuracy: 0.7555 - lr: 0.0010\n",
            "Epoch 16/100\n",
            "52/52 [==============================] - 71s 1s/step - loss: 1.8198 - accuracy: 0.8697 - val_loss: 2.2905 - val_accuracy: 0.8197 - lr: 0.0010\n",
            "Epoch 17/100\n",
            "52/52 [==============================] - 72s 1s/step - loss: 1.8532 - accuracy: 0.8780 - val_loss: 2.4652 - val_accuracy: 0.8007 - lr: 0.0010\n",
            "Epoch 18/100\n",
            "52/52 [==============================] - 71s 1s/step - loss: 1.7920 - accuracy: 0.8748 - val_loss: 1.7314 - val_accuracy: 0.8423 - lr: 0.0010\n",
            "Epoch 19/100\n",
            "52/52 [==============================] - 71s 1s/step - loss: 1.3477 - accuracy: 0.8995 - val_loss: 2.3724 - val_accuracy: 0.8178 - lr: 3.1623e-04\n",
            "Epoch 20/100\n",
            "52/52 [==============================] - 71s 1s/step - loss: 1.1837 - accuracy: 0.9047 - val_loss: 1.2406 - val_accuracy: 0.8680 - lr: 3.1623e-04\n",
            "Epoch 21/100\n",
            "52/52 [==============================] - 71s 1s/step - loss: 1.2396 - accuracy: 0.9018 - val_loss: 1.8006 - val_accuracy: 0.8337 - lr: 3.1623e-04\n",
            "Epoch 22/100\n",
            "52/52 [==============================] - 71s 1s/step - loss: 0.9889 - accuracy: 0.9163 - val_loss: 1.3498 - val_accuracy: 0.8661 - lr: 3.1623e-04\n",
            "Epoch 23/100\n",
            "52/52 [==============================] - 71s 1s/step - loss: 0.9050 - accuracy: 0.9216 - val_loss: 1.4409 - val_accuracy: 0.8625 - lr: 3.1623e-04\n",
            "Epoch 24/100\n",
            "52/52 [==============================] - 71s 1s/step - loss: 0.8625 - accuracy: 0.9239 - val_loss: 1.9986 - val_accuracy: 0.8233 - lr: 3.1623e-04\n",
            "Epoch 25/100\n",
            "52/52 [==============================] - 72s 1s/step - loss: 0.8254 - accuracy: 0.9236 - val_loss: 1.5521 - val_accuracy: 0.8545 - lr: 3.1623e-04\n",
            "Epoch 26/100\n",
            "52/52 [==============================] - 72s 1s/step - loss: 0.7156 - accuracy: 0.9277 - val_loss: 1.3532 - val_accuracy: 0.8710 - lr: 1.0000e-04\n",
            "Epoch 27/100\n",
            "52/52 [==============================] - 71s 1s/step - loss: 0.7696 - accuracy: 0.9329 - val_loss: 1.4703 - val_accuracy: 0.8631 - lr: 1.0000e-04\n",
            "Epoch 28/100\n",
            "52/52 [==============================] - 72s 1s/step - loss: 0.7578 - accuracy: 0.9315 - val_loss: 1.6870 - val_accuracy: 0.8521 - lr: 1.0000e-04\n",
            "Epoch 29/100\n",
            "52/52 [==============================] - 72s 1s/step - loss: 0.7768 - accuracy: 0.9301 - val_loss: 1.4534 - val_accuracy: 0.8625 - lr: 1.0000e-04\n",
            "Epoch 30/100\n",
            "52/52 [==============================] - 71s 1s/step - loss: 0.5907 - accuracy: 0.9344 - val_loss: 1.4772 - val_accuracy: 0.8576 - lr: 1.0000e-04\n",
            "Epoch 31/100\n",
            "52/52 [==============================] - 71s 1s/step - loss: 0.6144 - accuracy: 0.9346 - val_loss: 1.4536 - val_accuracy: 0.8637 - lr: 3.1623e-05\n",
            "Epoch 32/100\n",
            "52/52 [==============================] - 71s 1s/step - loss: 0.7415 - accuracy: 0.9304 - val_loss: 1.4660 - val_accuracy: 0.8637 - lr: 3.1623e-05\n",
            "Epoch 33/100\n",
            "52/52 [==============================] - 71s 1s/step - loss: 0.6246 - accuracy: 0.9347 - val_loss: 1.5206 - val_accuracy: 0.8606 - lr: 3.1623e-05\n",
            "Epoch 34/100\n",
            "52/52 [==============================] - 71s 1s/step - loss: 0.6942 - accuracy: 0.9291 - val_loss: 1.5716 - val_accuracy: 0.8545 - lr: 3.1623e-05\n",
            "Epoch 35/100\n",
            "52/52 [==============================] - 71s 1s/step - loss: 0.6154 - accuracy: 0.9391 - val_loss: 1.6037 - val_accuracy: 0.8539 - lr: 3.1623e-05\n",
            "Epoch 36/100\n",
            "52/52 [==============================] - 71s 1s/step - loss: 0.5476 - accuracy: 0.9404 - val_loss: 1.4429 - val_accuracy: 0.8625 - lr: 1.0000e-05\n",
            "Epoch 37/100\n",
            "52/52 [==============================] - 71s 1s/step - loss: 0.5932 - accuracy: 0.9375 - val_loss: 1.4244 - val_accuracy: 0.8674 - lr: 1.0000e-05\n",
            "Epoch 38/100\n",
            "52/52 [==============================] - 71s 1s/step - loss: 0.5901 - accuracy: 0.9391 - val_loss: 1.3926 - val_accuracy: 0.8692 - lr: 1.0000e-05\n",
            "Epoch 39/100\n",
            "52/52 [==============================] - 71s 1s/step - loss: 0.6455 - accuracy: 0.9347 - val_loss: 1.4536 - val_accuracy: 0.8619 - lr: 1.0000e-05\n",
            "Epoch 40/100\n",
            "52/52 [==============================] - 71s 1s/step - loss: 0.5637 - accuracy: 0.9393 - val_loss: 1.4595 - val_accuracy: 0.8631 - lr: 1.0000e-05\n",
            "Epoch 41/100\n",
            "52/52 [==============================] - 71s 1s/step - loss: 0.5882 - accuracy: 0.9349 - val_loss: 1.4271 - val_accuracy: 0.8643 - lr: 3.1623e-06\n",
            "Epoch 42/100\n",
            "52/52 [==============================] - 71s 1s/step - loss: 0.6001 - accuracy: 0.9394 - val_loss: 1.4281 - val_accuracy: 0.8637 - lr: 3.1623e-06\n",
            "Epoch 43/100\n",
            "52/52 [==============================] - 71s 1s/step - loss: 0.6065 - accuracy: 0.9373 - val_loss: 1.4428 - val_accuracy: 0.8625 - lr: 3.1623e-06\n",
            "Epoch 44/100\n",
            "52/52 [==============================] - 71s 1s/step - loss: 0.5391 - accuracy: 0.9407 - val_loss: 1.4085 - val_accuracy: 0.8649 - lr: 3.1623e-06\n",
            "Epoch 45/100\n",
            "52/52 [==============================] - 71s 1s/step - loss: 0.5555 - accuracy: 0.9416 - val_loss: 1.4053 - val_accuracy: 0.8655 - lr: 3.1623e-06\n",
            "Epoch 46/100\n",
            "52/52 [==============================] - 71s 1s/step - loss: 0.6497 - accuracy: 0.9387 - val_loss: 1.4131 - val_accuracy: 0.8655 - lr: 1.0000e-06\n",
            "Epoch 47/100\n",
            "52/52 [==============================] - 71s 1s/step - loss: 0.5812 - accuracy: 0.9401 - val_loss: 1.4270 - val_accuracy: 0.8655 - lr: 1.0000e-06\n",
            "Epoch 48/100\n",
            "52/52 [==============================] - 72s 1s/step - loss: 0.5694 - accuracy: 0.9419 - val_loss: 1.4266 - val_accuracy: 0.8643 - lr: 1.0000e-06\n",
            "Epoch 49/100\n",
            "52/52 [==============================] - 71s 1s/step - loss: 0.5450 - accuracy: 0.9443 - val_loss: 1.4200 - val_accuracy: 0.8643 - lr: 1.0000e-06\n",
            "Epoch 50/100\n",
            "52/52 [==============================] - 71s 1s/step - loss: 0.6052 - accuracy: 0.9397 - val_loss: 1.4307 - val_accuracy: 0.8631 - lr: 1.0000e-06\n",
            "Epoch 51/100\n",
            "52/52 [==============================] - 71s 1s/step - loss: 0.5116 - accuracy: 0.9457 - val_loss: 1.4303 - val_accuracy: 0.8631 - lr: 5.0000e-07\n",
            "Epoch 52/100\n",
            "52/52 [==============================] - 71s 1s/step - loss: 0.5674 - accuracy: 0.9401 - val_loss: 1.4361 - val_accuracy: 0.8625 - lr: 5.0000e-07\n",
            "Epoch 53/100\n",
            "52/52 [==============================] - 71s 1s/step - loss: 0.5652 - accuracy: 0.9369 - val_loss: 1.4321 - val_accuracy: 0.8637 - lr: 5.0000e-07\n",
            "Epoch 54/100\n",
            "52/52 [==============================] - 71s 1s/step - loss: 0.6123 - accuracy: 0.9387 - val_loss: 1.4369 - val_accuracy: 0.8625 - lr: 5.0000e-07\n",
            "Epoch 55/100\n",
            "52/52 [==============================] - 71s 1s/step - loss: 0.5738 - accuracy: 0.9402 - val_loss: 1.4371 - val_accuracy: 0.8631 - lr: 5.0000e-07\n",
            "Epoch 56/100\n",
            "52/52 [==============================] - 71s 1s/step - loss: 0.5996 - accuracy: 0.9361 - val_loss: 1.4356 - val_accuracy: 0.8625 - lr: 5.0000e-07\n",
            "Epoch 57/100\n",
            "52/52 [==============================] - 72s 1s/step - loss: 0.6104 - accuracy: 0.9375 - val_loss: 1.4359 - val_accuracy: 0.8625 - lr: 5.0000e-07\n",
            "Epoch 58/100\n",
            "52/52 [==============================] - 71s 1s/step - loss: 0.6071 - accuracy: 0.9393 - val_loss: 1.4345 - val_accuracy: 0.8625 - lr: 5.0000e-07\n",
            "Epoch 59/100\n",
            "52/52 [==============================] - 71s 1s/step - loss: 0.5561 - accuracy: 0.9365 - val_loss: 1.4254 - val_accuracy: 0.8631 - lr: 5.0000e-07\n",
            "Epoch 60/100\n",
            "52/52 [==============================] - 71s 1s/step - loss: 0.5846 - accuracy: 0.9402 - val_loss: 1.4194 - val_accuracy: 0.8631 - lr: 5.0000e-07\n",
            "Epoch 61/100\n",
            "52/52 [==============================] - 71s 1s/step - loss: 0.6454 - accuracy: 0.9379 - val_loss: 1.4168 - val_accuracy: 0.8649 - lr: 5.0000e-07\n"
          ]
        }
      ]
    },
    {
      "cell_type": "markdown",
      "source": [
        "# RESULTS"
      ],
      "metadata": {
        "id": "4GVJ4dbdzV64"
      }
    },
    {
      "cell_type": "code",
      "source": [
        "#Plot the results\n",
        "train_acc = hist.history['accuracy']\n",
        "val_acc = hist.history['val_accuracy']\n",
        "\n",
        "train_loss = hist.history['loss']\n",
        "val_loss = hist.history['val_loss']\n",
        "epochs_range = range(1, len(hist.epoch) + 1)\n",
        "\n",
        "plt.figure(figsize = (15,5))\n",
        "#accuracy\n",
        "plt.subplot(1, 2, 1)\n",
        "plt.plot(epochs_range, train_acc, label = 'Training Set')\n",
        "plt.plot(epochs_range, val_acc, label = 'Validation Set')\n",
        "plt.legend(loc = \"best\")\n",
        "plt.xlabel('Epochs')\n",
        "plt.ylabel('Accuracy')\n",
        "plt.title('Traning-Validation Accuracy')\n",
        "#loss\n",
        "plt.subplot(1, 2, 2)\n",
        "plt.plot(epochs_range, train_loss, label = 'Training Set')\n",
        "plt.plot(epochs_range, val_loss, label = 'Validation Set')\n",
        "plt.legend(loc=\"best\")\n",
        "plt.xlabel('Epochs')\n",
        "plt.ylabel('Loss')\n",
        "plt.title('Traning-Validation Loss')\n",
        "plt.tight_layout()\n",
        "plt.show()"
      ],
      "metadata": {
        "id": "BIic9yk4zENe",
        "colab": {
          "base_uri": "https://localhost:8080/",
          "height": 369
        },
        "outputId": "148580c1-ae89-49a3-eb5f-0dade8d09dc8"
      },
      "execution_count": 22,
      "outputs": [
        {
          "output_type": "display_data",
          "data": {
            "image/png": "[encoded data removed]",
            "text/plain": [
              "<Figure size 1080x360 with 2 Axes>"
            ]
          },
          "metadata": {
            "needs_background": "light"
          }
        }
      ]
    },
    {
      "cell_type": "markdown",
      "source": [
        "# EVALUATION"
      ],
      "metadata": {
        "id": "iXMLQ2wfzMOS"
      }
    },
    {
      "cell_type": "code",
      "source": [
        "#Evaluate on training data\n",
        "train_score = model.evaluate(train_data)\n",
        "print('Train loss {:.4f}, accuracy {:.2f}%'.format(train_score[0], train_score[1] * 100))"
      ],
      "metadata": {
        "id": "N91YaXe-zEWK",
        "colab": {
          "base_uri": "https://localhost:8080/"
        },
        "outputId": "0522ff73-846f-4281-9672-8b30e6b85f9f"
      },
      "execution_count": 23,
      "outputs": [
        {
          "output_type": "stream",
          "name": "stdout",
          "text": [
            "52/52 [==============================] - 57s 1s/step - loss: 0.0115 - accuracy: 0.9974\n",
            "Train loss 0.0115, accuracy 99.74%\n"
          ]
        }
      ]
    },
    {
      "cell_type": "code",
      "source": [
        "#Evaluate on validation data\n",
        "val_score = model.evaluate(val_data)\n",
        "print('Validation loss {:.4f}, accuracy {:.2f}%'.format(val_score[0], val_score[1] * 100))"
      ],
      "metadata": {
        "id": "rDHKH56fzE-9",
        "colab": {
          "base_uri": "https://localhost:8080/"
        },
        "outputId": "a61996c8-2ef8-4a46-b678-e2ad7b5faf5f"
      },
      "execution_count": 24,
      "outputs": [
        {
          "output_type": "stream",
          "name": "stdout",
          "text": [
            "13/13 [==============================] - 15s 1s/step - loss: 1.4168 - accuracy: 0.8649\n",
            "Validation loss 1.4168, accuracy 86.49%\n"
          ]
        }
      ]
    },
    {
      "cell_type": "code",
      "metadata": {
        "id": "LG8fAj1cEE_H",
        "colab": {
          "base_uri": "https://localhost:8080/"
        },
        "outputId": "7413ad8a-c46c-48f0-a44b-37542a71f29c"
      },
      "source": [
        "#Evaluate on test data\n",
        "test_score = model.evaluate(test_data)\n",
        "print('Test loss {:.4f}, accuracy {:.2f}%'.format(test_score[0], test_score[1] * 100))"
      ],
      "execution_count": 25,
      "outputs": [
        {
          "output_type": "stream",
          "name": "stdout",
          "text": [
            "32/32 [==============================] - 29s 605ms/step - loss: 1.4316 - accuracy: 0.8524\n",
            "Test loss 1.4316, accuracy 85.24%\n"
          ]
        }
      ]
    },
    {
      "cell_type": "code",
      "metadata": {
        "id": "E_vGNv0AEJaq"
      },
      "source": [
        "#True and predicted value calculation\n",
        "class_labels = list(test_data.class_indices.keys())\n",
        "y_pred = []\n",
        "y_true = []\n",
        "ctr = 0\n",
        "for batch, label in test_data:\n",
        "    prediction = model.predict(batch).argmax(axis = -1)\n",
        "    y_pred.extend(prediction)\n",
        "    y_true.extend(label.argmax(axis = -1))\n",
        "    ctr += len(prediction)\n",
        "    if ctr >= len(test_data.labels):\n",
        "        break"
      ],
      "execution_count": 26,
      "outputs": []
    },
    {
      "cell_type": "code",
      "metadata": {
        "id": "-jkTMtlumBq0",
        "colab": {
          "base_uri": "https://localhost:8080/",
          "height": 279
        },
        "outputId": "b5c0a271-d8f3-4926-b000-ede958bbdf85"
      },
      "source": [
        "#Confusion Matrix\n",
        "from sklearn.metrics import confusion_matrix, ConfusionMatrixDisplay\n",
        "cm = confusion_matrix(y_true, y_pred)\n",
        "ConfusionMatrixDisplay(confusion_matrix = cm, display_labels = class_labels).plot()\n",
        "plt.show()"
      ],
      "execution_count": 27,
      "outputs": [
        {
          "output_type": "display_data",
          "data": {
            "image/png": "[encoded data removed]",
            "text/plain": [
              "<Figure size 432x288 with 2 Axes>"
            ]
          },
          "metadata": {
            "needs_background": "light"
          }
        }
      ]
    },
    {
      "cell_type": "code",
      "metadata": {
        "id": "QcRxge3_4NOx",
        "colab": {
          "base_uri": "https://localhost:8080/"
        },
        "outputId": "0100767d-b079-492f-8e79-c0d9f4b6518a"
      },
      "source": [
        "#Performance Evaluation\n",
        "from sklearn.metrics import accuracy_score, precision_score, recall_score, f1_score, classification_report\n",
        "print('Accuracy: {:.3f}%'.format(accuracy_score(y_true, y_pred)*100))\n",
        "print('Precision: {:.3f}%'.format(precision_score(y_true, y_pred, average = 'micro')*100))\n",
        "print('Recall: {:.3f}%'.format(recall_score(y_true, y_pred, average = 'micro')*100))\n",
        "print('F1-score: {:.3f}%\\n'.format(f1_score(y_true, y_pred, average = 'micro')*100))\n",
        "\n",
        "print('\\nClassification Report:\\n')\n",
        "print(classification_report(y_true, y_pred, target_names = class_labels))"
      ],
      "execution_count": 28,
      "outputs": [
        {
          "output_type": "stream",
          "name": "stdout",
          "text": [
            "Accuracy: 85.239%\n",
            "Precision: 85.239%\n",
            "Recall: 85.239%\n",
            "F1-score: 85.239%\n",
            "\n",
            "\n",
            "Classification Report:\n",
            "\n",
            "                  precision    recall  f1-score   support\n",
            "\n",
            "    MildDemented       0.90      0.66      0.77       143\n",
            "ModerateDemented       0.91      1.00      0.95        10\n",
            "     NonDemented       0.88      0.91      0.89       512\n",
            "VeryMildDemented       0.80      0.84      0.82       358\n",
            "\n",
            "        accuracy                           0.85      1023\n",
            "       macro avg       0.87      0.85      0.86      1023\n",
            "    weighted avg       0.85      0.85      0.85      1023\n",
            "\n"
          ]
        }
      ]
    }
  ]
}