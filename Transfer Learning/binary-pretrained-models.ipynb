{
 "cells": [
  {
   "cell_type": "code",
   "execution_count": 1,
   "id": "1abc5abd",
   "metadata": {
    "execution": {
     "iopub.execute_input": "2022-03-19T08:00:46.627698Z",
     "iopub.status.busy": "2022-03-19T08:00:46.626204Z",
     "iopub.status.idle": "2022-03-19T08:00:51.566332Z",
     "shell.execute_reply": "2022-03-19T08:00:51.565675Z",
     "shell.execute_reply.started": "2022-03-19T05:01:40.909440Z"
    },
    "id": "WgllZkdgn2oh",
    "papermill": {
     "duration": 4.981444,
     "end_time": "2022-03-19T08:00:51.566487",
     "exception": false,
     "start_time": "2022-03-19T08:00:46.585043",
     "status": "completed"
    },
    "tags": []
   },
   "outputs": [],
   "source": [
    "#Import Libraries\n",
    "from keras.applications.imagenet_utils import preprocess_input\n",
    "from keras.preprocessing.image import ImageDataGenerator\n",
    "from keras.applications.resnet import ResNet152\n",
    "from keras.applications.vgg19 import VGG19\n",
    "from keras.applications.vgg16 import VGG16\n",
    "from keras.callbacks import EarlyStopping\n",
    "from keras.models import Sequential\n",
    "import matplotlib.pyplot as plt\n",
    "from keras import layers\n",
    "import tensorflow as tf\n",
    "import numpy as np"
   ]
  },
  {
   "cell_type": "code",
   "execution_count": 2,
   "id": "18741de4",
   "metadata": {
    "execution": {
     "iopub.execute_input": "2022-03-19T08:00:51.643293Z",
     "iopub.status.busy": "2022-03-19T08:00:51.642618Z",
     "iopub.status.idle": "2022-03-19T08:00:51.645302Z",
     "shell.execute_reply": "2022-03-19T08:00:51.644906Z",
     "shell.execute_reply.started": "2022-03-19T05:01:45.637422Z"
    },
    "id": "DdKP6T92pHAL",
    "papermill": {
     "duration": 0.041543,
     "end_time": "2022-03-19T08:00:51.645417",
     "exception": false,
     "start_time": "2022-03-19T08:00:51.603874",
     "status": "completed"
    },
    "tags": []
   },
   "outputs": [],
   "source": [
    "#load the directories\n",
    "training_dir = '../input/twoclasses/BinDataset/Training'\n",
    "val_dir = '../input/twoclasses/BinDataset/Validation'"
   ]
  },
  {
   "cell_type": "code",
   "execution_count": 3,
   "id": "c416db6d",
   "metadata": {
    "execution": {
     "iopub.execute_input": "2022-03-19T08:00:51.722818Z",
     "iopub.status.busy": "2022-03-19T08:00:51.722227Z",
     "iopub.status.idle": "2022-03-19T08:00:51.724530Z",
     "shell.execute_reply": "2022-03-19T08:00:51.724916Z",
     "shell.execute_reply.started": "2022-03-19T05:01:45.643959Z"
    },
    "id": "S2GU-GdXlhxJ",
    "papermill": {
     "duration": 0.042397,
     "end_time": "2022-03-19T08:00:51.725044",
     "exception": false,
     "start_time": "2022-03-19T08:00:51.682647",
     "status": "completed"
    },
    "tags": []
   },
   "outputs": [],
   "source": [
    "#Variables declaration\n",
    "IMG_SIZE = (224,224)\n",
    "EPOCHS   = 100\n",
    "BATCH_SIZE  = 128\n",
    "RANDOM_SEED = 1403\n",
    "augmentation     = True\n",
    "rotation_range   = 0.1\n",
    "zoom_range       = 0.1\n",
    "shear_range      = 0.1\n",
    "fill_mode        = 'nearest'"
   ]
  },
  {
   "cell_type": "code",
   "execution_count": 4,
   "id": "e0d941a3",
   "metadata": {
    "execution": {
     "iopub.execute_input": "2022-03-19T08:00:51.801269Z",
     "iopub.status.busy": "2022-03-19T08:00:51.800572Z",
     "iopub.status.idle": "2022-03-19T08:00:51.802487Z",
     "shell.execute_reply": "2022-03-19T08:00:51.802899Z",
     "shell.execute_reply.started": "2022-03-19T05:01:45.652948Z"
    },
    "id": "Bzmi2KrzmS_S",
    "papermill": {
     "duration": 0.042448,
     "end_time": "2022-03-19T08:00:51.803027",
     "exception": false,
     "start_time": "2022-03-19T08:00:51.760579",
     "status": "completed"
    },
    "tags": []
   },
   "outputs": [],
   "source": [
    "if augmentation:\n",
    "    train_datagen   = ImageDataGenerator(preprocessing_function = preprocess_input,\n",
    "                                         rotation_range     = rotation_range,\n",
    "                                         zoom_range         = zoom_range,\n",
    "                                         shear_range        = shear_range,\n",
    "                                         fill_mode          = fill_mode)\n",
    "else:\n",
    "    train_datagen   = ImageDataGenerator(preprocessing_function = preprocess_input)\n",
    "\n",
    "val_datagen         = ImageDataGenerator(preprocessing_function = preprocess_input)"
   ]
  },
  {
   "cell_type": "code",
   "execution_count": 5,
   "id": "1c714223",
   "metadata": {
    "execution": {
     "iopub.execute_input": "2022-03-19T08:00:51.880891Z",
     "iopub.status.busy": "2022-03-19T08:00:51.880293Z",
     "iopub.status.idle": "2022-03-19T08:01:00.342147Z",
     "shell.execute_reply": "2022-03-19T08:01:00.342667Z",
     "shell.execute_reply.started": "2022-03-19T05:01:45.663250Z"
    },
    "id": "JZLym9P5mXD4",
    "outputId": "37a44304-7e0c-4a0a-b9f3-7a351c1cb6cf",
    "papermill": {
     "duration": 8.503107,
     "end_time": "2022-03-19T08:01:00.342810",
     "exception": false,
     "start_time": "2022-03-19T08:00:51.839703",
     "status": "completed"
    },
    "tags": []
   },
   "outputs": [
    {
     "name": "stdout",
     "output_type": "stream",
     "text": [
      "Found 6829 images belonging to 2 classes.\n",
      "Found 2101 images belonging to 2 classes.\n"
     ]
    }
   ],
   "source": [
    "train_data = train_datagen.flow_from_directory(\n",
    "    training_dir,\n",
    "    target_size = IMG_SIZE,\n",
    "    color_mode  = 'rgb',\n",
    "    class_mode  = 'binary',\n",
    "    shuffle     = 'True',\n",
    "    batch_size  = BATCH_SIZE,\n",
    "    seed        = RANDOM_SEED\n",
    ")\n",
    "\n",
    "val_data = val_datagen.flow_from_directory(\n",
    "    val_dir,\n",
    "    target_size = IMG_SIZE,\n",
    "    color_mode  = 'rgb',\n",
    "    class_mode  = 'binary',\n",
    "    shuffle     = 'True',\n",
    "    batch_size  = BATCH_SIZE,\n",
    "    seed        = RANDOM_SEED\n",
    ")"
   ]
  },
  {
   "cell_type": "markdown",
   "id": "ad605a53",
   "metadata": {
    "id": "iNp92yca3Vgi",
    "papermill": {
     "duration": 0.036368,
     "end_time": "2022-03-19T08:01:00.416039",
     "exception": false,
     "start_time": "2022-03-19T08:01:00.379671",
     "status": "completed"
    },
    "tags": []
   },
   "source": [
    "# Model"
   ]
  },
  {
   "cell_type": "code",
   "execution_count": 6,
   "id": "f45359f3",
   "metadata": {
    "execution": {
     "iopub.execute_input": "2022-03-19T08:01:00.500540Z",
     "iopub.status.busy": "2022-03-19T08:01:00.499720Z",
     "iopub.status.idle": "2022-03-19T08:01:00.501749Z",
     "shell.execute_reply": "2022-03-19T08:01:00.502189Z",
     "shell.execute_reply.started": "2022-03-19T05:01:49.803020Z"
    },
    "id": "95LuL_U7yTfH",
    "papermill": {
     "duration": 0.049671,
     "end_time": "2022-03-19T08:01:00.502322",
     "exception": false,
     "start_time": "2022-03-19T08:01:00.452651",
     "status": "completed"
    },
    "tags": []
   },
   "outputs": [],
   "source": [
    "def create_compile_fit_model(model_name):\n",
    "    if(model_name == 'ResNet152'):\n",
    "        base_model = ResNet152(weights ='imagenet', include_top = False, input_shape = IMG_SIZE + (3,))\n",
    "    if(model_name == 'VGG16'):\n",
    "        base_model = VGG16(weights ='imagenet', include_top = False, input_shape = IMG_SIZE + (3,))\n",
    "    if(model_name == 'VGG19'):\n",
    "        base_model = VGG19(weights ='imagenet', include_top = False, input_shape = IMG_SIZE + (3,))\n",
    "\n",
    "    model = Sequential()\n",
    "    model.add(base_model)\n",
    "    model.add(layers.Dropout(0.2))\n",
    "    model.add(layers.Flatten())\n",
    "    model.add(layers.BatchNormalization())\n",
    "    model.add(layers.Dropout(0.2))\n",
    "    model.add(layers.Dense(1, activation = 'sigmoid'))\n",
    "    model.layers[0].trainable = False\n",
    "\n",
    "    #Compile the model\n",
    "    model.compile(optimizer = 'adam', loss = 'binary_crossentropy', metrics = ['accuracy'])\n",
    "\n",
    "    #Stopping criteria\n",
    "    es     = EarlyStopping(monitor = 'val_loss', mode = 'min',patience = 10)\n",
    "    reduce_lr = tf.keras.callbacks.ReduceLROnPlateau(factor = np.sqrt(0.1), patience = 5,cooldown = 0, min_lr = 0.5e-6)\n",
    "    model_checkpoint = tf.keras.callbacks.ModelCheckpoint('./binary_pretrained_' + model_name + '.h5', monitor = 'val_accuracy', save_best_only = True, mode = 'max')\n",
    "\n",
    "    #Fit the model\n",
    "    hist = model.fit(train_data, batch_size = BATCH_SIZE, epochs = EPOCHS, shuffle = True,\n",
    "                     validation_data = val_data,callbacks = [es, model_checkpoint, reduce_lr], verbose = 1)\n",
    "\n",
    "    return model, hist"
   ]
  },
  {
   "cell_type": "markdown",
   "id": "63744fc4",
   "metadata": {
    "id": "ClCv1XB-3d67",
    "papermill": {
     "duration": 0.036621,
     "end_time": "2022-03-19T08:01:00.575244",
     "exception": false,
     "start_time": "2022-03-19T08:01:00.538623",
     "status": "completed"
    },
    "tags": []
   },
   "source": [
    "# Plot"
   ]
  },
  {
   "cell_type": "code",
   "execution_count": 7,
   "id": "9173100a",
   "metadata": {
    "execution": {
     "iopub.execute_input": "2022-03-19T08:01:00.657803Z",
     "iopub.status.busy": "2022-03-19T08:01:00.656844Z",
     "iopub.status.idle": "2022-03-19T08:01:00.658944Z",
     "shell.execute_reply": "2022-03-19T08:01:00.659409Z",
     "shell.execute_reply.started": "2022-03-19T05:01:49.819375Z"
    },
    "id": "-ED7JZ0Ozqt0",
    "papermill": {
     "duration": 0.047939,
     "end_time": "2022-03-19T08:01:00.659539",
     "exception": false,
     "start_time": "2022-03-19T08:01:00.611600",
     "status": "completed"
    },
    "tags": []
   },
   "outputs": [],
   "source": [
    "#Plot training-validation accuracy and loss\n",
    "def plot_accuracy_loss(hist):\n",
    "\n",
    "    train_acc = hist.history['accuracy']\n",
    "    val_acc = hist.history['val_accuracy']\n",
    "    print(\"Maximum Accuracy of Train Set {}\".format(max(train_acc)))\n",
    "    print(\"Maximum Accuracy of Validation Set {}\".format(max(val_acc)))\n",
    "\n",
    "    train_loss = hist.history['loss']\n",
    "    val_loss = hist.history['val_loss']\n",
    "    print(\"\\nMinimum Loss of Train Set {}\".format(min(train_loss)))\n",
    "    print(\"Minimum Loss of Validation Set {}\".format(min(val_loss)))\n",
    "\n",
    "    #plot the accuracy and loss of training-validation sets\n",
    "    plt.plot(train_acc)\n",
    "    plt.plot(val_acc)\n",
    "    plt.plot(train_loss)\n",
    "    plt.plot(val_loss)\n",
    "    plt.ylabel(\"Accuracy-Loss\")\n",
    "    plt.xlabel(\"Epoch\")\n",
    "    plt.legend([\"Training Accuracy\",\"Validation Accuracy\",\"Training loss\",\"Validation Loss\"])\n",
    "    plt.show()\n",
    "\n",
    "    \n",
    "#Plot learning rate\n",
    "def plot_learning_rate(hist):\n",
    "    f, ax = plt.subplots()\n",
    "    ax.plot([None] + hist.history['lr'], 'o-')\n",
    "    ax.set_xlabel('Epoch')\n",
    "    ax.set_ylabel('Learning Rate')"
   ]
  },
  {
   "cell_type": "markdown",
   "id": "a4fc8702",
   "metadata": {
    "id": "VpBdjhaINAh1",
    "papermill": {
     "duration": 0.037549,
     "end_time": "2022-03-19T08:01:00.735371",
     "exception": false,
     "start_time": "2022-03-19T08:01:00.697822",
     "status": "completed"
    },
    "tags": []
   },
   "source": [
    "# VGG-16 model"
   ]
  },
  {
   "cell_type": "code",
   "execution_count": 8,
   "id": "99fbc1d3",
   "metadata": {
    "execution": {
     "iopub.execute_input": "2022-03-19T08:01:00.814645Z",
     "iopub.status.busy": "2022-03-19T08:01:00.814135Z",
     "iopub.status.idle": "2022-03-19T08:37:16.633052Z",
     "shell.execute_reply": "2022-03-19T08:37:16.632589Z",
     "shell.execute_reply.started": "2022-03-19T05:01:49.833362Z"
    },
    "id": "N_pXCZN7NHHt",
    "outputId": "5bb217b0-ec6b-4762-d6a0-2e7e6be08d4c",
    "papermill": {
     "duration": 2175.860349,
     "end_time": "2022-03-19T08:37:16.633191",
     "exception": false,
     "start_time": "2022-03-19T08:01:00.772842",
     "status": "completed"
    },
    "tags": []
   },
   "outputs": [
    {
     "name": "stderr",
     "output_type": "stream",
     "text": [
      "2022-03-19 08:01:00.902940: I tensorflow/stream_executor/cuda/cuda_gpu_executor.cc:937] successful NUMA node read from SysFS had negative value (-1), but there must be at least one NUMA node, so returning NUMA node zero\n",
      "2022-03-19 08:01:00.988366: I tensorflow/stream_executor/cuda/cuda_gpu_executor.cc:937] successful NUMA node read from SysFS had negative value (-1), but there must be at least one NUMA node, so returning NUMA node zero\n",
      "2022-03-19 08:01:00.989030: I tensorflow/stream_executor/cuda/cuda_gpu_executor.cc:937] successful NUMA node read from SysFS had negative value (-1), but there must be at least one NUMA node, so returning NUMA node zero\n",
      "2022-03-19 08:01:00.990140: I tensorflow/core/platform/cpu_feature_guard.cc:142] This TensorFlow binary is optimized with oneAPI Deep Neural Network Library (oneDNN) to use the following CPU instructions in performance-critical operations:  AVX2 AVX512F FMA\n",
      "To enable them in other operations, rebuild TensorFlow with the appropriate compiler flags.\n",
      "2022-03-19 08:01:00.991157: I tensorflow/stream_executor/cuda/cuda_gpu_executor.cc:937] successful NUMA node read from SysFS had negative value (-1), but there must be at least one NUMA node, so returning NUMA node zero\n",
      "2022-03-19 08:01:00.991795: I tensorflow/stream_executor/cuda/cuda_gpu_executor.cc:937] successful NUMA node read from SysFS had negative value (-1), but there must be at least one NUMA node, so returning NUMA node zero\n",
      "2022-03-19 08:01:00.992407: I tensorflow/stream_executor/cuda/cuda_gpu_executor.cc:937] successful NUMA node read from SysFS had negative value (-1), but there must be at least one NUMA node, so returning NUMA node zero\n",
      "2022-03-19 08:01:02.852960: I tensorflow/stream_executor/cuda/cuda_gpu_executor.cc:937] successful NUMA node read from SysFS had negative value (-1), but there must be at least one NUMA node, so returning NUMA node zero\n",
      "2022-03-19 08:01:02.853755: I tensorflow/stream_executor/cuda/cuda_gpu_executor.cc:937] successful NUMA node read from SysFS had negative value (-1), but there must be at least one NUMA node, so returning NUMA node zero\n",
      "2022-03-19 08:01:02.854452: I tensorflow/stream_executor/cuda/cuda_gpu_executor.cc:937] successful NUMA node read from SysFS had negative value (-1), but there must be at least one NUMA node, so returning NUMA node zero\n",
      "2022-03-19 08:01:02.855029: I tensorflow/core/common_runtime/gpu/gpu_device.cc:1510] Created device /job:localhost/replica:0/task:0/device:GPU:0 with 15403 MB memory:  -> device: 0, name: Tesla P100-PCIE-16GB, pci bus id: 0000:00:04.0, compute capability: 6.0\n"
     ]
    },
    {
     "name": "stdout",
     "output_type": "stream",
     "text": [
      "Downloading data from https://storage.googleapis.com/tensorflow/keras-applications/vgg16/vgg16_weights_tf_dim_ordering_tf_kernels_notop.h5\n",
      "58892288/58889256 [==============================] - 0s 0us/step\n",
      "58900480/58889256 [==============================] - 0s 0us/step\n"
     ]
    },
    {
     "name": "stderr",
     "output_type": "stream",
     "text": [
      "2022-03-19 08:01:06.109785: I tensorflow/compiler/mlir/mlir_graph_optimization_pass.cc:185] None of the MLIR Optimization Passes are enabled (registered 2)\n"
     ]
    },
    {
     "name": "stdout",
     "output_type": "stream",
     "text": [
      "Epoch 1/100\n"
     ]
    },
    {
     "name": "stderr",
     "output_type": "stream",
     "text": [
      "2022-03-19 08:01:09.600912: I tensorflow/stream_executor/cuda/cuda_dnn.cc:369] Loaded cuDNN version 8005\n"
     ]
    },
    {
     "name": "stdout",
     "output_type": "stream",
     "text": [
      "54/54 [==============================] - 138s 2s/step - loss: 0.3337 - accuracy: 0.8421 - val_loss: 0.3233 - val_accuracy: 0.8743\n",
      "Epoch 2/100\n",
      "54/54 [==============================] - 86s 2s/step - loss: 0.1516 - accuracy: 0.9444 - val_loss: 0.1290 - val_accuracy: 0.9481\n",
      "Epoch 3/100\n",
      "54/54 [==============================] - 86s 2s/step - loss: 0.1061 - accuracy: 0.9668 - val_loss: 0.0926 - val_accuracy: 0.9667\n",
      "Epoch 4/100\n",
      "54/54 [==============================] - 85s 2s/step - loss: 0.0840 - accuracy: 0.9725 - val_loss: 0.0730 - val_accuracy: 0.9757\n",
      "Epoch 5/100\n",
      "54/54 [==============================] - 86s 2s/step - loss: 0.0722 - accuracy: 0.9764 - val_loss: 0.0609 - val_accuracy: 0.9805\n",
      "Epoch 6/100\n",
      "54/54 [==============================] - 85s 2s/step - loss: 0.0670 - accuracy: 0.9783 - val_loss: 0.0516 - val_accuracy: 0.9819\n",
      "Epoch 7/100\n",
      "54/54 [==============================] - 86s 2s/step - loss: 0.0639 - accuracy: 0.9818 - val_loss: 0.0465 - val_accuracy: 0.9852\n",
      "Epoch 8/100\n",
      "54/54 [==============================] - 86s 2s/step - loss: 0.0605 - accuracy: 0.9782 - val_loss: 0.0638 - val_accuracy: 0.9791\n",
      "Epoch 9/100\n",
      "54/54 [==============================] - 86s 2s/step - loss: 0.0508 - accuracy: 0.9842 - val_loss: 0.0435 - val_accuracy: 0.9862\n",
      "Epoch 10/100\n",
      "54/54 [==============================] - 86s 2s/step - loss: 0.0534 - accuracy: 0.9808 - val_loss: 0.0464 - val_accuracy: 0.9881\n",
      "Epoch 11/100\n",
      "54/54 [==============================] - 86s 2s/step - loss: 0.0457 - accuracy: 0.9837 - val_loss: 0.0518 - val_accuracy: 0.9871\n",
      "Epoch 12/100\n",
      "54/54 [==============================] - 86s 2s/step - loss: 0.0536 - accuracy: 0.9796 - val_loss: 0.0381 - val_accuracy: 0.9905\n",
      "Epoch 13/100\n",
      "54/54 [==============================] - 86s 2s/step - loss: 0.0443 - accuracy: 0.9845 - val_loss: 0.0505 - val_accuracy: 0.9886\n",
      "Epoch 14/100\n",
      "54/54 [==============================] - 86s 2s/step - loss: 0.0442 - accuracy: 0.9843 - val_loss: 0.0593 - val_accuracy: 0.9829\n",
      "Epoch 15/100\n",
      "54/54 [==============================] - 86s 2s/step - loss: 0.0481 - accuracy: 0.9818 - val_loss: 0.0510 - val_accuracy: 0.9871\n",
      "Epoch 16/100\n",
      "54/54 [==============================] - 86s 2s/step - loss: 0.0436 - accuracy: 0.9856 - val_loss: 0.0538 - val_accuracy: 0.9886\n",
      "Epoch 17/100\n",
      "54/54 [==============================] - 86s 2s/step - loss: 0.0421 - accuracy: 0.9842 - val_loss: 0.0553 - val_accuracy: 0.9876\n",
      "Epoch 18/100\n",
      "54/54 [==============================] - 87s 2s/step - loss: 0.0436 - accuracy: 0.9837 - val_loss: 0.0585 - val_accuracy: 0.9857\n",
      "Epoch 19/100\n",
      "54/54 [==============================] - 85s 2s/step - loss: 0.0331 - accuracy: 0.9892 - val_loss: 0.0570 - val_accuracy: 0.9891\n",
      "Epoch 20/100\n",
      "54/54 [==============================] - 87s 2s/step - loss: 0.0325 - accuracy: 0.9886 - val_loss: 0.0609 - val_accuracy: 0.9881\n",
      "Epoch 21/100\n",
      "54/54 [==============================] - 86s 2s/step - loss: 0.0363 - accuracy: 0.9873 - val_loss: 0.0537 - val_accuracy: 0.9881\n",
      "Epoch 22/100\n",
      "54/54 [==============================] - 87s 2s/step - loss: 0.0327 - accuracy: 0.9899 - val_loss: 0.0555 - val_accuracy: 0.9862\n"
     ]
    }
   ],
   "source": [
    "#VGG-16 Model\n",
    "vgg16_model, vgg16_history = create_compile_fit_model('VGG16')"
   ]
  },
  {
   "cell_type": "code",
   "execution_count": 9,
   "id": "fff60689",
   "metadata": {
    "execution": {
     "iopub.execute_input": "2022-03-19T08:37:17.689741Z",
     "iopub.status.busy": "2022-03-19T08:37:17.688965Z",
     "iopub.status.idle": "2022-03-19T08:37:17.693463Z",
     "shell.execute_reply": "2022-03-19T08:37:17.694015Z",
     "shell.execute_reply.started": "2022-03-19T05:32:51.730893Z"
    },
    "id": "w50cpJV4NSbL",
    "outputId": "64979335-f751-4943-a678-d719b0f24d87",
    "papermill": {
     "duration": 0.647242,
     "end_time": "2022-03-19T08:37:17.694198",
     "exception": false,
     "start_time": "2022-03-19T08:37:17.046956",
     "status": "completed"
    },
    "tags": []
   },
   "outputs": [
    {
     "name": "stdout",
     "output_type": "stream",
     "text": [
      "Model: \"sequential\"\n",
      "_________________________________________________________________\n",
      "Layer (type)                 Output Shape              Param #   \n",
      "=================================================================\n",
      "vgg16 (Functional)           (None, 7, 7, 512)         14714688  \n",
      "_________________________________________________________________\n",
      "dropout (Dropout)            (None, 7, 7, 512)         0         \n",
      "_________________________________________________________________\n",
      "flatten (Flatten)            (None, 25088)             0         \n",
      "_________________________________________________________________\n",
      "batch_normalization (BatchNo (None, 25088)             100352    \n",
      "_________________________________________________________________\n",
      "dropout_1 (Dropout)          (None, 25088)             0         \n",
      "_________________________________________________________________\n",
      "dense (Dense)                (None, 1)                 25089     \n",
      "=================================================================\n",
      "Total params: 14,840,129\n",
      "Trainable params: 75,265\n",
      "Non-trainable params: 14,764,864\n",
      "_________________________________________________________________\n"
     ]
    }
   ],
   "source": [
    "#Summary of VGG-16 model\n",
    "vgg16_model.summary()"
   ]
  },
  {
   "cell_type": "code",
   "execution_count": 10,
   "id": "9c570788",
   "metadata": {
    "execution": {
     "iopub.execute_input": "2022-03-19T08:37:18.545038Z",
     "iopub.status.busy": "2022-03-19T08:37:18.542384Z",
     "iopub.status.idle": "2022-03-19T08:37:18.752385Z",
     "shell.execute_reply": "2022-03-19T08:37:18.753075Z",
     "shell.execute_reply.started": "2022-03-19T05:32:51.757458Z"
    },
    "id": "_a0r3mhQNSh_",
    "outputId": "a7afe22c-7c4f-4e3d-ab20-daa2a50acea7",
    "papermill": {
     "duration": 0.631911,
     "end_time": "2022-03-19T08:37:18.753225",
     "exception": false,
     "start_time": "2022-03-19T08:37:18.121314",
     "status": "completed"
    },
    "tags": []
   },
   "outputs": [
    {
     "name": "stdout",
     "output_type": "stream",
     "text": [
      "Maximum Accuracy of Train Set 0.9898960590362549\n",
      "Maximum Accuracy of Validation Set 0.9904807209968567\n",
      "\n",
      "Minimum Loss of Train Set 0.03252314031124115\n",
      "Minimum Loss of Validation Set 0.038105178624391556\n"
     ]
    },
    {
     "data": {
      "image/png": "[encoded data removed]",
      "text/plain": [
       "<Figure size 432x288 with 1 Axes>"
      ]
     },
     "metadata": {
      "needs_background": "light"
     },
     "output_type": "display_data"
    }
   ],
   "source": [
    "#plot accuracy-loss of training-validation set\n",
    "plot_accuracy_loss(vgg16_history)"
   ]
  },
  {
   "cell_type": "code",
   "execution_count": 11,
   "id": "82cfa5d4",
   "metadata": {
    "execution": {
     "iopub.execute_input": "2022-03-19T08:37:19.622077Z",
     "iopub.status.busy": "2022-03-19T08:37:19.620787Z",
     "iopub.status.idle": "2022-03-19T08:37:19.795170Z",
     "shell.execute_reply": "2022-03-19T08:37:19.794399Z",
     "shell.execute_reply.started": "2022-03-19T05:32:52.098769Z"
    },
    "id": "aGqkuadjufN6",
    "outputId": "440cc5ec-776f-4dc0-c692-b7e309a4edac",
    "papermill": {
     "duration": 0.615097,
     "end_time": "2022-03-19T08:37:19.795294",
     "exception": false,
     "start_time": "2022-03-19T08:37:19.180197",
     "status": "completed"
    },
    "tags": []
   },
   "outputs": [
    {
     "data": {
      "image/png": "[encoded data removed]",
      "text/plain": [
       "<Figure size 432x288 with 1 Axes>"
      ]
     },
     "metadata": {
      "needs_background": "light"
     },
     "output_type": "display_data"
    }
   ],
   "source": [
    "#plot learning rate to see how drop it\n",
    "plot_learning_rate(vgg16_history)"
   ]
  },
  {
   "cell_type": "code",
   "execution_count": 12,
   "id": "c7eb436e",
   "metadata": {
    "execution": {
     "iopub.execute_input": "2022-03-19T08:37:20.653746Z",
     "iopub.status.busy": "2022-03-19T08:37:20.644738Z",
     "iopub.status.idle": "2022-03-19T08:37:20.773437Z",
     "shell.execute_reply": "2022-03-19T08:37:20.774743Z",
     "shell.execute_reply.started": "2022-03-19T05:32:52.337791Z"
    },
    "id": "wjDJ7cF_umsJ",
    "papermill": {
     "duration": 0.561648,
     "end_time": "2022-03-19T08:37:20.775034",
     "exception": false,
     "start_time": "2022-03-19T08:37:20.213386",
     "status": "completed"
    },
    "tags": []
   },
   "outputs": [],
   "source": [
    "#save the best fit of VGG-16 model\n",
    "vgg16_model.save('./binary_pretrained_VGG16.h5')"
   ]
  },
  {
   "cell_type": "markdown",
   "id": "53b4dc16",
   "metadata": {
    "id": "PfYZ64NVOeYi",
    "papermill": {
     "duration": 0.414183,
     "end_time": "2022-03-19T08:37:21.622598",
     "exception": false,
     "start_time": "2022-03-19T08:37:21.208415",
     "status": "completed"
    },
    "tags": []
   },
   "source": [
    "# VGG-19 Model"
   ]
  },
  {
   "cell_type": "code",
   "execution_count": 13,
   "id": "73cf3dca",
   "metadata": {
    "execution": {
     "iopub.execute_input": "2022-03-19T08:37:22.466800Z",
     "iopub.status.busy": "2022-03-19T08:37:22.465953Z",
     "iopub.status.idle": "2022-03-19T09:24:53.109725Z",
     "shell.execute_reply": "2022-03-19T09:24:53.109291Z",
     "shell.execute_reply.started": "2022-03-19T05:32:52.498461Z"
    },
    "id": "V1hi0k1X8s5q",
    "papermill": {
     "duration": 2851.071195,
     "end_time": "2022-03-19T09:24:53.109861",
     "exception": false,
     "start_time": "2022-03-19T08:37:22.038666",
     "status": "completed"
    },
    "tags": []
   },
   "outputs": [
    {
     "name": "stdout",
     "output_type": "stream",
     "text": [
      "Downloading data from https://storage.googleapis.com/tensorflow/keras-applications/vgg19/vgg19_weights_tf_dim_ordering_tf_kernels_notop.h5\n",
      "80142336/80134624 [==============================] - 0s 0us/step\n",
      "80150528/80134624 [==============================] - 0s 0us/step\n",
      "Epoch 1/100\n",
      "54/54 [==============================] - 90s 2s/step - loss: 0.3179 - accuracy: 0.8490 - val_loss: 0.1578 - val_accuracy: 0.9357\n",
      "Epoch 2/100\n",
      "54/54 [==============================] - 88s 2s/step - loss: 0.1475 - accuracy: 0.9455 - val_loss: 0.1266 - val_accuracy: 0.9467\n",
      "Epoch 3/100\n",
      "54/54 [==============================] - 87s 2s/step - loss: 0.1051 - accuracy: 0.9635 - val_loss: 0.0731 - val_accuracy: 0.9748\n",
      "Epoch 4/100\n",
      "54/54 [==============================] - 88s 2s/step - loss: 0.0913 - accuracy: 0.9672 - val_loss: 0.0810 - val_accuracy: 0.9719\n",
      "Epoch 5/100\n",
      "54/54 [==============================] - 88s 2s/step - loss: 0.0769 - accuracy: 0.9744 - val_loss: 0.0689 - val_accuracy: 0.9743\n",
      "Epoch 6/100\n",
      "54/54 [==============================] - 89s 2s/step - loss: 0.0641 - accuracy: 0.9780 - val_loss: 0.0539 - val_accuracy: 0.9805\n",
      "Epoch 7/100\n",
      "54/54 [==============================] - 89s 2s/step - loss: 0.0620 - accuracy: 0.9788 - val_loss: 0.0459 - val_accuracy: 0.9843\n",
      "Epoch 8/100\n",
      "54/54 [==============================] - 90s 2s/step - loss: 0.0575 - accuracy: 0.9805 - val_loss: 0.0457 - val_accuracy: 0.9843\n",
      "Epoch 9/100\n",
      "54/54 [==============================] - 90s 2s/step - loss: 0.0601 - accuracy: 0.9782 - val_loss: 0.0515 - val_accuracy: 0.9781\n",
      "Epoch 10/100\n",
      "54/54 [==============================] - 89s 2s/step - loss: 0.0500 - accuracy: 0.9827 - val_loss: 0.0511 - val_accuracy: 0.9810\n",
      "Epoch 11/100\n",
      "54/54 [==============================] - 89s 2s/step - loss: 0.0476 - accuracy: 0.9833 - val_loss: 0.0409 - val_accuracy: 0.9867\n",
      "Epoch 12/100\n",
      "54/54 [==============================] - 89s 2s/step - loss: 0.0481 - accuracy: 0.9826 - val_loss: 0.0429 - val_accuracy: 0.9838\n",
      "Epoch 13/100\n",
      "54/54 [==============================] - 88s 2s/step - loss: 0.0458 - accuracy: 0.9851 - val_loss: 0.0506 - val_accuracy: 0.9781\n",
      "Epoch 14/100\n",
      "54/54 [==============================] - 88s 2s/step - loss: 0.0422 - accuracy: 0.9851 - val_loss: 0.0368 - val_accuracy: 0.9867\n",
      "Epoch 15/100\n",
      "54/54 [==============================] - 88s 2s/step - loss: 0.0446 - accuracy: 0.9832 - val_loss: 0.0456 - val_accuracy: 0.9824\n",
      "Epoch 16/100\n",
      "54/54 [==============================] - 88s 2s/step - loss: 0.0426 - accuracy: 0.9862 - val_loss: 0.0391 - val_accuracy: 0.9843\n",
      "Epoch 17/100\n",
      "54/54 [==============================] - 89s 2s/step - loss: 0.0412 - accuracy: 0.9861 - val_loss: 0.0396 - val_accuracy: 0.9833\n",
      "Epoch 18/100\n",
      "54/54 [==============================] - 88s 2s/step - loss: 0.0338 - accuracy: 0.9893 - val_loss: 0.0333 - val_accuracy: 0.9862\n",
      "Epoch 19/100\n",
      "54/54 [==============================] - 89s 2s/step - loss: 0.0397 - accuracy: 0.9851 - val_loss: 0.0295 - val_accuracy: 0.9881\n",
      "Epoch 20/100\n",
      "54/54 [==============================] - 90s 2s/step - loss: 0.0369 - accuracy: 0.9864 - val_loss: 0.0312 - val_accuracy: 0.9891\n",
      "Epoch 21/100\n",
      "54/54 [==============================] - 90s 2s/step - loss: 0.0379 - accuracy: 0.9852 - val_loss: 0.0493 - val_accuracy: 0.9800\n",
      "Epoch 22/100\n",
      "54/54 [==============================] - 89s 2s/step - loss: 0.0400 - accuracy: 0.9842 - val_loss: 0.0319 - val_accuracy: 0.9881\n",
      "Epoch 23/100\n",
      "54/54 [==============================] - 89s 2s/step - loss: 0.0344 - accuracy: 0.9881 - val_loss: 0.0322 - val_accuracy: 0.9871\n",
      "Epoch 24/100\n",
      "54/54 [==============================] - 90s 2s/step - loss: 0.0320 - accuracy: 0.9887 - val_loss: 0.0347 - val_accuracy: 0.9867\n",
      "Epoch 25/100\n",
      "54/54 [==============================] - 89s 2s/step - loss: 0.0341 - accuracy: 0.9890 - val_loss: 0.0320 - val_accuracy: 0.9886\n",
      "Epoch 26/100\n",
      "54/54 [==============================] - 88s 2s/step - loss: 0.0321 - accuracy: 0.9887 - val_loss: 0.0303 - val_accuracy: 0.9871\n",
      "Epoch 27/100\n",
      "54/54 [==============================] - 89s 2s/step - loss: 0.0344 - accuracy: 0.9870 - val_loss: 0.0324 - val_accuracy: 0.9871\n",
      "Epoch 28/100\n",
      "54/54 [==============================] - 91s 2s/step - loss: 0.0261 - accuracy: 0.9897 - val_loss: 0.0348 - val_accuracy: 0.9857\n",
      "Epoch 29/100\n",
      "54/54 [==============================] - 89s 2s/step - loss: 0.0317 - accuracy: 0.9892 - val_loss: 0.0368 - val_accuracy: 0.9852\n"
     ]
    }
   ],
   "source": [
    "#VGG-19 Model\n",
    "vgg19_model, vgg19_history = create_compile_fit_model('VGG19')"
   ]
  },
  {
   "cell_type": "code",
   "execution_count": 14,
   "id": "f0917143",
   "metadata": {
    "execution": {
     "iopub.execute_input": "2022-03-19T09:24:54.970085Z",
     "iopub.status.busy": "2022-03-19T09:24:54.969245Z",
     "iopub.status.idle": "2022-03-19T09:24:54.974968Z",
     "shell.execute_reply": "2022-03-19T09:24:54.975497Z",
     "shell.execute_reply.started": "2022-03-19T06:35:15.947013Z"
    },
    "id": "gCBDXHyC8tAx",
    "papermill": {
     "duration": 0.931722,
     "end_time": "2022-03-19T09:24:54.975676",
     "exception": false,
     "start_time": "2022-03-19T09:24:54.043954",
     "status": "completed"
    },
    "tags": []
   },
   "outputs": [
    {
     "name": "stdout",
     "output_type": "stream",
     "text": [
      "Model: \"sequential_1\"\n",
      "_________________________________________________________________\n",
      "Layer (type)                 Output Shape              Param #   \n",
      "=================================================================\n",
      "vgg19 (Functional)           (None, 7, 7, 512)         20024384  \n",
      "_________________________________________________________________\n",
      "dropout_2 (Dropout)          (None, 7, 7, 512)         0         \n",
      "_________________________________________________________________\n",
      "flatten_1 (Flatten)          (None, 25088)             0         \n",
      "_________________________________________________________________\n",
      "batch_normalization_1 (Batch (None, 25088)             100352    \n",
      "_________________________________________________________________\n",
      "dropout_3 (Dropout)          (None, 25088)             0         \n",
      "_________________________________________________________________\n",
      "dense_1 (Dense)              (None, 1)                 25089     \n",
      "=================================================================\n",
      "Total params: 20,149,825\n",
      "Trainable params: 75,265\n",
      "Non-trainable params: 20,074,560\n",
      "_________________________________________________________________\n"
     ]
    }
   ],
   "source": [
    "#Summary of VGG-19 model\n",
    "vgg19_model.summary()"
   ]
  },
  {
   "cell_type": "code",
   "execution_count": 15,
   "id": "23906770",
   "metadata": {
    "execution": {
     "iopub.execute_input": "2022-03-19T09:24:56.827808Z",
     "iopub.status.busy": "2022-03-19T09:24:56.826914Z",
     "iopub.status.idle": "2022-03-19T09:24:57.018034Z",
     "shell.execute_reply": "2022-03-19T09:24:57.017552Z",
     "shell.execute_reply.started": "2022-03-19T06:35:15.970306Z"
    },
    "id": "qnbc6INn8yTu",
    "papermill": {
     "duration": 1.128925,
     "end_time": "2022-03-19T09:24:57.018166",
     "exception": false,
     "start_time": "2022-03-19T09:24:55.889241",
     "status": "completed"
    },
    "tags": []
   },
   "outputs": [
    {
     "name": "stdout",
     "output_type": "stream",
     "text": [
      "Maximum Accuracy of Train Set 0.9897496104240417\n",
      "Maximum Accuracy of Validation Set 0.9890528321266174\n",
      "\n",
      "Minimum Loss of Train Set 0.02614770084619522\n",
      "Minimum Loss of Validation Set 0.029537271708250046\n"
     ]
    },
    {
     "data": {
      "image/png": "[encoded data removed]",
      "text/plain": [
       "<Figure size 432x288 with 1 Axes>"
      ]
     },
     "metadata": {
      "needs_background": "light"
     },
     "output_type": "display_data"
    }
   ],
   "source": [
    "#plot accuracy-loss of training-validation set\n",
    "plot_accuracy_loss(vgg19_history)"
   ]
  },
  {
   "cell_type": "code",
   "execution_count": 16,
   "id": "f28df9d2",
   "metadata": {
    "execution": {
     "iopub.execute_input": "2022-03-19T09:24:59.567739Z",
     "iopub.status.busy": "2022-03-19T09:24:59.566649Z",
     "iopub.status.idle": "2022-03-19T09:24:59.785955Z",
     "shell.execute_reply": "2022-03-19T09:24:59.786538Z",
     "shell.execute_reply.started": "2022-03-19T06:36:10.428911Z"
    },
    "papermill": {
     "duration": 1.527995,
     "end_time": "2022-03-19T09:24:59.786737",
     "exception": false,
     "start_time": "2022-03-19T09:24:58.258742",
     "status": "completed"
    },
    "tags": []
   },
   "outputs": [
    {
     "data": {
      "image/png": "[encoded data removed]",
      "text/plain": [
       "<Figure size 432x288 with 1 Axes>"
      ]
     },
     "metadata": {
      "needs_background": "light"
     },
     "output_type": "display_data"
    }
   ],
   "source": [
    "#plot learning rate to see how drop it\n",
    "plot_learning_rate(vgg19_history)"
   ]
  },
  {
   "cell_type": "code",
   "execution_count": 17,
   "id": "5a5c1385",
   "metadata": {
    "execution": {
     "iopub.execute_input": "2022-03-19T09:25:01.730906Z",
     "iopub.status.busy": "2022-03-19T09:25:01.730088Z",
     "iopub.status.idle": "2022-03-19T09:25:01.906333Z",
     "shell.execute_reply": "2022-03-19T09:25:01.907126Z",
     "shell.execute_reply.started": "2022-03-19T06:36:10.606697Z"
    },
    "id": "8L2CheR182nu",
    "papermill": {
     "duration": 1.128115,
     "end_time": "2022-03-19T09:25:01.907386",
     "exception": false,
     "start_time": "2022-03-19T09:25:00.779271",
     "status": "completed"
    },
    "tags": []
   },
   "outputs": [],
   "source": [
    "#save the best fit of VGG-19 model\n",
    "vgg19_model.save('./binary_pretrained_VGG19.h5')"
   ]
  },
  {
   "cell_type": "markdown",
   "id": "7247c575",
   "metadata": {
    "id": "HObFtNMnPxND",
    "papermill": {
     "duration": 0.922205,
     "end_time": "2022-03-19T09:25:03.773215",
     "exception": false,
     "start_time": "2022-03-19T09:25:02.851010",
     "status": "completed"
    },
    "tags": []
   },
   "source": [
    "# ResNet-152 Model"
   ]
  },
  {
   "cell_type": "code",
   "execution_count": 18,
   "id": "0c476fcf",
   "metadata": {
    "execution": {
     "iopub.execute_input": "2022-03-19T09:25:05.679846Z",
     "iopub.status.busy": "2022-03-19T09:25:05.678922Z",
     "iopub.status.idle": "2022-03-19T10:06:56.830496Z",
     "shell.execute_reply": "2022-03-19T10:06:56.831057Z",
     "shell.execute_reply.started": "2022-03-19T06:36:10.818499Z"
    },
    "id": "VtmeR9S-9DU4",
    "papermill": {
     "duration": 2512.091772,
     "end_time": "2022-03-19T10:06:56.831263",
     "exception": false,
     "start_time": "2022-03-19T09:25:04.739491",
     "status": "completed"
    },
    "tags": []
   },
   "outputs": [
    {
     "name": "stdout",
     "output_type": "stream",
     "text": [
      "Downloading data from https://storage.googleapis.com/tensorflow/keras-applications/resnet/resnet152_weights_tf_dim_ordering_tf_kernels_notop.h5\n",
      "234700800/234698864 [==============================] - 2s 0us/step\n",
      "234708992/234698864 [==============================] - 2s 0us/step\n",
      "Epoch 1/100\n",
      "54/54 [==============================] - 106s 2s/step - loss: 0.2710 - accuracy: 0.8928 - val_loss: 0.1045 - val_accuracy: 0.9619\n"
     ]
    },
    {
     "name": "stderr",
     "output_type": "stream",
     "text": [
      "/opt/conda/lib/python3.7/site-packages/keras/utils/generic_utils.py:497: CustomMaskWarning: Custom mask layers require a config and must override get_config. When loading, the custom mask layer must be passed to the custom_objects argument.\n",
      "  category=CustomMaskWarning)\n"
     ]
    },
    {
     "name": "stdout",
     "output_type": "stream",
     "text": [
      "Epoch 2/100\n",
      "54/54 [==============================] - 96s 2s/step - loss: 0.0735 - accuracy: 0.9692 - val_loss: 0.0927 - val_accuracy: 0.9634\n",
      "Epoch 3/100\n",
      "54/54 [==============================] - 96s 2s/step - loss: 0.0444 - accuracy: 0.9842 - val_loss: 0.0772 - val_accuracy: 0.9714\n",
      "Epoch 4/100\n",
      "54/54 [==============================] - 95s 2s/step - loss: 0.0527 - accuracy: 0.9813 - val_loss: 0.0399 - val_accuracy: 0.9838\n",
      "Epoch 5/100\n",
      "54/54 [==============================] - 96s 2s/step - loss: 0.0279 - accuracy: 0.9890 - val_loss: 0.0754 - val_accuracy: 0.9710\n",
      "Epoch 6/100\n",
      "54/54 [==============================] - 96s 2s/step - loss: 0.0288 - accuracy: 0.9896 - val_loss: 0.0296 - val_accuracy: 0.9867\n",
      "Epoch 7/100\n",
      "54/54 [==============================] - 96s 2s/step - loss: 0.0294 - accuracy: 0.9892 - val_loss: 0.0785 - val_accuracy: 0.9738\n",
      "Epoch 8/100\n",
      "54/54 [==============================] - 96s 2s/step - loss: 0.0241 - accuracy: 0.9914 - val_loss: 0.0706 - val_accuracy: 0.9786\n",
      "Epoch 9/100\n",
      "54/54 [==============================] - 96s 2s/step - loss: 0.0208 - accuracy: 0.9915 - val_loss: 0.0816 - val_accuracy: 0.9724\n",
      "Epoch 10/100\n",
      "54/54 [==============================] - 96s 2s/step - loss: 0.0155 - accuracy: 0.9941 - val_loss: 0.0527 - val_accuracy: 0.9786\n",
      "Epoch 11/100\n",
      "54/54 [==============================] - 95s 2s/step - loss: 0.0177 - accuracy: 0.9937 - val_loss: 0.0637 - val_accuracy: 0.9762\n",
      "Epoch 12/100\n",
      "54/54 [==============================] - 95s 2s/step - loss: 0.0262 - accuracy: 0.9902 - val_loss: 0.0395 - val_accuracy: 0.9876\n",
      "Epoch 13/100\n",
      "54/54 [==============================] - 96s 2s/step - loss: 0.0118 - accuracy: 0.9960 - val_loss: 0.0227 - val_accuracy: 0.9938\n",
      "Epoch 14/100\n",
      "54/54 [==============================] - 96s 2s/step - loss: 0.0081 - accuracy: 0.9972 - val_loss: 0.0184 - val_accuracy: 0.9938\n",
      "Epoch 15/100\n",
      "54/54 [==============================] - 93s 2s/step - loss: 0.0082 - accuracy: 0.9975 - val_loss: 0.0154 - val_accuracy: 0.9957\n",
      "Epoch 16/100\n",
      "54/54 [==============================] - 96s 2s/step - loss: 0.0083 - accuracy: 0.9971 - val_loss: 0.0210 - val_accuracy: 0.9914\n",
      "Epoch 17/100\n",
      "54/54 [==============================] - 96s 2s/step - loss: 0.0067 - accuracy: 0.9981 - val_loss: 0.0220 - val_accuracy: 0.9933\n",
      "Epoch 18/100\n",
      "54/54 [==============================] - 95s 2s/step - loss: 0.0103 - accuracy: 0.9965 - val_loss: 0.0327 - val_accuracy: 0.9881\n",
      "Epoch 19/100\n",
      "54/54 [==============================] - 96s 2s/step - loss: 0.0065 - accuracy: 0.9979 - val_loss: 0.0175 - val_accuracy: 0.9948\n",
      "Epoch 20/100\n",
      "54/54 [==============================] - 96s 2s/step - loss: 0.0064 - accuracy: 0.9979 - val_loss: 0.0229 - val_accuracy: 0.9910\n",
      "Epoch 21/100\n",
      "54/54 [==============================] - 95s 2s/step - loss: 0.0052 - accuracy: 0.9981 - val_loss: 0.0180 - val_accuracy: 0.9948\n",
      "Epoch 22/100\n",
      "54/54 [==============================] - 96s 2s/step - loss: 0.0067 - accuracy: 0.9979 - val_loss: 0.0204 - val_accuracy: 0.9938\n",
      "Epoch 23/100\n",
      "54/54 [==============================] - 96s 2s/step - loss: 0.0075 - accuracy: 0.9972 - val_loss: 0.0178 - val_accuracy: 0.9938\n",
      "Epoch 24/100\n",
      "54/54 [==============================] - 96s 2s/step - loss: 0.0030 - accuracy: 0.9991 - val_loss: 0.0178 - val_accuracy: 0.9943\n",
      "Epoch 25/100\n",
      "54/54 [==============================] - 96s 2s/step - loss: 0.0072 - accuracy: 0.9977 - val_loss: 0.0192 - val_accuracy: 0.9943\n"
     ]
    }
   ],
   "source": [
    "#ResNet-152 Model\n",
    "resnet152_model, resnet152_history = create_compile_fit_model('ResNet152')"
   ]
  },
  {
   "cell_type": "code",
   "execution_count": 19,
   "id": "d3c9fa64",
   "metadata": {
    "execution": {
     "iopub.execute_input": "2022-03-19T10:06:59.785411Z",
     "iopub.status.busy": "2022-03-19T10:06:59.784651Z",
     "iopub.status.idle": "2022-03-19T10:07:44.300275Z",
     "shell.execute_reply": "2022-03-19T10:07:44.300975Z",
     "shell.execute_reply.started": "2022-03-19T07:50:01.692688Z"
    },
    "id": "_IISQApo9Fw0",
    "papermill": {
     "duration": 45.942968,
     "end_time": "2022-03-19T10:07:44.301178",
     "exception": false,
     "start_time": "2022-03-19T10:06:58.358210",
     "status": "completed"
    },
    "tags": []
   },
   "outputs": [
    {
     "name": "stdout",
     "output_type": "stream",
     "text": [
      "Model: \"sequential_2\"\n",
      "_________________________________________________________________\n",
      "Layer (type)                 Output Shape              Param #   \n",
      "=================================================================\n",
      "resnet152 (Functional)       (None, 7, 7, 2048)        58370944  \n",
      "_________________________________________________________________\n",
      "dropout_4 (Dropout)          (None, 7, 7, 2048)        0         \n",
      "_________________________________________________________________\n",
      "flatten_2 (Flatten)          (None, 100352)            0         \n",
      "_________________________________________________________________\n",
      "batch_normalization_2 (Batch (None, 100352)            401408    \n",
      "_________________________________________________________________\n",
      "dropout_5 (Dropout)          (None, 100352)            0         \n",
      "_________________________________________________________________\n",
      "dense_2 (Dense)              (None, 1)                 100353    \n",
      "=================================================================\n",
      "Total params: 58,872,705\n",
      "Trainable params: 301,057\n",
      "Non-trainable params: 58,571,648\n",
      "_________________________________________________________________\n"
     ]
    }
   ],
   "source": [
    "#Summary of ResNet-152 model\n",
    "resnet152_model.summary()"
   ]
  },
  {
   "cell_type": "code",
   "execution_count": 20,
   "id": "af06e626",
   "metadata": {
    "execution": {
     "iopub.execute_input": "2022-03-19T10:07:47.096990Z",
     "iopub.status.busy": "2022-03-19T10:07:47.096325Z",
     "iopub.status.idle": "2022-03-19T10:07:47.277603Z",
     "shell.execute_reply": "2022-03-19T10:07:47.278008Z",
     "shell.execute_reply.started": "2022-03-19T07:50:01.735358Z"
    },
    "id": "SGJQ8bZ49Fyp",
    "papermill": {
     "duration": 1.58215,
     "end_time": "2022-03-19T10:07:47.278156",
     "exception": false,
     "start_time": "2022-03-19T10:07:45.696006",
     "status": "completed"
    },
    "tags": []
   },
   "outputs": [
    {
     "name": "stdout",
     "output_type": "stream",
     "text": [
      "Maximum Accuracy of Train Set 0.999121367931366\n",
      "Maximum Accuracy of Validation Set 0.9957163333892822\n",
      "\n",
      "Minimum Loss of Train Set 0.002982894191518426\n",
      "Minimum Loss of Validation Set 0.015427903272211552\n"
     ]
    },
    {
     "data": {
      "image/png": "[encoded data removed]",
      "text/plain": [
       "<Figure size 432x288 with 1 Axes>"
      ]
     },
     "metadata": {
      "needs_background": "light"
     },
     "output_type": "display_data"
    }
   ],
   "source": [
    "#plot accuracy-loss of training-validation set\n",
    "plot_accuracy_loss(resnet152_history)                                                                              "
   ]
  },
  {
   "cell_type": "code",
   "execution_count": 21,
   "id": "b0739a28",
   "metadata": {
    "execution": {
     "iopub.execute_input": "2022-03-19T10:07:50.015300Z",
     "iopub.status.busy": "2022-03-19T10:07:50.014375Z",
     "iopub.status.idle": "2022-03-19T10:07:50.180265Z",
     "shell.execute_reply": "2022-03-19T10:07:50.179787Z",
     "shell.execute_reply.started": "2022-03-19T07:50:01.944619Z"
    },
    "id": "QKphSuny9F2y",
    "papermill": {
     "duration": 1.544814,
     "end_time": "2022-03-19T10:07:50.180424",
     "exception": false,
     "start_time": "2022-03-19T10:07:48.635610",
     "status": "completed"
    },
    "tags": []
   },
   "outputs": [
    {
     "data": {
      "image/png": "[encoded data removed]",
      "text/plain": [
       "<Figure size 432x288 with 1 Axes>"
      ]
     },
     "metadata": {
      "needs_background": "light"
     },
     "output_type": "display_data"
    }
   ],
   "source": [
    "#plot learning rate to see how drop it\n",
    "plot_learning_rate(resnet152_history)"
   ]
  },
  {
   "cell_type": "code",
   "execution_count": 22,
   "id": "b11c1e04",
   "metadata": {
    "execution": {
     "iopub.execute_input": "2022-03-19T10:07:53.238855Z",
     "iopub.status.busy": "2022-03-19T10:07:53.237905Z",
     "iopub.status.idle": "2022-03-19T10:07:54.408205Z",
     "shell.execute_reply": "2022-03-19T10:07:54.408862Z",
     "shell.execute_reply.started": "2022-03-19T07:50:02.137823Z"
    },
    "id": "674jTFtF9Ksr",
    "papermill": {
     "duration": 2.604715,
     "end_time": "2022-03-19T10:07:54.409121",
     "exception": false,
     "start_time": "2022-03-19T10:07:51.804406",
     "status": "completed"
    },
    "tags": []
   },
   "outputs": [],
   "source": [
    "#save the best fit of ResNet-152 model\n",
    "resnet152_model.save('./binary_pretrained_ResNet152.h5')"
   ]
  },
  {
   "cell_type": "markdown",
   "id": "76c8d536",
   "metadata": {
    "papermill": {
     "duration": 1.386493,
     "end_time": "2022-03-19T10:07:57.211223",
     "exception": false,
     "start_time": "2022-03-19T10:07:55.824730",
     "status": "completed"
    },
    "tags": []
   },
   "source": [
    "# Performance Evaluation"
   ]
  },
  {
   "cell_type": "code",
   "execution_count": 23,
   "id": "62254ddd",
   "metadata": {
    "execution": {
     "iopub.execute_input": "2022-03-19T10:08:00.012146Z",
     "iopub.status.busy": "2022-03-19T10:08:00.011439Z",
     "iopub.status.idle": "2022-03-19T10:08:00.602195Z",
     "shell.execute_reply": "2022-03-19T10:08:00.601638Z",
     "shell.execute_reply.started": "2022-03-19T07:50:03.650614Z"
    },
    "papermill": {
     "duration": 1.981519,
     "end_time": "2022-03-19T10:08:00.602331",
     "exception": false,
     "start_time": "2022-03-19T10:07:58.620812",
     "status": "completed"
    },
    "tags": []
   },
   "outputs": [],
   "source": [
    "#Import Libraries\n",
    "from sklearn.metrics import classification_report, confusion_matrix, accuracy_score, precision_score, recall_score, f1_score\n",
    "from sklearn.metrics import roc_curve, auc\n",
    "import keras"
   ]
  },
  {
   "cell_type": "code",
   "execution_count": 24,
   "id": "4d323a58",
   "metadata": {
    "execution": {
     "iopub.execute_input": "2022-03-19T10:08:03.577045Z",
     "iopub.status.busy": "2022-03-19T10:08:03.575288Z",
     "iopub.status.idle": "2022-03-19T10:08:03.577619Z",
     "shell.execute_reply": "2022-03-19T10:08:03.578041Z",
     "shell.execute_reply.started": "2022-03-19T07:50:04.225880Z"
    },
    "papermill": {
     "duration": 1.617235,
     "end_time": "2022-03-19T10:08:03.578179",
     "exception": false,
     "start_time": "2022-03-19T10:08:01.960944",
     "status": "completed"
    },
    "tags": []
   },
   "outputs": [],
   "source": [
    "#load the directory\n",
    "test_dir = '../input/twoclasses/BinDataset/Test'"
   ]
  },
  {
   "cell_type": "code",
   "execution_count": 25,
   "id": "c9121c1a",
   "metadata": {
    "execution": {
     "iopub.execute_input": "2022-03-19T10:08:06.329423Z",
     "iopub.status.busy": "2022-03-19T10:08:06.328843Z",
     "iopub.status.idle": "2022-03-19T10:08:06.862781Z",
     "shell.execute_reply": "2022-03-19T10:08:06.862357Z",
     "shell.execute_reply.started": "2022-03-19T07:50:04.232084Z"
    },
    "papermill": {
     "duration": 1.922178,
     "end_time": "2022-03-19T10:08:06.862943",
     "exception": false,
     "start_time": "2022-03-19T10:08:04.940765",
     "status": "completed"
    },
    "tags": []
   },
   "outputs": [
    {
     "name": "stdout",
     "output_type": "stream",
     "text": [
      "Found 1575 images belonging to 2 classes.\n"
     ]
    }
   ],
   "source": [
    "#Test Data Generator\n",
    "test_datagen = ImageDataGenerator(preprocessing_function = preprocess_input)\n",
    "\n",
    "test_data = test_datagen.flow_from_directory(\n",
    "    test_dir,\n",
    "    target_size = IMG_SIZE,\n",
    "    color_mode  = 'rgb',\n",
    "    class_mode  = 'binary',\n",
    "    shuffle     = 'False',\n",
    "    seed        = RANDOM_SEED\n",
    ")"
   ]
  },
  {
   "cell_type": "code",
   "execution_count": 26,
   "id": "b0e28a4f",
   "metadata": {
    "execution": {
     "iopub.execute_input": "2022-03-19T10:08:09.677694Z",
     "iopub.status.busy": "2022-03-19T10:08:09.668869Z",
     "iopub.status.idle": "2022-03-19T10:08:09.679830Z",
     "shell.execute_reply": "2022-03-19T10:08:09.680314Z",
     "shell.execute_reply.started": "2022-03-19T07:50:04.864470Z"
    },
    "papermill": {
     "duration": 1.436795,
     "end_time": "2022-03-19T10:08:09.680457",
     "exception": false,
     "start_time": "2022-03-19T10:08:08.243662",
     "status": "completed"
    },
    "tags": []
   },
   "outputs": [],
   "source": [
    "#Evaluate on each set\n",
    "def accuracy_loss_evaluation(model):\n",
    "    \n",
    "    train_score = model.evaluate(train_data)\n",
    "    val_score = model.evaluate(val_data)\n",
    "    test_score = model.evaluate(test_data)\n",
    "    \n",
    "    print('\\nTraining loss {:.4f}, accuracy {:.2f}%'.format(train_score[0], train_score[1] * 100))\n",
    "    print('Validation loss {:.4f}, accuracy {:.2f}%'.format(val_score[0], val_score[1] * 100))\n",
    "    print('Test loss {:.4f}, accuracy {:.2f}%'.format(test_score[0], test_score[1] * 100))\n",
    "\n",
    "    \n",
    "#True and predicted value calculation\n",
    "def true_prediction_calculation(model):\n",
    "    predictions = []\n",
    "    true        = []\n",
    "    ctr         = 0\n",
    "    for batch, label in test_data:\n",
    "        prediction = model.predict(batch)\n",
    "        prediction = [1 if x > 0.5 else 0 for x in prediction]\n",
    "        predictions.extend(prediction)\n",
    "        true.extend(label)\n",
    "        ctr += len(prediction)\n",
    "        if ctr >= len(test_data.labels):\n",
    "            break\n",
    "          \n",
    "    return true, predictions\n",
    "\n",
    "\n",
    "class_labels = list(test_data.class_indices.keys())\n",
    "\n",
    "#Plot Confusion Matrix \n",
    "def plot_confusion_matirix(true, predictions):   \n",
    "    matrix    = confusion_matrix(true, predictions)\n",
    "    fig, axes = plt.subplots()\n",
    "\n",
    "    axes.imshow(matrix, cmap = plt.get_cmap('Oranges'))\n",
    "    for (i, j), e in np.ndenumerate(matrix):\n",
    "        axes.text(j, i, s = str(e), ha='center', va = 'center')\n",
    "    axes.set_xticks(np.arange(0, len(class_labels), 1))\n",
    "    axes.set_xticklabels(class_labels)\n",
    "    axes.set_yticks(np.arange(0, len(class_labels), 1))\n",
    "    axes.set_yticklabels(class_labels)\n",
    "    #axes.set_title('Confusion Matrix')\n",
    "    plt.show()\n",
    "\n",
    "\n",
    "#Plot ROC curve\n",
    "def plot_roc_curve(true, predictions):\n",
    "\n",
    "    FPR, TPR, _ = roc_curve(true, predictions)\n",
    "    roc_auc = auc(FPR, TPR)\n",
    "\n",
    "    plt.plot(FPR, TPR, color = 'darkorange', label = 'ROC curve (area = %0.4f)' % roc_auc)\n",
    "    plt.plot([0,1], [0,1], color = 'navy', linestyle = '--')\n",
    "    plt.xlabel('False-Positive Rate')\n",
    "    plt.ylabel('True-Positive Rate')\n",
    "    plt.legend(loc = \"lower right\")\n",
    "    plt.show()\n",
    "    \n",
    "    \n",
    "#Accuracy, Precision, Recall, F1-score, Classification Report, ROC curve\n",
    "def performance_evaluation(true, predictions):\n",
    "\n",
    "    plot_confusion_matirix(true, predictions)\n",
    "\n",
    "    print('\\n\\nAccuracy: {:.4f}\\n'.format(accuracy_score(true, predictions)))\n",
    "    print('Precision: {:.4f}'.format(precision_score(true, predictions)))\n",
    "    print('Recall: {:.4f}'.format(recall_score(true, predictions)))\n",
    "    print('F1-score: {:.4f}\\n'.format(f1_score(true, predictions)))\n",
    "\n",
    "    print('Classification Report:\\n')\n",
    "    print(classification_report(true, predictions, target_names = class_labels))\n",
    "\n",
    "    print('\\n')\n",
    "    plot_roc_curve(true, predictions)"
   ]
  },
  {
   "cell_type": "markdown",
   "id": "f2191d1f",
   "metadata": {
    "papermill": {
     "duration": 1.390272,
     "end_time": "2022-03-19T10:08:12.922296",
     "exception": false,
     "start_time": "2022-03-19T10:08:11.532024",
     "status": "completed"
    },
    "tags": []
   },
   "source": [
    "# VGG-16 Model"
   ]
  },
  {
   "cell_type": "code",
   "execution_count": 27,
   "id": "ab234fa2",
   "metadata": {
    "execution": {
     "iopub.execute_input": "2022-03-19T10:08:15.918425Z",
     "iopub.status.busy": "2022-03-19T10:08:15.916799Z",
     "iopub.status.idle": "2022-03-19T10:08:15.919091Z",
     "shell.execute_reply": "2022-03-19T10:08:15.919505Z",
     "shell.execute_reply.started": "2022-03-19T07:50:04.883296Z"
    },
    "papermill": {
     "duration": 1.356909,
     "end_time": "2022-03-19T10:08:15.919637",
     "exception": false,
     "start_time": "2022-03-19T10:08:14.562728",
     "status": "completed"
    },
    "tags": []
   },
   "outputs": [],
   "source": [
    "#Load VGG-16 Model\n",
    "#vgg16_model = keras.models.load_model('./binary_pretrained_VGG16.h5')"
   ]
  },
  {
   "cell_type": "code",
   "execution_count": 28,
   "id": "d15bb616",
   "metadata": {
    "execution": {
     "iopub.execute_input": "2022-03-19T10:08:18.646895Z",
     "iopub.status.busy": "2022-03-19T10:08:18.646320Z",
     "iopub.status.idle": "2022-03-19T10:10:09.946603Z",
     "shell.execute_reply": "2022-03-19T10:10:09.947185Z",
     "shell.execute_reply.started": "2022-03-19T07:50:04.896639Z"
    },
    "papermill": {
     "duration": 112.658571,
     "end_time": "2022-03-19T10:10:09.947408",
     "exception": false,
     "start_time": "2022-03-19T10:08:17.288837",
     "status": "completed"
    },
    "tags": []
   },
   "outputs": [
    {
     "name": "stdout",
     "output_type": "stream",
     "text": [
      "54/54 [==============================] - 79s 1s/step - loss: 0.0104 - accuracy: 0.9990\n",
      "17/17 [==============================] - 7s 394ms/step - loss: 0.0555 - accuracy: 0.9862\n",
      "50/50 [==============================] - 13s 203ms/step - loss: 0.0606 - accuracy: 0.9860\n",
      "\n",
      "Training loss 0.0104, accuracy 99.90%\n",
      "Validation loss 0.0555, accuracy 98.62%\n",
      "Test loss 0.0606, accuracy 98.60%\n"
     ]
    }
   ],
   "source": [
    "#accuracy-loss of each set for VGG-16 model\n",
    "accuracy_loss_evaluation(vgg16_model)"
   ]
  },
  {
   "cell_type": "code",
   "execution_count": 29,
   "id": "ea2c6681",
   "metadata": {
    "execution": {
     "iopub.execute_input": "2022-03-19T10:10:12.736674Z",
     "iopub.status.busy": "2022-03-19T10:10:12.735818Z",
     "iopub.status.idle": "2022-03-19T10:10:24.218837Z",
     "shell.execute_reply": "2022-03-19T10:10:24.219543Z",
     "shell.execute_reply.started": "2022-03-19T07:51:55.997037Z"
    },
    "papermill": {
     "duration": 12.881082,
     "end_time": "2022-03-19T10:10:24.219698",
     "exception": false,
     "start_time": "2022-03-19T10:10:11.338616",
     "status": "completed"
    },
    "tags": []
   },
   "outputs": [],
   "source": [
    "#Calculate true and predicted value\n",
    "vgg16_y_true, vgg16_y_pred = true_prediction_calculation(vgg16_model)"
   ]
  },
  {
   "cell_type": "code",
   "execution_count": 30,
   "id": "e4f6cc01",
   "metadata": {
    "execution": {
     "iopub.execute_input": "2022-03-19T10:10:27.279628Z",
     "iopub.status.busy": "2022-03-19T10:10:27.278821Z",
     "iopub.status.idle": "2022-03-19T10:10:27.574465Z",
     "shell.execute_reply": "2022-03-19T10:10:27.574862Z",
     "shell.execute_reply.started": "2022-03-19T07:52:07.223052Z"
    },
    "papermill": {
     "duration": 1.706046,
     "end_time": "2022-03-19T10:10:27.575042",
     "exception": false,
     "start_time": "2022-03-19T10:10:25.868996",
     "status": "completed"
    },
    "tags": []
   },
   "outputs": [
    {
     "data": {
      "image/png": "[encoded data removed]",
      "text/plain": [
       "<Figure size 432x288 with 1 Axes>"
      ]
     },
     "metadata": {
      "needs_background": "light"
     },
     "output_type": "display_data"
    },
    {
     "name": "stdout",
     "output_type": "stream",
     "text": [
      "\n",
      "\n",
      "Accuracy: 0.9860\n",
      "\n",
      "Precision: 0.9788\n",
      "Recall: 0.9937\n",
      "F1-score: 0.9862\n",
      "\n",
      "Classification Report:\n",
      "\n",
      "              precision    recall  f1-score   support\n",
      "\n",
      "          AD       0.99      0.98      0.99       786\n",
      "          CN       0.98      0.99      0.99       789\n",
      "\n",
      "    accuracy                           0.99      1575\n",
      "   macro avg       0.99      0.99      0.99      1575\n",
      "weighted avg       0.99      0.99      0.99      1575\n",
      "\n",
      "\n",
      "\n"
     ]
    },
    {
     "data": {
      "image/png": "[encoded data removed]",
      "text/plain": [
       "<Figure size 432x288 with 1 Axes>"
      ]
     },
     "metadata": {
      "needs_background": "light"
     },
     "output_type": "display_data"
    }
   ],
   "source": [
    "#Performance Evaluation of VGG-16 model\n",
    "performance_evaluation(vgg16_y_true, vgg16_y_pred)"
   ]
  },
  {
   "cell_type": "markdown",
   "id": "4912d1ce",
   "metadata": {
    "papermill": {
     "duration": 1.43852,
     "end_time": "2022-03-19T10:10:30.409638",
     "exception": false,
     "start_time": "2022-03-19T10:10:28.971118",
     "status": "completed"
    },
    "tags": []
   },
   "source": [
    "# VGG-19 Model"
   ]
  },
  {
   "cell_type": "code",
   "execution_count": 31,
   "id": "206cefe1",
   "metadata": {
    "execution": {
     "iopub.execute_input": "2022-03-19T10:10:33.273215Z",
     "iopub.status.busy": "2022-03-19T10:10:33.272393Z",
     "iopub.status.idle": "2022-03-19T10:10:33.274980Z",
     "shell.execute_reply": "2022-03-19T10:10:33.274503Z",
     "shell.execute_reply.started": "2022-03-19T07:52:07.560661Z"
    },
    "papermill": {
     "duration": 1.459943,
     "end_time": "2022-03-19T10:10:33.275092",
     "exception": false,
     "start_time": "2022-03-19T10:10:31.815149",
     "status": "completed"
    },
    "tags": []
   },
   "outputs": [],
   "source": [
    "#Load VGG-19 Model\n",
    "#vgg19_model = keras.models.load_model('./binary_pretrained_VGG19.h5')"
   ]
  },
  {
   "cell_type": "code",
   "execution_count": 32,
   "id": "dcedafb9",
   "metadata": {
    "execution": {
     "iopub.execute_input": "2022-03-19T10:10:36.076133Z",
     "iopub.status.busy": "2022-03-19T10:10:36.075571Z",
     "iopub.status.idle": "2022-03-19T10:12:15.713528Z",
     "shell.execute_reply": "2022-03-19T10:12:15.710416Z",
     "shell.execute_reply.started": "2022-03-19T07:52:07.566757Z"
    },
    "papermill": {
     "duration": 101.050258,
     "end_time": "2022-03-19T10:12:15.713688",
     "exception": false,
     "start_time": "2022-03-19T10:10:34.663430",
     "status": "completed"
    },
    "tags": []
   },
   "outputs": [
    {
     "name": "stdout",
     "output_type": "stream",
     "text": [
      "54/54 [==============================] - 81s 2s/step - loss: 0.0080 - accuracy: 0.9985\n",
      "17/17 [==============================] - 8s 432ms/step - loss: 0.0368 - accuracy: 0.9852\n",
      "50/50 [==============================] - 4s 87ms/step - loss: 0.0446 - accuracy: 0.9829\n",
      "\n",
      "Training loss 0.0080, accuracy 99.85%\n",
      "Validation loss 0.0368, accuracy 98.52%\n",
      "Test loss 0.0446, accuracy 98.29%\n"
     ]
    }
   ],
   "source": [
    "#accuracy-loss of each set for VGG-19 model\n",
    "accuracy_loss_evaluation(vgg19_model)"
   ]
  },
  {
   "cell_type": "code",
   "execution_count": 33,
   "id": "001bedb6",
   "metadata": {
    "execution": {
     "iopub.execute_input": "2022-03-19T10:12:18.675891Z",
     "iopub.status.busy": "2022-03-19T10:12:18.675337Z",
     "iopub.status.idle": "2022-03-19T10:12:31.176245Z",
     "shell.execute_reply": "2022-03-19T10:12:31.176773Z",
     "shell.execute_reply.started": "2022-03-19T07:53:43.324472Z"
    },
    "papermill": {
     "duration": 13.996443,
     "end_time": "2022-03-19T10:12:31.177154",
     "exception": false,
     "start_time": "2022-03-19T10:12:17.180711",
     "status": "completed"
    },
    "tags": []
   },
   "outputs": [],
   "source": [
    "#Calculate true and predicted values\n",
    "vgg19_y_true, vgg19_y_pred = true_prediction_calculation(vgg19_model)"
   ]
  },
  {
   "cell_type": "code",
   "execution_count": 34,
   "id": "df3cf1ca",
   "metadata": {
    "execution": {
     "iopub.execute_input": "2022-03-19T10:12:34.078598Z",
     "iopub.status.busy": "2022-03-19T10:12:34.077826Z",
     "iopub.status.idle": "2022-03-19T10:12:34.366771Z",
     "shell.execute_reply": "2022-03-19T10:12:34.366368Z",
     "shell.execute_reply.started": "2022-03-19T07:53:55.053630Z"
    },
    "papermill": {
     "duration": 1.742729,
     "end_time": "2022-03-19T10:12:34.366907",
     "exception": false,
     "start_time": "2022-03-19T10:12:32.624178",
     "status": "completed"
    },
    "tags": []
   },
   "outputs": [
    {
     "data": {
      "image/png": "[encoded data removed]",
      "text/plain": [
       "<Figure size 432x288 with 1 Axes>"
      ]
     },
     "metadata": {
      "needs_background": "light"
     },
     "output_type": "display_data"
    },
    {
     "name": "stdout",
     "output_type": "stream",
     "text": [
      "\n",
      "\n",
      "Accuracy: 0.9829\n",
      "\n",
      "Precision: 0.9811\n",
      "Recall: 0.9848\n",
      "F1-score: 0.9829\n",
      "\n",
      "Classification Report:\n",
      "\n",
      "              precision    recall  f1-score   support\n",
      "\n",
      "          AD       0.98      0.98      0.98       786\n",
      "          CN       0.98      0.98      0.98       789\n",
      "\n",
      "    accuracy                           0.98      1575\n",
      "   macro avg       0.98      0.98      0.98      1575\n",
      "weighted avg       0.98      0.98      0.98      1575\n",
      "\n",
      "\n",
      "\n"
     ]
    },
    {
     "data": {
      "image/png": "[encoded data removed]",
      "text/plain": [
       "<Figure size 432x288 with 1 Axes>"
      ]
     },
     "metadata": {
      "needs_background": "light"
     },
     "output_type": "display_data"
    }
   ],
   "source": [
    "#Performance Evaluation of VGG-19 model\n",
    "performance_evaluation(vgg19_y_true, vgg19_y_pred)"
   ]
  },
  {
   "cell_type": "markdown",
   "id": "b801a71f",
   "metadata": {
    "papermill": {
     "duration": 1.716516,
     "end_time": "2022-03-19T10:12:38.057854",
     "exception": false,
     "start_time": "2022-03-19T10:12:36.341338",
     "status": "completed"
    },
    "tags": []
   },
   "source": [
    "# ResNet-152 Model"
   ]
  },
  {
   "cell_type": "code",
   "execution_count": 35,
   "id": "a9066d2b",
   "metadata": {
    "execution": {
     "iopub.execute_input": "2022-03-19T10:12:40.962179Z",
     "iopub.status.busy": "2022-03-19T10:12:40.961384Z",
     "iopub.status.idle": "2022-03-19T10:12:40.963927Z",
     "shell.execute_reply": "2022-03-19T10:12:40.963488Z",
     "shell.execute_reply.started": "2022-03-19T07:53:55.366541Z"
    },
    "papermill": {
     "duration": 1.432788,
     "end_time": "2022-03-19T10:12:40.964044",
     "exception": false,
     "start_time": "2022-03-19T10:12:39.531256",
     "status": "completed"
    },
    "tags": []
   },
   "outputs": [],
   "source": [
    "#Load ResNet-152 Model\n",
    "#resnet152_model = keras.models.load_model('./binary_pretrained_VGG19.h5')"
   ]
  },
  {
   "cell_type": "code",
   "execution_count": 36,
   "id": "6975d23b",
   "metadata": {
    "execution": {
     "iopub.execute_input": "2022-03-19T10:12:43.848545Z",
     "iopub.status.busy": "2022-03-19T10:12:43.846679Z",
     "iopub.status.idle": "2022-03-19T10:14:28.609234Z",
     "shell.execute_reply": "2022-03-19T10:14:28.609772Z",
     "shell.execute_reply.started": "2022-03-19T07:53:55.372520Z"
    },
    "papermill": {
     "duration": 106.197642,
     "end_time": "2022-03-19T10:14:28.609998",
     "exception": false,
     "start_time": "2022-03-19T10:12:42.412356",
     "status": "completed"
    },
    "tags": []
   },
   "outputs": [
    {
     "name": "stdout",
     "output_type": "stream",
     "text": [
      "54/54 [==============================] - 86s 2s/step - loss: 6.5759e-04 - accuracy: 1.0000\n",
      "17/17 [==============================] - 9s 506ms/step - loss: 0.0192 - accuracy: 0.9943\n",
      "50/50 [==============================] - 8s 145ms/step - loss: 0.0498 - accuracy: 0.9886\n",
      "\n",
      "Training loss 0.0007, accuracy 100.00%\n",
      "Validation loss 0.0192, accuracy 99.43%\n",
      "Test loss 0.0498, accuracy 98.86%\n"
     ]
    }
   ],
   "source": [
    "#accuracy-loss of each set for VGG-19 model\n",
    "accuracy_loss_evaluation(resnet152_model)"
   ]
  },
  {
   "cell_type": "code",
   "execution_count": 37,
   "id": "2bab9d80",
   "metadata": {
    "execution": {
     "iopub.execute_input": "2022-03-19T10:14:31.592203Z",
     "iopub.status.busy": "2022-03-19T10:14:31.591204Z",
     "iopub.status.idle": "2022-03-19T10:14:47.668194Z",
     "shell.execute_reply": "2022-03-19T10:14:47.667700Z",
     "shell.execute_reply.started": "2022-03-19T07:56:35.227388Z"
    },
    "papermill": {
     "duration": 17.568464,
     "end_time": "2022-03-19T10:14:47.668331",
     "exception": false,
     "start_time": "2022-03-19T10:14:30.099867",
     "status": "completed"
    },
    "tags": []
   },
   "outputs": [],
   "source": [
    "#Calculate true and predicted values\n",
    "resnet152_y_true, resnet152_y_pred = true_prediction_calculation(resnet152_model)"
   ]
  },
  {
   "cell_type": "code",
   "execution_count": 38,
   "id": "a8e8f8c9",
   "metadata": {
    "execution": {
     "iopub.execute_input": "2022-03-19T10:14:50.865719Z",
     "iopub.status.busy": "2022-03-19T10:14:50.864900Z",
     "iopub.status.idle": "2022-03-19T10:14:51.156561Z",
     "shell.execute_reply": "2022-03-19T10:14:51.157049Z",
     "shell.execute_reply.started": "2022-03-19T07:56:51.820084Z"
    },
    "papermill": {
     "duration": 2.014255,
     "end_time": "2022-03-19T10:14:51.157217",
     "exception": false,
     "start_time": "2022-03-19T10:14:49.142962",
     "status": "completed"
    },
    "tags": []
   },
   "outputs": [
    {
     "data": {
      "image/png": "[encoded data removed]",
      "text/plain": [
       "<Figure size 432x288 with 1 Axes>"
      ]
     },
     "metadata": {
      "needs_background": "light"
     },
     "output_type": "display_data"
    },
    {
     "name": "stdout",
     "output_type": "stream",
     "text": [
      "\n",
      "\n",
      "Accuracy: 0.9886\n",
      "\n",
      "Precision: 0.9801\n",
      "Recall: 0.9975\n",
      "F1-score: 0.9887\n",
      "\n",
      "Classification Report:\n",
      "\n",
      "              precision    recall  f1-score   support\n",
      "\n",
      "          AD       1.00      0.98      0.99       786\n",
      "          CN       0.98      1.00      0.99       789\n",
      "\n",
      "    accuracy                           0.99      1575\n",
      "   macro avg       0.99      0.99      0.99      1575\n",
      "weighted avg       0.99      0.99      0.99      1575\n",
      "\n",
      "\n",
      "\n"
     ]
    },
    {
     "data": {
      "image/png": "[encoded data removed]",
      "text/plain": [
       "<Figure size 432x288 with 1 Axes>"
      ]
     },
     "metadata": {
      "needs_background": "light"
     },
     "output_type": "display_data"
    }
   ],
   "source": [
    "#Performance Evaluation of ResNet-152 model\n",
    "performance_evaluation(resnet152_y_true, resnet152_y_pred)"
   ]
  }
 ],
 "metadata": {
  "kernelspec": {
   "display_name": "Python 3",
   "language": "python",
   "name": "python3"
  },
  "language_info": {
   "codemirror_mode": {
    "name": "ipython",
    "version": 3
   },
   "file_extension": ".py",
   "mimetype": "text/x-python",
   "name": "python",
   "nbconvert_exporter": "python",
   "pygments_lexer": "ipython3",
   "version": "3.7.12"
  },
  "papermill": {
   "default_parameters": {},
   "duration": 8057.083649,
   "end_time": "2022-03-19T10:14:55.639987",
   "environment_variables": {},
   "exception": null,
   "input_path": "__notebook__.ipynb",
   "output_path": "__notebook__.ipynb",
   "parameters": {},
   "start_time": "2022-03-19T08:00:38.556338",
   "version": "2.3.3"
  }
 },
 "nbformat": 4,
 "nbformat_minor": 5
}
