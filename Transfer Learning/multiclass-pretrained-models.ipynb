{
 "cells": [
  {
   "cell_type": "code",
   "execution_count": 1,
   "id": "b9e840da",
   "metadata": {
    "execution": {
     "iopub.execute_input": "2022-03-17T19:52:18.282782Z",
     "iopub.status.busy": "2022-03-17T19:52:18.280923Z",
     "iopub.status.idle": "2022-03-17T19:52:23.085736Z",
     "shell.execute_reply": "2022-03-17T19:52:23.086385Z",
     "shell.execute_reply.started": "2022-03-17T12:25:05.785378Z"
    },
    "id": "WgllZkdgn2oh",
    "papermill": {
     "duration": 4.844105,
     "end_time": "2022-03-17T19:52:23.086680",
     "exception": false,
     "start_time": "2022-03-17T19:52:18.242575",
     "status": "completed"
    },
    "tags": []
   },
   "outputs": [],
   "source": [
    "#Import Libraries\n",
    "from keras.applications.imagenet_utils import preprocess_input\n",
    "from keras.preprocessing.image import ImageDataGenerator\n",
    "from keras.applications.resnet import ResNet152\n",
    "from keras.applications.vgg19 import VGG19\n",
    "from keras.applications.vgg16 import VGG16\n",
    "from keras.callbacks import EarlyStopping\n",
    "from keras.models import Sequential\n",
    "import matplotlib.pyplot as plt\n",
    "from keras import layers\n",
    "import tensorflow as tf\n",
    "import numpy as np"
   ]
  },
  {
   "cell_type": "code",
   "execution_count": 2,
   "id": "4e0f027f",
   "metadata": {
    "execution": {
     "iopub.execute_input": "2022-03-17T19:52:23.150390Z",
     "iopub.status.busy": "2022-03-17T19:52:23.149787Z",
     "iopub.status.idle": "2022-03-17T19:52:23.153670Z",
     "shell.execute_reply": "2022-03-17T19:52:23.153185Z",
     "shell.execute_reply.started": "2022-03-17T12:25:10.824934Z"
    },
    "id": "DdKP6T92pHAL",
    "papermill": {
     "duration": 0.036118,
     "end_time": "2022-03-17T19:52:23.153809",
     "exception": false,
     "start_time": "2022-03-17T19:52:23.117691",
     "status": "completed"
    },
    "tags": []
   },
   "outputs": [],
   "source": [
    "#load the directories\n",
    "training_dir = '../input/dataset/MultiDataset/Training'\n",
    "val_dir = '../input/dataset/MultiDataset/Validation'"
   ]
  },
  {
   "cell_type": "code",
   "execution_count": 3,
   "id": "ba79f11c",
   "metadata": {
    "execution": {
     "iopub.execute_input": "2022-03-17T19:52:23.216513Z",
     "iopub.status.busy": "2022-03-17T19:52:23.215666Z",
     "iopub.status.idle": "2022-03-17T19:52:23.217559Z",
     "shell.execute_reply": "2022-03-17T19:52:23.218006Z",
     "shell.execute_reply.started": "2022-03-17T12:25:10.831972Z"
    },
    "id": "S2GU-GdXlhxJ",
    "papermill": {
     "duration": 0.035298,
     "end_time": "2022-03-17T19:52:23.218156",
     "exception": false,
     "start_time": "2022-03-17T19:52:23.182858",
     "status": "completed"
    },
    "tags": []
   },
   "outputs": [],
   "source": [
    "#Variables declaration\n",
    "IMG_SIZE = (224,224)\n",
    "EPOCHS   = 100\n",
    "BATCH_SIZE  = 128\n",
    "RANDOM_SEED = 1403\n",
    "augmentation     = True\n",
    "rotation_range   = 0.1\n",
    "zoom_range       = 0.1\n",
    "shear_range      = 0.1\n",
    "fill_mode        = 'nearest'"
   ]
  },
  {
   "cell_type": "code",
   "execution_count": 4,
   "id": "1a5c191b",
   "metadata": {
    "execution": {
     "iopub.execute_input": "2022-03-17T19:52:23.283056Z",
     "iopub.status.busy": "2022-03-17T19:52:23.282317Z",
     "iopub.status.idle": "2022-03-17T19:52:23.284718Z",
     "shell.execute_reply": "2022-03-17T19:52:23.285096Z",
     "shell.execute_reply.started": "2022-03-17T12:25:10.840472Z"
    },
    "id": "Bzmi2KrzmS_S",
    "papermill": {
     "duration": 0.038487,
     "end_time": "2022-03-17T19:52:23.285251",
     "exception": false,
     "start_time": "2022-03-17T19:52:23.246764",
     "status": "completed"
    },
    "tags": []
   },
   "outputs": [],
   "source": [
    "if augmentation:\n",
    "    train_datagen   = ImageDataGenerator(preprocessing_function = preprocess_input,\n",
    "                                         rotation_range     = rotation_range,\n",
    "                                         zoom_range         = zoom_range,\n",
    "                                         shear_range        = shear_range,\n",
    "                                         fill_mode          = fill_mode)\n",
    "else:\n",
    "    train_datagen   = ImageDataGenerator(preprocessing_function = preprocess_input)\n",
    "\n",
    "val_datagen         = ImageDataGenerator(preprocessing_function = preprocess_input)"
   ]
  },
  {
   "cell_type": "code",
   "execution_count": 5,
   "id": "df7ec49c",
   "metadata": {
    "execution": {
     "iopub.execute_input": "2022-03-17T19:52:23.350580Z",
     "iopub.status.busy": "2022-03-17T19:52:23.349864Z",
     "iopub.status.idle": "2022-03-17T19:52:45.782699Z",
     "shell.execute_reply": "2022-03-17T19:52:45.782291Z",
     "shell.execute_reply.started": "2022-03-17T12:25:10.848659Z"
    },
    "id": "JZLym9P5mXD4",
    "outputId": "2dff9800-01bb-4cd9-81b8-5887afdfb87a",
    "papermill": {
     "duration": 22.470687,
     "end_time": "2022-03-17T19:52:45.782816",
     "exception": false,
     "start_time": "2022-03-17T19:52:23.312129",
     "status": "completed"
    },
    "tags": []
   },
   "outputs": [
    {
     "name": "stdout",
     "output_type": "stream",
     "text": [
      "Found 13649 images belonging to 4 classes.\n",
      "Found 4199 images belonging to 4 classes.\n"
     ]
    }
   ],
   "source": [
    "train_data = train_datagen.flow_from_directory(\n",
    "    training_dir,\n",
    "    target_size = IMG_SIZE,\n",
    "    color_mode  = 'rgb',\n",
    "    class_mode  = 'categorical',\n",
    "    shuffle     = 'True',\n",
    "    batch_size  = BATCH_SIZE,\n",
    "    seed        = RANDOM_SEED\n",
    ")\n",
    "\n",
    "val_data = val_datagen.flow_from_directory(\n",
    "    val_dir,\n",
    "    target_size = IMG_SIZE,\n",
    "    color_mode  = 'rgb',\n",
    "    class_mode  = 'categorical',\n",
    "    shuffle     = 'True',\n",
    "    batch_size  = BATCH_SIZE,\n",
    "    seed        = RANDOM_SEED\n",
    ")"
   ]
  },
  {
   "cell_type": "markdown",
   "id": "83b2e21a",
   "metadata": {
    "id": "iNp92yca3Vgi",
    "papermill": {
     "duration": 0.026427,
     "end_time": "2022-03-17T19:52:45.836266",
     "exception": false,
     "start_time": "2022-03-17T19:52:45.809839",
     "status": "completed"
    },
    "tags": []
   },
   "source": [
    "# Model"
   ]
  },
  {
   "cell_type": "code",
   "execution_count": 6,
   "id": "9994e334",
   "metadata": {
    "execution": {
     "iopub.execute_input": "2022-03-17T19:52:45.900730Z",
     "iopub.status.busy": "2022-03-17T19:52:45.899954Z",
     "iopub.status.idle": "2022-03-17T19:52:45.902356Z",
     "shell.execute_reply": "2022-03-17T19:52:45.901924Z",
     "shell.execute_reply.started": "2022-03-17T12:25:18.261891Z"
    },
    "id": "95LuL_U7yTfH",
    "papermill": {
     "duration": 0.039681,
     "end_time": "2022-03-17T19:52:45.902463",
     "exception": false,
     "start_time": "2022-03-17T19:52:45.862782",
     "status": "completed"
    },
    "tags": []
   },
   "outputs": [],
   "source": [
    "def create_compile_fit_model(model_name):\n",
    "    if(model_name == 'ResNet152'):\n",
    "        base_model = ResNet152(weights ='imagenet', include_top = False, input_shape = IMG_SIZE + (3,))\n",
    "    if(model_name == 'VGG16'):\n",
    "        base_model = VGG16(weights ='imagenet', include_top = False, input_shape = IMG_SIZE + (3,))\n",
    "    if(model_name == 'VGG19'):\n",
    "        base_model = VGG19(weights ='imagenet', include_top = False, input_shape = IMG_SIZE + (3,))\n",
    "\n",
    "    model = Sequential()\n",
    "    model.add(base_model)\n",
    "    model.add(layers.Dropout(0.2))\n",
    "    model.add(layers.Flatten())\n",
    "    model.add(layers.BatchNormalization())\n",
    "    model.add(layers.Dropout(0.2))\n",
    "    model.add(layers.Dense(4, activation = 'softmax'))\n",
    "    model.layers[0].trainable = False\n",
    "\n",
    "    #Compile the model\n",
    "    model.compile(optimizer = 'adam', loss = 'categorical_crossentropy', metrics = ['accuracy'])\n",
    "\n",
    "    #Stopping criteria\n",
    "    es     = EarlyStopping(monitor = 'val_loss', mode = 'min',patience = 10)\n",
    "    reduce_lr = tf.keras.callbacks.ReduceLROnPlateau(factor = np.sqrt(0.1), patience = 5,cooldown = 0, min_lr = 0.5e-6)\n",
    "    model_checkpoint = tf.keras.callbacks.ModelCheckpoint('./multiclass_' + model_name + '.h5', monitor = 'val_accuracy', save_best_only = True, mode = 'max')\n",
    "\n",
    "    #Fit the model\n",
    "    hist = model.fit(train_data, batch_size = BATCH_SIZE, epochs = EPOCHS, shuffle = True,\n",
    "                     validation_data = val_data,callbacks = [es, model_checkpoint, reduce_lr], verbose = 1)\n",
    "\n",
    "    return model, hist"
   ]
  },
  {
   "cell_type": "markdown",
   "id": "5b94374f",
   "metadata": {
    "id": "ClCv1XB-3d67",
    "papermill": {
     "duration": 0.026367,
     "end_time": "2022-03-17T19:52:45.955971",
     "exception": false,
     "start_time": "2022-03-17T19:52:45.929604",
     "status": "completed"
    },
    "tags": []
   },
   "source": [
    "# Plot"
   ]
  },
  {
   "cell_type": "code",
   "execution_count": 7,
   "id": "893a2ddf",
   "metadata": {
    "execution": {
     "iopub.execute_input": "2022-03-17T19:52:46.017233Z",
     "iopub.status.busy": "2022-03-17T19:52:46.016429Z",
     "iopub.status.idle": "2022-03-17T19:52:46.018703Z",
     "shell.execute_reply": "2022-03-17T19:52:46.018305Z",
     "shell.execute_reply.started": "2022-03-17T12:25:18.273834Z"
    },
    "id": "-ED7JZ0Ozqt0",
    "papermill": {
     "duration": 0.036139,
     "end_time": "2022-03-17T19:52:46.018802",
     "exception": false,
     "start_time": "2022-03-17T19:52:45.982663",
     "status": "completed"
    },
    "tags": []
   },
   "outputs": [],
   "source": [
    "#Plot training-validation accuracy and loss\n",
    "def plot_accuracy_loss(hist):\n",
    "    \n",
    "    train_acc = hist.history['accuracy']\n",
    "    val_acc = hist.history['val_accuracy']\n",
    "    print(\"Maximum Accuracy of Train Set {}\".format(max(train_acc)))\n",
    "    print(\"Maximum Accuracy of Validation Set {}\".format(max(val_acc)))\n",
    "\n",
    "    train_loss = hist.history['loss']\n",
    "    val_loss = hist.history['val_loss']\n",
    "    print(\"\\nMinimum Loss of Train Set {}\".format(min(train_loss)))\n",
    "    print(\"Minimum Loss of Validation Set {}\".format(min(val_loss)))\n",
    "\n",
    "    #plot the accuracy and loss of training-validation sets\n",
    "    plt.plot(train_acc)\n",
    "    plt.plot(val_acc)\n",
    "    plt.plot(train_loss)\n",
    "    plt.plot(val_loss)\n",
    "    plt.ylabel(\"Accuracy-Loss\")\n",
    "    plt.xlabel(\"Epoch\")\n",
    "    plt.legend([\"Training Accuracy\",\"Validation Accuracy\",\"Training loss\",\"Validation Loss\"])\n",
    "    plt.show()\n",
    "    \n",
    "    \n",
    "#Plot learning rate\n",
    "def plot_learning_rate(hist):\n",
    "    f, ax = plt.subplots()\n",
    "    ax.plot([None] + hist.history['lr'], 'o-')\n",
    "    ax.set_xlabel('Epoch')\n",
    "    ax.set_ylabel('Learning Rate')"
   ]
  },
  {
   "cell_type": "markdown",
   "id": "9fbc0ef5",
   "metadata": {
    "id": "VpBdjhaINAh1",
    "papermill": {
     "duration": 0.030336,
     "end_time": "2022-03-17T19:52:46.079818",
     "exception": false,
     "start_time": "2022-03-17T19:52:46.049482",
     "status": "completed"
    },
    "tags": []
   },
   "source": [
    "# VGG-16 model"
   ]
  },
  {
   "cell_type": "code",
   "execution_count": 8,
   "id": "0d9c30f1",
   "metadata": {
    "execution": {
     "iopub.execute_input": "2022-03-17T19:52:46.141083Z",
     "iopub.status.busy": "2022-03-17T19:52:46.140583Z",
     "iopub.status.idle": "2022-03-17T22:00:41.749122Z",
     "shell.execute_reply": "2022-03-17T22:00:41.749617Z",
     "shell.execute_reply.started": "2022-03-17T12:25:18.305493Z"
    },
    "id": "N_pXCZN7NHHt",
    "outputId": "a1c16b83-6a33-4adb-b832-7315ec3e7f99",
    "papermill": {
     "duration": 7675.640838,
     "end_time": "2022-03-17T22:00:41.749763",
     "exception": false,
     "start_time": "2022-03-17T19:52:46.108925",
     "status": "completed"
    },
    "tags": []
   },
   "outputs": [
    {
     "name": "stderr",
     "output_type": "stream",
     "text": [
      "2022-03-17 19:52:46.222104: I tensorflow/stream_executor/cuda/cuda_gpu_executor.cc:937] successful NUMA node read from SysFS had negative value (-1), but there must be at least one NUMA node, so returning NUMA node zero\n",
      "2022-03-17 19:52:46.297699: I tensorflow/stream_executor/cuda/cuda_gpu_executor.cc:937] successful NUMA node read from SysFS had negative value (-1), but there must be at least one NUMA node, so returning NUMA node zero\n",
      "2022-03-17 19:52:46.298400: I tensorflow/stream_executor/cuda/cuda_gpu_executor.cc:937] successful NUMA node read from SysFS had negative value (-1), but there must be at least one NUMA node, so returning NUMA node zero\n",
      "2022-03-17 19:52:46.299403: I tensorflow/core/platform/cpu_feature_guard.cc:142] This TensorFlow binary is optimized with oneAPI Deep Neural Network Library (oneDNN) to use the following CPU instructions in performance-critical operations:  AVX2 AVX512F FMA\n",
      "To enable them in other operations, rebuild TensorFlow with the appropriate compiler flags.\n",
      "2022-03-17 19:52:46.300437: I tensorflow/stream_executor/cuda/cuda_gpu_executor.cc:937] successful NUMA node read from SysFS had negative value (-1), but there must be at least one NUMA node, so returning NUMA node zero\n",
      "2022-03-17 19:52:46.301058: I tensorflow/stream_executor/cuda/cuda_gpu_executor.cc:937] successful NUMA node read from SysFS had negative value (-1), but there must be at least one NUMA node, so returning NUMA node zero\n",
      "2022-03-17 19:52:46.301660: I tensorflow/stream_executor/cuda/cuda_gpu_executor.cc:937] successful NUMA node read from SysFS had negative value (-1), but there must be at least one NUMA node, so returning NUMA node zero\n",
      "2022-03-17 19:52:47.867459: I tensorflow/stream_executor/cuda/cuda_gpu_executor.cc:937] successful NUMA node read from SysFS had negative value (-1), but there must be at least one NUMA node, so returning NUMA node zero\n",
      "2022-03-17 19:52:47.868223: I tensorflow/stream_executor/cuda/cuda_gpu_executor.cc:937] successful NUMA node read from SysFS had negative value (-1), but there must be at least one NUMA node, so returning NUMA node zero\n",
      "2022-03-17 19:52:47.868881: I tensorflow/stream_executor/cuda/cuda_gpu_executor.cc:937] successful NUMA node read from SysFS had negative value (-1), but there must be at least one NUMA node, so returning NUMA node zero\n",
      "2022-03-17 19:52:47.869469: I tensorflow/core/common_runtime/gpu/gpu_device.cc:1510] Created device /job:localhost/replica:0/task:0/device:GPU:0 with 15403 MB memory:  -> device: 0, name: Tesla P100-PCIE-16GB, pci bus id: 0000:00:04.0, compute capability: 6.0\n"
     ]
    },
    {
     "name": "stdout",
     "output_type": "stream",
     "text": [
      "Downloading data from https://storage.googleapis.com/tensorflow/keras-applications/vgg16/vgg16_weights_tf_dim_ordering_tf_kernels_notop.h5\n",
      "58892288/58889256 [==============================] - 0s 0us/step\n",
      "58900480/58889256 [==============================] - 0s 0us/step\n"
     ]
    },
    {
     "name": "stderr",
     "output_type": "stream",
     "text": [
      "2022-03-17 19:52:51.104876: I tensorflow/compiler/mlir/mlir_graph_optimization_pass.cc:185] None of the MLIR Optimization Passes are enabled (registered 2)\n"
     ]
    },
    {
     "name": "stdout",
     "output_type": "stream",
     "text": [
      "Epoch 1/100\n"
     ]
    },
    {
     "name": "stderr",
     "output_type": "stream",
     "text": [
      "2022-03-17 19:52:54.780202: I tensorflow/stream_executor/cuda/cuda_dnn.cc:369] Loaded cuDNN version 8005\n"
     ]
    },
    {
     "name": "stdout",
     "output_type": "stream",
     "text": [
      "107/107 [==============================] - 281s 2s/step - loss: 0.6030 - accuracy: 0.7696 - val_loss: 0.2871 - val_accuracy: 0.8926\n",
      "Epoch 2/100\n",
      "107/107 [==============================] - 175s 2s/step - loss: 0.2894 - accuracy: 0.8930 - val_loss: 0.2226 - val_accuracy: 0.9157\n",
      "Epoch 3/100\n",
      "107/107 [==============================] - 174s 2s/step - loss: 0.2179 - accuracy: 0.9201 - val_loss: 0.1963 - val_accuracy: 0.9305\n",
      "Epoch 4/100\n",
      "107/107 [==============================] - 174s 2s/step - loss: 0.2030 - accuracy: 0.9270 - val_loss: 0.1974 - val_accuracy: 0.9312\n",
      "Epoch 5/100\n",
      "107/107 [==============================] - 174s 2s/step - loss: 0.1841 - accuracy: 0.9340 - val_loss: 0.1808 - val_accuracy: 0.9388\n",
      "Epoch 6/100\n",
      "107/107 [==============================] - 175s 2s/step - loss: 0.1716 - accuracy: 0.9370 - val_loss: 0.1679 - val_accuracy: 0.9452\n",
      "Epoch 7/100\n",
      "107/107 [==============================] - 175s 2s/step - loss: 0.1576 - accuracy: 0.9429 - val_loss: 0.1621 - val_accuracy: 0.9471\n",
      "Epoch 8/100\n",
      "107/107 [==============================] - 176s 2s/step - loss: 0.1685 - accuracy: 0.9379 - val_loss: 0.1816 - val_accuracy: 0.9412\n",
      "Epoch 9/100\n",
      "107/107 [==============================] - 174s 2s/step - loss: 0.1606 - accuracy: 0.9409 - val_loss: 0.2067 - val_accuracy: 0.9355\n",
      "Epoch 10/100\n",
      "107/107 [==============================] - 178s 2s/step - loss: 0.1612 - accuracy: 0.9418 - val_loss: 0.2126 - val_accuracy: 0.9390\n",
      "Epoch 11/100\n",
      "107/107 [==============================] - 177s 2s/step - loss: 0.1755 - accuracy: 0.9380 - val_loss: 0.2090 - val_accuracy: 0.9421\n",
      "Epoch 12/100\n",
      "107/107 [==============================] - 176s 2s/step - loss: 0.1667 - accuracy: 0.9430 - val_loss: 0.2009 - val_accuracy: 0.9495\n",
      "Epoch 13/100\n",
      "107/107 [==============================] - 175s 2s/step - loss: 0.1458 - accuracy: 0.9485 - val_loss: 0.1886 - val_accuracy: 0.9452\n",
      "Epoch 14/100\n",
      "107/107 [==============================] - 175s 2s/step - loss: 0.1241 - accuracy: 0.9562 - val_loss: 0.1620 - val_accuracy: 0.9564\n",
      "Epoch 15/100\n",
      "107/107 [==============================] - 176s 2s/step - loss: 0.1135 - accuracy: 0.9609 - val_loss: 0.1816 - val_accuracy: 0.9509\n",
      "Epoch 16/100\n",
      "107/107 [==============================] - 176s 2s/step - loss: 0.1187 - accuracy: 0.9598 - val_loss: 0.1621 - val_accuracy: 0.9555\n",
      "Epoch 17/100\n",
      "107/107 [==============================] - 174s 2s/step - loss: 0.1096 - accuracy: 0.9604 - val_loss: 0.1609 - val_accuracy: 0.9574\n",
      "Epoch 18/100\n",
      "107/107 [==============================] - 175s 2s/step - loss: 0.1187 - accuracy: 0.9582 - val_loss: 0.1703 - val_accuracy: 0.9607\n",
      "Epoch 19/100\n",
      "107/107 [==============================] - 173s 2s/step - loss: 0.1135 - accuracy: 0.9605 - val_loss: 0.1769 - val_accuracy: 0.9497\n",
      "Epoch 20/100\n",
      "107/107 [==============================] - 175s 2s/step - loss: 0.1084 - accuracy: 0.9613 - val_loss: 0.1668 - val_accuracy: 0.9524\n",
      "Epoch 21/100\n",
      "107/107 [==============================] - 175s 2s/step - loss: 0.1042 - accuracy: 0.9624 - val_loss: 0.1548 - val_accuracy: 0.9567\n",
      "Epoch 22/100\n",
      "107/107 [==============================] - 176s 2s/step - loss: 0.1193 - accuracy: 0.9579 - val_loss: 0.1673 - val_accuracy: 0.9607\n",
      "Epoch 23/100\n",
      "107/107 [==============================] - 175s 2s/step - loss: 0.1016 - accuracy: 0.9648 - val_loss: 0.1511 - val_accuracy: 0.9648\n",
      "Epoch 24/100\n",
      "107/107 [==============================] - 175s 2s/step - loss: 0.1106 - accuracy: 0.9617 - val_loss: 0.1522 - val_accuracy: 0.9636\n",
      "Epoch 25/100\n",
      "107/107 [==============================] - 176s 2s/step - loss: 0.1075 - accuracy: 0.9608 - val_loss: 0.1760 - val_accuracy: 0.9548\n",
      "Epoch 26/100\n",
      "107/107 [==============================] - 175s 2s/step - loss: 0.1145 - accuracy: 0.9599 - val_loss: 0.1546 - val_accuracy: 0.9567\n",
      "Epoch 27/100\n",
      "107/107 [==============================] - 176s 2s/step - loss: 0.1061 - accuracy: 0.9623 - val_loss: 0.1626 - val_accuracy: 0.9609\n",
      "Epoch 28/100\n",
      "107/107 [==============================] - 176s 2s/step - loss: 0.0899 - accuracy: 0.9681 - val_loss: 0.1645 - val_accuracy: 0.9569\n",
      "Epoch 29/100\n",
      "107/107 [==============================] - 175s 2s/step - loss: 0.1002 - accuracy: 0.9639 - val_loss: 0.1468 - val_accuracy: 0.9643\n",
      "Epoch 30/100\n",
      "107/107 [==============================] - 180s 2s/step - loss: 0.0968 - accuracy: 0.9640 - val_loss: 0.1490 - val_accuracy: 0.9588\n",
      "Epoch 31/100\n",
      "107/107 [==============================] - 182s 2s/step - loss: 0.0939 - accuracy: 0.9670 - val_loss: 0.1428 - val_accuracy: 0.9598\n",
      "Epoch 32/100\n",
      "107/107 [==============================] - 182s 2s/step - loss: 0.0898 - accuracy: 0.9675 - val_loss: 0.1456 - val_accuracy: 0.9621\n",
      "Epoch 33/100\n",
      "107/107 [==============================] - 177s 2s/step - loss: 0.0912 - accuracy: 0.9652 - val_loss: 0.1581 - val_accuracy: 0.9576\n",
      "Epoch 34/100\n",
      "107/107 [==============================] - 177s 2s/step - loss: 0.0870 - accuracy: 0.9684 - val_loss: 0.1510 - val_accuracy: 0.9626\n",
      "Epoch 35/100\n",
      "107/107 [==============================] - 178s 2s/step - loss: 0.0864 - accuracy: 0.9689 - val_loss: 0.1643 - val_accuracy: 0.9605\n",
      "Epoch 36/100\n",
      "107/107 [==============================] - 178s 2s/step - loss: 0.0898 - accuracy: 0.9678 - val_loss: 0.1596 - val_accuracy: 0.9607\n",
      "Epoch 37/100\n",
      "107/107 [==============================] - 178s 2s/step - loss: 0.0914 - accuracy: 0.9674 - val_loss: 0.1632 - val_accuracy: 0.9621\n",
      "Epoch 38/100\n",
      "107/107 [==============================] - 178s 2s/step - loss: 0.0933 - accuracy: 0.9648 - val_loss: 0.1710 - val_accuracy: 0.9628\n",
      "Epoch 39/100\n",
      "107/107 [==============================] - 177s 2s/step - loss: 0.0878 - accuracy: 0.9689 - val_loss: 0.1685 - val_accuracy: 0.9628\n",
      "Epoch 40/100\n",
      "107/107 [==============================] - 176s 2s/step - loss: 0.0911 - accuracy: 0.9664 - val_loss: 0.1708 - val_accuracy: 0.9631\n",
      "Epoch 41/100\n",
      "107/107 [==============================] - 178s 2s/step - loss: 0.0880 - accuracy: 0.9692 - val_loss: 0.1574 - val_accuracy: 0.9614\n"
     ]
    }
   ],
   "source": [
    "#VGG-16 Model\n",
    "vgg16_model, vgg16_history = create_compile_fit_model('VGG16')"
   ]
  },
  {
   "cell_type": "code",
   "execution_count": 9,
   "id": "df992a38",
   "metadata": {
    "execution": {
     "iopub.execute_input": "2022-03-17T22:00:44.607418Z",
     "iopub.status.busy": "2022-03-17T22:00:44.606589Z",
     "iopub.status.idle": "2022-03-17T22:00:44.611534Z",
     "shell.execute_reply": "2022-03-17T22:00:44.611906Z",
     "shell.execute_reply.started": "2022-03-17T14:47:04.615310Z"
    },
    "id": "w50cpJV4NSbL",
    "papermill": {
     "duration": 1.432184,
     "end_time": "2022-03-17T22:00:44.612041",
     "exception": false,
     "start_time": "2022-03-17T22:00:43.179857",
     "status": "completed"
    },
    "tags": []
   },
   "outputs": [
    {
     "name": "stdout",
     "output_type": "stream",
     "text": [
      "Model: \"sequential\"\n",
      "_________________________________________________________________\n",
      "Layer (type)                 Output Shape              Param #   \n",
      "=================================================================\n",
      "vgg16 (Functional)           (None, 7, 7, 512)         14714688  \n",
      "_________________________________________________________________\n",
      "dropout (Dropout)            (None, 7, 7, 512)         0         \n",
      "_________________________________________________________________\n",
      "flatten (Flatten)            (None, 25088)             0         \n",
      "_________________________________________________________________\n",
      "batch_normalization (BatchNo (None, 25088)             100352    \n",
      "_________________________________________________________________\n",
      "dropout_1 (Dropout)          (None, 25088)             0         \n",
      "_________________________________________________________________\n",
      "dense (Dense)                (None, 4)                 100356    \n",
      "=================================================================\n",
      "Total params: 14,915,396\n",
      "Trainable params: 150,532\n",
      "Non-trainable params: 14,764,864\n",
      "_________________________________________________________________\n"
     ]
    }
   ],
   "source": [
    "#Summary of VGG-16 model\n",
    "vgg16_model.summary()"
   ]
  },
  {
   "cell_type": "code",
   "execution_count": 10,
   "id": "7257d884",
   "metadata": {
    "execution": {
     "iopub.execute_input": "2022-03-17T22:00:47.422141Z",
     "iopub.status.busy": "2022-03-17T22:00:47.421344Z",
     "iopub.status.idle": "2022-03-17T22:00:47.636663Z",
     "shell.execute_reply": "2022-03-17T22:00:47.637098Z",
     "shell.execute_reply.started": "2022-03-17T14:47:04.629636Z"
    },
    "id": "_a0r3mhQNSh_",
    "papermill": {
     "duration": 1.630484,
     "end_time": "2022-03-17T22:00:47.637256",
     "exception": false,
     "start_time": "2022-03-17T22:00:46.006772",
     "status": "completed"
    },
    "tags": []
   },
   "outputs": [
    {
     "name": "stdout",
     "output_type": "stream",
     "text": [
      "Maximum Accuracy of Train Set 0.9692285060882568\n",
      "Maximum Accuracy of Validation Set 0.9647535085678101\n",
      "\n",
      "Minimum Loss of Train Set 0.08642399311065674\n",
      "Minimum Loss of Validation Set 0.14279702305793762\n"
     ]
    },
    {
     "data": {
      "image/png": "[encoded data removed]",
      "text/plain": [
       "<Figure size 432x288 with 1 Axes>"
      ]
     },
     "metadata": {
      "needs_background": "light"
     },
     "output_type": "display_data"
    }
   ],
   "source": [
    "#plot accuracy-loss of training-validation set\n",
    "plot_accuracy_loss(vgg16_history)"
   ]
  },
  {
   "cell_type": "code",
   "execution_count": 11,
   "id": "9fe4af2c",
   "metadata": {
    "execution": {
     "iopub.execute_input": "2022-03-17T22:00:50.462820Z",
     "iopub.status.busy": "2022-03-17T22:00:50.461957Z",
     "iopub.status.idle": "2022-03-17T22:00:50.635770Z",
     "shell.execute_reply": "2022-03-17T22:00:50.636186Z",
     "shell.execute_reply.started": "2022-03-17T14:47:32.187690Z"
    },
    "id": "dbrIq-DANXA6",
    "papermill": {
     "duration": 1.58931,
     "end_time": "2022-03-17T22:00:50.636326",
     "exception": false,
     "start_time": "2022-03-17T22:00:49.047016",
     "status": "completed"
    },
    "tags": []
   },
   "outputs": [
    {
     "data": {
      "image/png": "[encoded data removed]",
      "text/plain": [
       "<Figure size 432x288 with 1 Axes>"
      ]
     },
     "metadata": {
      "needs_background": "light"
     },
     "output_type": "display_data"
    }
   ],
   "source": [
    "#plot learning rate to see how drop it\n",
    "plot_learning_rate(vgg16_history)"
   ]
  },
  {
   "cell_type": "code",
   "execution_count": 12,
   "id": "11e53999",
   "metadata": {
    "execution": {
     "iopub.execute_input": "2022-03-17T22:00:53.771228Z",
     "iopub.status.busy": "2022-03-17T22:00:53.770656Z",
     "iopub.status.idle": "2022-03-17T22:00:53.929072Z",
     "shell.execute_reply": "2022-03-17T22:00:53.929852Z",
     "shell.execute_reply.started": "2022-03-17T14:47:32.382859Z"
    },
    "id": "wEdtMhn1NZJV",
    "papermill": {
     "duration": 1.629127,
     "end_time": "2022-03-17T22:00:53.930112",
     "exception": false,
     "start_time": "2022-03-17T22:00:52.300985",
     "status": "completed"
    },
    "tags": []
   },
   "outputs": [],
   "source": [
    "#save the best fit of VGG-16 model\n",
    "vgg16_model.save('./multiclass_VGG16.h5')"
   ]
  },
  {
   "cell_type": "code",
   "execution_count": 13,
   "id": "ee4e5999",
   "metadata": {
    "execution": {
     "iopub.execute_input": "2022-03-17T22:00:56.742674Z",
     "iopub.status.busy": "2022-03-17T22:00:56.741923Z",
     "iopub.status.idle": "2022-03-17T22:03:42.196770Z",
     "shell.execute_reply": "2022-03-17T22:03:42.195429Z",
     "shell.execute_reply.started": "2022-03-17T14:47:32.540826Z"
    },
    "id": "zrwve-gsMI0u",
    "papermill": {
     "duration": 166.855643,
     "end_time": "2022-03-17T22:03:42.196906",
     "exception": false,
     "start_time": "2022-03-17T22:00:55.341263",
     "status": "completed"
    },
    "tags": []
   },
   "outputs": [
    {
     "name": "stdout",
     "output_type": "stream",
     "text": [
      "107/107 [==============================] - 163s 2s/step - loss: 0.0484 - accuracy: 0.9942\n",
      "For VGG-16 model, Training loss 0.0484, accuracy 99.42% \n"
     ]
    }
   ],
   "source": [
    "#Evaluate on Training data\n",
    "train_score = vgg16_model.evaluate(train_data)\n",
    "print('For VGG-16 model, Training loss {:.4f}, accuracy {:.2f}% '.format(train_score[0], train_score[1] * 100))"
   ]
  },
  {
   "cell_type": "code",
   "execution_count": 14,
   "id": "2a48480e",
   "metadata": {
    "execution": {
     "iopub.execute_input": "2022-03-17T22:03:45.184281Z",
     "iopub.status.busy": "2022-03-17T22:03:45.183663Z",
     "iopub.status.idle": "2022-03-17T22:04:06.064763Z",
     "shell.execute_reply": "2022-03-17T22:04:06.064148Z",
     "shell.execute_reply.started": "2022-03-17T14:50:13.259803Z"
    },
    "id": "mwJyVZmGccBp",
    "papermill": {
     "duration": 22.367138,
     "end_time": "2022-03-17T22:04:06.064909",
     "exception": false,
     "start_time": "2022-03-17T22:03:43.697771",
     "status": "completed"
    },
    "tags": []
   },
   "outputs": [
    {
     "name": "stdout",
     "output_type": "stream",
     "text": [
      "33/33 [==============================] - 14s 432ms/step - loss: 0.1574 - accuracy: 0.9614\n",
      "For VGG-16 model, Validation loss 0.1574, accuracy 96.14%\n"
     ]
    }
   ],
   "source": [
    "#Evaluate on validation data\n",
    "val_score = vgg16_model.evaluate(val_data)\n",
    "print('For VGG-16 model, Validation loss {:.4f}, accuracy {:.2f}%'.format(val_score[0], val_score[1] * 100))"
   ]
  },
  {
   "cell_type": "markdown",
   "id": "8cd28336",
   "metadata": {
    "id": "PfYZ64NVOeYi",
    "papermill": {
     "duration": 1.510741,
     "end_time": "2022-03-17T22:04:09.045565",
     "exception": false,
     "start_time": "2022-03-17T22:04:07.534824",
     "status": "completed"
    },
    "tags": []
   },
   "source": [
    "# VGG-19 Model"
   ]
  },
  {
   "cell_type": "code",
   "execution_count": 15,
   "id": "174561f8",
   "metadata": {
    "execution": {
     "iopub.execute_input": "2022-03-17T22:04:12.247319Z",
     "iopub.status.busy": "2022-03-17T22:04:12.246446Z",
     "iopub.status.idle": "2022-03-17T23:37:46.384834Z",
     "shell.execute_reply": "2022-03-17T23:37:46.385401Z",
     "shell.execute_reply.started": "2022-03-17T14:50:27.961557Z"
    },
    "id": "-vphps8ROj2F",
    "papermill": {
     "duration": 5615.60671,
     "end_time": "2022-03-17T23:37:46.385564",
     "exception": false,
     "start_time": "2022-03-17T22:04:10.778854",
     "status": "completed"
    },
    "tags": []
   },
   "outputs": [
    {
     "name": "stdout",
     "output_type": "stream",
     "text": [
      "Downloading data from https://storage.googleapis.com/tensorflow/keras-applications/vgg19/vgg19_weights_tf_dim_ordering_tf_kernels_notop.h5\n",
      "80142336/80134624 [==============================] - 0s 0us/step\n",
      "80150528/80134624 [==============================] - 0s 0us/step\n",
      "Epoch 1/100\n",
      "107/107 [==============================] - 181s 2s/step - loss: 0.5996 - accuracy: 0.7750 - val_loss: 0.2792 - val_accuracy: 0.9024\n",
      "Epoch 2/100\n",
      "107/107 [==============================] - 180s 2s/step - loss: 0.2797 - accuracy: 0.8958 - val_loss: 0.2061 - val_accuracy: 0.9326\n",
      "Epoch 3/100\n",
      "107/107 [==============================] - 180s 2s/step - loss: 0.2164 - accuracy: 0.9212 - val_loss: 0.1879 - val_accuracy: 0.9417\n",
      "Epoch 4/100\n",
      "107/107 [==============================] - 182s 2s/step - loss: 0.2019 - accuracy: 0.9283 - val_loss: 0.1642 - val_accuracy: 0.9495\n",
      "Epoch 5/100\n",
      "107/107 [==============================] - 181s 2s/step - loss: 0.1854 - accuracy: 0.9319 - val_loss: 0.1615 - val_accuracy: 0.9502\n",
      "Epoch 6/100\n",
      "107/107 [==============================] - 181s 2s/step - loss: 0.1743 - accuracy: 0.9366 - val_loss: 0.1966 - val_accuracy: 0.9362\n",
      "Epoch 7/100\n",
      "107/107 [==============================] - 181s 2s/step - loss: 0.1813 - accuracy: 0.9357 - val_loss: 0.2002 - val_accuracy: 0.9378\n",
      "Epoch 8/100\n",
      "107/107 [==============================] - 181s 2s/step - loss: 0.1644 - accuracy: 0.9416 - val_loss: 0.1586 - val_accuracy: 0.9559\n",
      "Epoch 9/100\n",
      "107/107 [==============================] - 181s 2s/step - loss: 0.1696 - accuracy: 0.9418 - val_loss: 0.1684 - val_accuracy: 0.9455\n",
      "Epoch 10/100\n",
      "107/107 [==============================] - 181s 2s/step - loss: 0.1571 - accuracy: 0.9436 - val_loss: 0.2310 - val_accuracy: 0.9355\n",
      "Epoch 11/100\n",
      "107/107 [==============================] - 180s 2s/step - loss: 0.1630 - accuracy: 0.9428 - val_loss: 0.1627 - val_accuracy: 0.9540\n",
      "Epoch 12/100\n",
      "107/107 [==============================] - 182s 2s/step - loss: 0.1687 - accuracy: 0.9415 - val_loss: 0.1559 - val_accuracy: 0.9545\n",
      "Epoch 13/100\n",
      "107/107 [==============================] - 181s 2s/step - loss: 0.1744 - accuracy: 0.9407 - val_loss: 0.1627 - val_accuracy: 0.9526\n",
      "Epoch 14/100\n",
      "107/107 [==============================] - 182s 2s/step - loss: 0.1637 - accuracy: 0.9448 - val_loss: 0.1574 - val_accuracy: 0.9612\n",
      "Epoch 15/100\n",
      "107/107 [==============================] - 181s 2s/step - loss: 0.1657 - accuracy: 0.9442 - val_loss: 0.1684 - val_accuracy: 0.9569\n",
      "Epoch 16/100\n",
      "107/107 [==============================] - 183s 2s/step - loss: 0.1743 - accuracy: 0.9445 - val_loss: 0.1904 - val_accuracy: 0.9509\n",
      "Epoch 17/100\n",
      "107/107 [==============================] - 183s 2s/step - loss: 0.1740 - accuracy: 0.9431 - val_loss: 0.1888 - val_accuracy: 0.9486\n",
      "Epoch 18/100\n",
      "107/107 [==============================] - 182s 2s/step - loss: 0.1384 - accuracy: 0.9538 - val_loss: 0.1621 - val_accuracy: 0.9631\n",
      "Epoch 19/100\n",
      "107/107 [==============================] - 182s 2s/step - loss: 0.1308 - accuracy: 0.9548 - val_loss: 0.1797 - val_accuracy: 0.9602\n",
      "Epoch 20/100\n",
      "107/107 [==============================] - 181s 2s/step - loss: 0.1449 - accuracy: 0.9503 - val_loss: 0.1332 - val_accuracy: 0.9643\n",
      "Epoch 21/100\n",
      "107/107 [==============================] - 181s 2s/step - loss: 0.1250 - accuracy: 0.9575 - val_loss: 0.1402 - val_accuracy: 0.9657\n",
      "Epoch 22/100\n",
      "107/107 [==============================] - 181s 2s/step - loss: 0.1221 - accuracy: 0.9592 - val_loss: 0.1532 - val_accuracy: 0.9636\n",
      "Epoch 23/100\n",
      "107/107 [==============================] - 182s 2s/step - loss: 0.1128 - accuracy: 0.9602 - val_loss: 0.1639 - val_accuracy: 0.9609\n",
      "Epoch 24/100\n",
      "107/107 [==============================] - 181s 2s/step - loss: 0.1204 - accuracy: 0.9571 - val_loss: 0.1489 - val_accuracy: 0.9662\n",
      "Epoch 25/100\n",
      "107/107 [==============================] - 182s 2s/step - loss: 0.1089 - accuracy: 0.9609 - val_loss: 0.1433 - val_accuracy: 0.9640\n",
      "Epoch 26/100\n",
      "107/107 [==============================] - 183s 2s/step - loss: 0.1148 - accuracy: 0.9644 - val_loss: 0.1371 - val_accuracy: 0.9678\n",
      "Epoch 27/100\n",
      "107/107 [==============================] - 181s 2s/step - loss: 0.1004 - accuracy: 0.9638 - val_loss: 0.1426 - val_accuracy: 0.9643\n",
      "Epoch 28/100\n",
      "107/107 [==============================] - 183s 2s/step - loss: 0.1080 - accuracy: 0.9614 - val_loss: 0.1437 - val_accuracy: 0.9686\n",
      "Epoch 29/100\n",
      "107/107 [==============================] - 182s 2s/step - loss: 0.1050 - accuracy: 0.9642 - val_loss: 0.1430 - val_accuracy: 0.9683\n",
      "Epoch 30/100\n",
      "107/107 [==============================] - 182s 2s/step - loss: 0.0983 - accuracy: 0.9640 - val_loss: 0.1348 - val_accuracy: 0.9688\n"
     ]
    }
   ],
   "source": [
    "#VGG-19 Model\n",
    "vgg19_model, vgg19_history = create_compile_fit_model('VGG19')"
   ]
  },
  {
   "cell_type": "code",
   "execution_count": 16,
   "id": "a33032b9",
   "metadata": {
    "execution": {
     "iopub.execute_input": "2022-03-17T23:37:51.938754Z",
     "iopub.status.busy": "2022-03-17T23:37:51.935844Z",
     "iopub.status.idle": "2022-03-17T23:37:51.941785Z",
     "shell.execute_reply": "2022-03-17T23:37:51.941101Z",
     "shell.execute_reply.started": "2022-03-17T16:50:12.302253Z"
    },
    "id": "yXeays7TOoc9",
    "papermill": {
     "duration": 2.975767,
     "end_time": "2022-03-17T23:37:51.941955",
     "exception": false,
     "start_time": "2022-03-17T23:37:48.966188",
     "status": "completed"
    },
    "tags": []
   },
   "outputs": [
    {
     "name": "stdout",
     "output_type": "stream",
     "text": [
      "Model: \"sequential_1\"\n",
      "_________________________________________________________________\n",
      "Layer (type)                 Output Shape              Param #   \n",
      "=================================================================\n",
      "vgg19 (Functional)           (None, 7, 7, 512)         20024384  \n",
      "_________________________________________________________________\n",
      "dropout_2 (Dropout)          (None, 7, 7, 512)         0         \n",
      "_________________________________________________________________\n",
      "flatten_1 (Flatten)          (None, 25088)             0         \n",
      "_________________________________________________________________\n",
      "batch_normalization_1 (Batch (None, 25088)             100352    \n",
      "_________________________________________________________________\n",
      "dropout_3 (Dropout)          (None, 25088)             0         \n",
      "_________________________________________________________________\n",
      "dense_1 (Dense)              (None, 4)                 100356    \n",
      "=================================================================\n",
      "Total params: 20,225,092\n",
      "Trainable params: 150,532\n",
      "Non-trainable params: 20,074,560\n",
      "_________________________________________________________________\n"
     ]
    }
   ],
   "source": [
    "#Summary of VGG-19 model\n",
    "vgg19_model.summary()"
   ]
  },
  {
   "cell_type": "code",
   "execution_count": 17,
   "id": "19cf798f",
   "metadata": {
    "execution": {
     "iopub.execute_input": "2022-03-17T23:37:57.148992Z",
     "iopub.status.busy": "2022-03-17T23:37:57.148130Z",
     "iopub.status.idle": "2022-03-17T23:37:57.340877Z",
     "shell.execute_reply": "2022-03-17T23:37:57.341408Z",
     "shell.execute_reply.started": "2022-03-17T16:50:12.316170Z"
    },
    "id": "5HjW-IAuOrjH",
    "papermill": {
     "duration": 2.641422,
     "end_time": "2022-03-17T23:37:57.341558",
     "exception": false,
     "start_time": "2022-03-17T23:37:54.700136",
     "status": "completed"
    },
    "tags": []
   },
   "outputs": [
    {
     "name": "stdout",
     "output_type": "stream",
     "text": [
      "Maximum Accuracy of Train Set 0.9643930196762085\n",
      "Maximum Accuracy of Validation Set 0.9688020944595337\n",
      "\n",
      "Minimum Loss of Train Set 0.0983477458357811\n",
      "Minimum Loss of Validation Set 0.13321612775325775\n"
     ]
    },
    {
     "data": {
      "image/png": "[encoded data removed]",
      "text/plain": [
       "<Figure size 432x288 with 1 Axes>"
      ]
     },
     "metadata": {
      "needs_background": "light"
     },
     "output_type": "display_data"
    }
   ],
   "source": [
    "#plot accuracy-loss of training-validation set\n",
    "plot_accuracy_loss(vgg19_history)"
   ]
  },
  {
   "cell_type": "code",
   "execution_count": 18,
   "id": "552073fa",
   "metadata": {
    "execution": {
     "iopub.execute_input": "2022-03-17T23:38:02.538888Z",
     "iopub.status.busy": "2022-03-17T23:38:02.537974Z",
     "iopub.status.idle": "2022-03-17T23:38:02.707446Z",
     "shell.execute_reply": "2022-03-17T23:38:02.706820Z",
     "shell.execute_reply.started": "2022-03-17T16:50:12.541198Z"
    },
    "id": "rQUTxjDGOrk0",
    "papermill": {
     "duration": 2.911665,
     "end_time": "2022-03-17T23:38:02.707579",
     "exception": false,
     "start_time": "2022-03-17T23:37:59.795914",
     "status": "completed"
    },
    "tags": []
   },
   "outputs": [
    {
     "data": {
      "image/png": "[encoded data removed]",
      "text/plain": [
       "<Figure size 432x288 with 1 Axes>"
      ]
     },
     "metadata": {
      "needs_background": "light"
     },
     "output_type": "display_data"
    }
   ],
   "source": [
    "#plot learning rate to see how drop it\n",
    "plot_learning_rate(vgg19_history)"
   ]
  },
  {
   "cell_type": "code",
   "execution_count": 19,
   "id": "1c7147e6",
   "metadata": {
    "execution": {
     "iopub.execute_input": "2022-03-17T23:38:07.750186Z",
     "iopub.status.busy": "2022-03-17T23:38:07.739235Z",
     "iopub.status.idle": "2022-03-17T23:38:07.926683Z",
     "shell.execute_reply": "2022-03-17T23:38:07.927423Z",
     "shell.execute_reply.started": "2022-03-17T16:54:36.769687Z"
    },
    "id": "JoFzjMjJOrnu",
    "papermill": {
     "duration": 2.697761,
     "end_time": "2022-03-17T23:38:07.927672",
     "exception": false,
     "start_time": "2022-03-17T23:38:05.229911",
     "status": "completed"
    },
    "tags": []
   },
   "outputs": [],
   "source": [
    "#save the best fit of VGG-19 model\n",
    "vgg19_model.save('./multiclass_VGG19.h5')"
   ]
  },
  {
   "cell_type": "code",
   "execution_count": 20,
   "id": "8e080c53",
   "metadata": {
    "execution": {
     "iopub.execute_input": "2022-03-17T23:38:13.123133Z",
     "iopub.status.busy": "2022-03-17T23:38:13.122571Z",
     "iopub.status.idle": "2022-03-17T23:41:00.949877Z",
     "shell.execute_reply": "2022-03-17T23:41:00.950288Z",
     "shell.execute_reply.started": "2022-03-17T16:54:42.122244Z"
    },
    "id": "dOD6QZ0ZOrpl",
    "papermill": {
     "duration": 170.540735,
     "end_time": "2022-03-17T23:41:00.950457",
     "exception": false,
     "start_time": "2022-03-17T23:38:10.409722",
     "status": "completed"
    },
    "tags": []
   },
   "outputs": [
    {
     "name": "stdout",
     "output_type": "stream",
     "text": [
      "107/107 [==============================] - 166s 2s/step - loss: 0.0487 - accuracy: 0.9927\n",
      "For VGG-19 model, Training loss 0.0487, accuracy 99.27% \n"
     ]
    }
   ],
   "source": [
    "#Evaluate on Training data\n",
    "train_score = vgg19_model.evaluate(train_data)\n",
    "print('For VGG-19 model, Training loss {:.4f}, accuracy {:.2f}% '.format(train_score[0], train_score[1] * 100))"
   ]
  },
  {
   "cell_type": "code",
   "execution_count": 21,
   "id": "070db452",
   "metadata": {
    "execution": {
     "iopub.execute_input": "2022-03-17T23:41:06.008742Z",
     "iopub.status.busy": "2022-03-17T23:41:06.008104Z",
     "iopub.status.idle": "2022-03-17T23:41:26.899784Z",
     "shell.execute_reply": "2022-03-17T23:41:26.899330Z",
     "shell.execute_reply.started": "2022-03-17T16:58:05.600413Z"
    },
    "id": "tXWoOUwncmKu",
    "papermill": {
     "duration": 23.450922,
     "end_time": "2022-03-17T23:41:26.899920",
     "exception": false,
     "start_time": "2022-03-17T23:41:03.448998",
     "status": "completed"
    },
    "tags": []
   },
   "outputs": [
    {
     "name": "stdout",
     "output_type": "stream",
     "text": [
      "33/33 [==============================] - 15s 434ms/step - loss: 0.1348 - accuracy: 0.9688\n",
      "For VGG-19 model, Validation loss 0.1348, accuracy 96.88%\n"
     ]
    }
   ],
   "source": [
    "#Evaluate on validation data\n",
    "val_score = vgg19_model.evaluate(val_data)\n",
    "print('For VGG-19 model, Validation loss {:.4f}, accuracy {:.2f}%'.format(val_score[0], val_score[1] * 100))"
   ]
  },
  {
   "cell_type": "markdown",
   "id": "11ce41e6",
   "metadata": {
    "id": "HObFtNMnPxND",
    "papermill": {
     "duration": 2.78379,
     "end_time": "2022-03-17T23:41:32.194444",
     "exception": false,
     "start_time": "2022-03-17T23:41:29.410654",
     "status": "completed"
    },
    "tags": []
   },
   "source": [
    "# ResNet-152"
   ]
  },
  {
   "cell_type": "code",
   "execution_count": 22,
   "id": "1fb01d75",
   "metadata": {
    "execution": {
     "iopub.execute_input": "2022-03-17T23:41:37.218509Z",
     "iopub.status.busy": "2022-03-17T23:41:37.217653Z",
     "iopub.status.idle": "2022-03-18T02:23:56.266782Z",
     "shell.execute_reply": "2022-03-18T02:23:56.266344Z",
     "shell.execute_reply.started": "2022-03-17T16:59:18.622154Z"
    },
    "id": "f0Mxk1dPP0ny",
    "papermill": {
     "duration": 9741.572077,
     "end_time": "2022-03-18T02:23:56.266916",
     "exception": false,
     "start_time": "2022-03-17T23:41:34.694839",
     "status": "completed"
    },
    "tags": []
   },
   "outputs": [
    {
     "name": "stdout",
     "output_type": "stream",
     "text": [
      "Downloading data from https://storage.googleapis.com/tensorflow/keras-applications/resnet/resnet152_weights_tf_dim_ordering_tf_kernels_notop.h5\n",
      "234700800/234698864 [==============================] - 1s 0us/step\n",
      "234708992/234698864 [==============================] - 1s 0us/step\n",
      "Epoch 1/100\n",
      "107/107 [==============================] - 206s 2s/step - loss: 0.6710 - accuracy: 0.8246 - val_loss: 0.3335 - val_accuracy: 0.8964\n"
     ]
    },
    {
     "name": "stderr",
     "output_type": "stream",
     "text": [
      "/opt/conda/lib/python3.7/site-packages/keras/utils/generic_utils.py:497: CustomMaskWarning: Custom mask layers require a config and must override get_config. When loading, the custom mask layer must be passed to the custom_objects argument.\n",
      "  category=CustomMaskWarning)\n"
     ]
    },
    {
     "name": "stdout",
     "output_type": "stream",
     "text": [
      "Epoch 2/100\n",
      "107/107 [==============================] - 197s 2s/step - loss: 0.2441 - accuracy: 0.9276 - val_loss: 0.3433 - val_accuracy: 0.9047\n",
      "Epoch 3/100\n",
      "107/107 [==============================] - 195s 2s/step - loss: 0.2119 - accuracy: 0.9425 - val_loss: 0.3473 - val_accuracy: 0.9257\n",
      "Epoch 4/100\n",
      "107/107 [==============================] - 196s 2s/step - loss: 0.1832 - accuracy: 0.9525 - val_loss: 0.2201 - val_accuracy: 0.9467\n",
      "Epoch 5/100\n",
      "107/107 [==============================] - 196s 2s/step - loss: 0.1793 - accuracy: 0.9560 - val_loss: 0.3391 - val_accuracy: 0.9283\n",
      "Epoch 6/100\n",
      "107/107 [==============================] - 196s 2s/step - loss: 0.1631 - accuracy: 0.9615 - val_loss: 0.2853 - val_accuracy: 0.9426\n",
      "Epoch 7/100\n",
      "107/107 [==============================] - 197s 2s/step - loss: 0.1407 - accuracy: 0.9683 - val_loss: 0.2200 - val_accuracy: 0.9543\n",
      "Epoch 8/100\n",
      "107/107 [==============================] - 198s 2s/step - loss: 0.1291 - accuracy: 0.9705 - val_loss: 0.2134 - val_accuracy: 0.9640\n",
      "Epoch 9/100\n",
      "107/107 [==============================] - 197s 2s/step - loss: 0.1349 - accuracy: 0.9716 - val_loss: 0.2668 - val_accuracy: 0.9540\n",
      "Epoch 10/100\n",
      "107/107 [==============================] - 197s 2s/step - loss: 0.1426 - accuracy: 0.9730 - val_loss: 0.2263 - val_accuracy: 0.9593\n",
      "Epoch 11/100\n",
      "107/107 [==============================] - 198s 2s/step - loss: 0.1363 - accuracy: 0.9736 - val_loss: 0.1659 - val_accuracy: 0.9700\n",
      "Epoch 12/100\n",
      "107/107 [==============================] - 198s 2s/step - loss: 0.1199 - accuracy: 0.9751 - val_loss: 0.2312 - val_accuracy: 0.9664\n",
      "Epoch 13/100\n",
      "107/107 [==============================] - 197s 2s/step - loss: 0.1410 - accuracy: 0.9733 - val_loss: 0.2020 - val_accuracy: 0.9678\n",
      "Epoch 14/100\n",
      "107/107 [==============================] - 200s 2s/step - loss: 0.1723 - accuracy: 0.9699 - val_loss: 0.1694 - val_accuracy: 0.9755\n",
      "Epoch 15/100\n",
      "107/107 [==============================] - 198s 2s/step - loss: 0.1484 - accuracy: 0.9733 - val_loss: 0.1459 - val_accuracy: 0.9748\n",
      "Epoch 16/100\n",
      "107/107 [==============================] - 199s 2s/step - loss: 0.1068 - accuracy: 0.9796 - val_loss: 0.1520 - val_accuracy: 0.9717\n",
      "Epoch 17/100\n",
      "107/107 [==============================] - 198s 2s/step - loss: 0.1310 - accuracy: 0.9784 - val_loss: 0.3150 - val_accuracy: 0.9517\n",
      "Epoch 18/100\n",
      "107/107 [==============================] - 200s 2s/step - loss: 0.1228 - accuracy: 0.9790 - val_loss: 0.1809 - val_accuracy: 0.9714\n",
      "Epoch 19/100\n",
      "107/107 [==============================] - 200s 2s/step - loss: 0.1347 - accuracy: 0.9774 - val_loss: 0.2737 - val_accuracy: 0.9583\n",
      "Epoch 20/100\n",
      "107/107 [==============================] - 201s 2s/step - loss: 0.1418 - accuracy: 0.9761 - val_loss: 0.1894 - val_accuracy: 0.9712\n",
      "Epoch 21/100\n",
      "107/107 [==============================] - 199s 2s/step - loss: 0.0764 - accuracy: 0.9878 - val_loss: 0.1720 - val_accuracy: 0.9745\n",
      "Epoch 22/100\n",
      "107/107 [==============================] - 201s 2s/step - loss: 0.0703 - accuracy: 0.9882 - val_loss: 0.1359 - val_accuracy: 0.9781\n",
      "Epoch 23/100\n",
      "107/107 [==============================] - 199s 2s/step - loss: 0.0591 - accuracy: 0.9873 - val_loss: 0.1206 - val_accuracy: 0.9809\n",
      "Epoch 24/100\n",
      "107/107 [==============================] - 198s 2s/step - loss: 0.0597 - accuracy: 0.9876 - val_loss: 0.1323 - val_accuracy: 0.9809\n",
      "Epoch 25/100\n",
      "107/107 [==============================] - 200s 2s/step - loss: 0.0507 - accuracy: 0.9900 - val_loss: 0.1268 - val_accuracy: 0.9829\n",
      "Epoch 26/100\n",
      "107/107 [==============================] - 201s 2s/step - loss: 0.0625 - accuracy: 0.9895 - val_loss: 0.1232 - val_accuracy: 0.9812\n",
      "Epoch 27/100\n",
      "107/107 [==============================] - 200s 2s/step - loss: 0.0594 - accuracy: 0.9892 - val_loss: 0.1432 - val_accuracy: 0.9793\n",
      "Epoch 28/100\n",
      "107/107 [==============================] - 200s 2s/step - loss: 0.0510 - accuracy: 0.9897 - val_loss: 0.1339 - val_accuracy: 0.9788\n",
      "Epoch 29/100\n",
      "107/107 [==============================] - 200s 2s/step - loss: 0.0479 - accuracy: 0.9900 - val_loss: 0.0993 - val_accuracy: 0.9848\n",
      "Epoch 30/100\n",
      "107/107 [==============================] - 199s 2s/step - loss: 0.0438 - accuracy: 0.9923 - val_loss: 0.1033 - val_accuracy: 0.9819\n",
      "Epoch 31/100\n",
      "107/107 [==============================] - 201s 2s/step - loss: 0.0432 - accuracy: 0.9914 - val_loss: 0.0916 - val_accuracy: 0.9855\n",
      "Epoch 32/100\n",
      "107/107 [==============================] - 203s 2s/step - loss: 0.0460 - accuracy: 0.9923 - val_loss: 0.0951 - val_accuracy: 0.9845\n",
      "Epoch 33/100\n",
      "107/107 [==============================] - 201s 2s/step - loss: 0.0349 - accuracy: 0.9931 - val_loss: 0.1023 - val_accuracy: 0.9831\n",
      "Epoch 34/100\n",
      "107/107 [==============================] - 204s 2s/step - loss: 0.0411 - accuracy: 0.9918 - val_loss: 0.1011 - val_accuracy: 0.9833\n",
      "Epoch 35/100\n",
      "107/107 [==============================] - 202s 2s/step - loss: 0.0374 - accuracy: 0.9930 - val_loss: 0.0945 - val_accuracy: 0.9843\n",
      "Epoch 36/100\n",
      "107/107 [==============================] - 200s 2s/step - loss: 0.0336 - accuracy: 0.9928 - val_loss: 0.0841 - val_accuracy: 0.9843\n",
      "Epoch 37/100\n",
      "107/107 [==============================] - 196s 2s/step - loss: 0.0259 - accuracy: 0.9945 - val_loss: 0.0987 - val_accuracy: 0.9845\n",
      "Epoch 38/100\n",
      "107/107 [==============================] - 194s 2s/step - loss: 0.0315 - accuracy: 0.9933 - val_loss: 0.0810 - val_accuracy: 0.9864\n",
      "Epoch 39/100\n",
      "107/107 [==============================] - 199s 2s/step - loss: 0.0347 - accuracy: 0.9929 - val_loss: 0.1051 - val_accuracy: 0.9824\n",
      "Epoch 40/100\n",
      "107/107 [==============================] - 196s 2s/step - loss: 0.0333 - accuracy: 0.9923 - val_loss: 0.0899 - val_accuracy: 0.9838\n",
      "Epoch 41/100\n",
      "107/107 [==============================] - 200s 2s/step - loss: 0.0269 - accuracy: 0.9941 - val_loss: 0.0917 - val_accuracy: 0.9859\n",
      "Epoch 42/100\n",
      "107/107 [==============================] - 197s 2s/step - loss: 0.0268 - accuracy: 0.9933 - val_loss: 0.1093 - val_accuracy: 0.9831\n",
      "Epoch 43/100\n",
      "107/107 [==============================] - 199s 2s/step - loss: 0.0244 - accuracy: 0.9945 - val_loss: 0.0993 - val_accuracy: 0.9836\n",
      "Epoch 44/100\n",
      "107/107 [==============================] - 199s 2s/step - loss: 0.0233 - accuracy: 0.9945 - val_loss: 0.1108 - val_accuracy: 0.9826\n",
      "Epoch 45/100\n",
      "107/107 [==============================] - 198s 2s/step - loss: 0.0260 - accuracy: 0.9938 - val_loss: 0.0947 - val_accuracy: 0.9857\n",
      "Epoch 46/100\n",
      "107/107 [==============================] - 201s 2s/step - loss: 0.0313 - accuracy: 0.9944 - val_loss: 0.0913 - val_accuracy: 0.9857\n",
      "Epoch 47/100\n",
      "107/107 [==============================] - 198s 2s/step - loss: 0.0285 - accuracy: 0.9936 - val_loss: 0.1075 - val_accuracy: 0.9836\n",
      "Epoch 48/100\n",
      "107/107 [==============================] - 196s 2s/step - loss: 0.0248 - accuracy: 0.9949 - val_loss: 0.1021 - val_accuracy: 0.9843\n"
     ]
    }
   ],
   "source": [
    "#ResNet-152 Model\n",
    "resnet152_model, resnet152_history = create_compile_fit_model('ResNet152')"
   ]
  },
  {
   "cell_type": "code",
   "execution_count": 23,
   "id": "2117158f",
   "metadata": {
    "execution": {
     "iopub.execute_input": "2022-03-18T02:24:04.936668Z",
     "iopub.status.busy": "2022-03-18T02:24:04.935993Z",
     "iopub.status.idle": "2022-03-18T02:25:02.031441Z",
     "shell.execute_reply": "2022-03-18T02:25:02.030923Z",
     "shell.execute_reply.started": "2022-03-17T19:45:12.475867Z"
    },
    "id": "Py3agM8aPtLC",
    "papermill": {
     "duration": 61.362272,
     "end_time": "2022-03-18T02:25:02.031574",
     "exception": false,
     "start_time": "2022-03-18T02:24:00.669302",
     "status": "completed"
    },
    "tags": []
   },
   "outputs": [
    {
     "name": "stdout",
     "output_type": "stream",
     "text": [
      "Model: \"sequential_2\"\n",
      "_________________________________________________________________\n",
      "Layer (type)                 Output Shape              Param #   \n",
      "=================================================================\n",
      "resnet152 (Functional)       (None, 7, 7, 2048)        58370944  \n",
      "_________________________________________________________________\n",
      "dropout_4 (Dropout)          (None, 7, 7, 2048)        0         \n",
      "_________________________________________________________________\n",
      "flatten_2 (Flatten)          (None, 100352)            0         \n",
      "_________________________________________________________________\n",
      "batch_normalization_2 (Batch (None, 100352)            401408    \n",
      "_________________________________________________________________\n",
      "dropout_5 (Dropout)          (None, 100352)            0         \n",
      "_________________________________________________________________\n",
      "dense_2 (Dense)              (None, 4)                 401412    \n",
      "=================================================================\n",
      "Total params: 59,173,764\n",
      "Trainable params: 602,116\n",
      "Non-trainable params: 58,571,648\n",
      "_________________________________________________________________\n"
     ]
    }
   ],
   "source": [
    "#Summary of VGG-16 model\n",
    "resnet152_model.summary()"
   ]
  },
  {
   "cell_type": "code",
   "execution_count": 24,
   "id": "67bbbc39",
   "metadata": {
    "execution": {
     "iopub.execute_input": "2022-03-18T02:25:10.892256Z",
     "iopub.status.busy": "2022-03-18T02:25:10.891354Z",
     "iopub.status.idle": "2022-03-18T02:25:11.086664Z",
     "shell.execute_reply": "2022-03-18T02:25:11.087107Z",
     "shell.execute_reply.started": "2022-03-17T19:45:24.477355Z"
    },
    "id": "Jq8rMKP9PqUS",
    "papermill": {
     "duration": 4.418073,
     "end_time": "2022-03-18T02:25:11.087262",
     "exception": false,
     "start_time": "2022-03-18T02:25:06.669189",
     "status": "completed"
    },
    "tags": []
   },
   "outputs": [
    {
     "name": "stdout",
     "output_type": "stream",
     "text": [
      "Maximum Accuracy of Train Set 0.9948714375495911\n",
      "Maximum Accuracy of Validation Set 0.9864253401756287\n",
      "\n",
      "Minimum Loss of Train Set 0.02328346110880375\n",
      "Minimum Loss of Validation Set 0.08101002871990204\n"
     ]
    },
    {
     "data": {
      "image/png": "[encoded data removed]",
      "text/plain": [
       "<Figure size 432x288 with 1 Axes>"
      ]
     },
     "metadata": {
      "needs_background": "light"
     },
     "output_type": "display_data"
    }
   ],
   "source": [
    "#plot accuracy-loss of training-validation set\n",
    "plot_accuracy_loss(resnet152_history)"
   ]
  },
  {
   "cell_type": "code",
   "execution_count": 25,
   "id": "5575a6e7",
   "metadata": {
    "execution": {
     "iopub.execute_input": "2022-03-18T02:25:19.819725Z",
     "iopub.status.busy": "2022-03-18T02:25:19.818856Z",
     "iopub.status.idle": "2022-03-18T02:25:19.985188Z",
     "shell.execute_reply": "2022-03-18T02:25:19.984755Z",
     "shell.execute_reply.started": "2022-03-17T19:45:24.717373Z"
    },
    "id": "fXuZa7TSPiHl",
    "papermill": {
     "duration": 4.451917,
     "end_time": "2022-03-18T02:25:19.985316",
     "exception": false,
     "start_time": "2022-03-18T02:25:15.533399",
     "status": "completed"
    },
    "tags": []
   },
   "outputs": [
    {
     "data": {
      "image/png": "[encoded data removed]",
      "text/plain": [
       "<Figure size 432x288 with 1 Axes>"
      ]
     },
     "metadata": {
      "needs_background": "light"
     },
     "output_type": "display_data"
    }
   ],
   "source": [
    "#plot learning rate to see how drop it\n",
    "plot_learning_rate(resnet152_history)"
   ]
  },
  {
   "cell_type": "code",
   "execution_count": 26,
   "id": "d61e98f6",
   "metadata": {
    "execution": {
     "iopub.execute_input": "2022-03-18T02:25:29.132564Z",
     "iopub.status.busy": "2022-03-18T02:25:29.131723Z",
     "iopub.status.idle": "2022-03-18T02:25:30.327496Z",
     "shell.execute_reply": "2022-03-18T02:25:30.328400Z",
     "shell.execute_reply.started": "2022-03-17T19:45:24.927219Z"
    },
    "id": "HN_ebUjgPiJT",
    "papermill": {
     "duration": 5.590128,
     "end_time": "2022-03-18T02:25:30.328641",
     "exception": false,
     "start_time": "2022-03-18T02:25:24.738513",
     "status": "completed"
    },
    "tags": []
   },
   "outputs": [],
   "source": [
    "#save the best fit of ResNet-152 model\n",
    "resnet152_model.save('./multiclass_ResNet152.h5')"
   ]
  },
  {
   "cell_type": "code",
   "execution_count": 27,
   "id": "6bfaec86",
   "metadata": {
    "execution": {
     "iopub.execute_input": "2022-03-18T02:25:39.087674Z",
     "iopub.status.busy": "2022-03-18T02:25:39.087042Z",
     "iopub.status.idle": "2022-03-18T02:28:37.605470Z",
     "shell.execute_reply": "2022-03-18T02:28:37.605882Z",
     "shell.execute_reply.started": "2022-03-17T19:45:26.168198Z"
    },
    "id": "0WglfNRxczqS",
    "papermill": {
     "duration": 183.107057,
     "end_time": "2022-03-18T02:28:37.606060",
     "exception": false,
     "start_time": "2022-03-18T02:25:34.499003",
     "status": "completed"
    },
    "tags": []
   },
   "outputs": [
    {
     "name": "stdout",
     "output_type": "stream",
     "text": [
      "107/107 [==============================] - 177s 2s/step - loss: 0.0061 - accuracy: 0.9991\n",
      "For ResNet-152  model, Training loss 0.0061, accuracy 99.91% \n"
     ]
    }
   ],
   "source": [
    "#Evaluate on Training data\n",
    "train_score = resnet152_model.evaluate(train_data)\n",
    "print('For ResNet-152  model, Training loss {:.4f}, accuracy {:.2f}% '.format(train_score[0], train_score[1] * 100))"
   ]
  },
  {
   "cell_type": "code",
   "execution_count": 28,
   "id": "9d693f83",
   "metadata": {
    "execution": {
     "iopub.execute_input": "2022-03-18T02:28:46.378584Z",
     "iopub.status.busy": "2022-03-18T02:28:46.378004Z",
     "iopub.status.idle": "2022-03-18T02:29:03.868791Z",
     "shell.execute_reply": "2022-03-18T02:29:03.869196Z",
     "shell.execute_reply.started": "2022-03-17T19:48:22.586490Z"
    },
    "id": "kB0NVUmLPiMF",
    "papermill": {
     "duration": 21.986728,
     "end_time": "2022-03-18T02:29:03.869361",
     "exception": false,
     "start_time": "2022-03-18T02:28:41.882633",
     "status": "completed"
    },
    "tags": []
   },
   "outputs": [
    {
     "name": "stdout",
     "output_type": "stream",
     "text": [
      "33/33 [==============================] - 17s 505ms/step - loss: 0.1021 - accuracy: 0.9843\n",
      "For ResNet-152 model, Validation loss 0.1021, accuracy 98.43%\n"
     ]
    }
   ],
   "source": [
    "##Evaluate on validation data\n",
    "val_score = resnet152_model.evaluate(val_data)\n",
    "print('For ResNet-152 model, Validation loss {:.4f}, accuracy {:.2f}%'.format(val_score[0], val_score[1] * 100))"
   ]
  }
 ],
 "metadata": {
  "kernelspec": {
   "display_name": "Python 3",
   "language": "python",
   "name": "python3"
  },
  "language_info": {
   "codemirror_mode": {
    "name": "ipython",
    "version": 3
   },
   "file_extension": ".py",
   "mimetype": "text/x-python",
   "name": "python",
   "nbconvert_exporter": "python",
   "pygments_lexer": "ipython3",
   "version": "3.7.12"
  },
  "papermill": {
   "default_parameters": {},
   "duration": 23821.4844,
   "end_time": "2022-03-18T02:29:12.132613",
   "environment_variables": {},
   "exception": null,
   "input_path": "__notebook__.ipynb",
   "output_path": "__notebook__.ipynb",
   "parameters": {},
   "start_time": "2022-03-17T19:52:10.648213",
   "version": "2.3.3"
  }
 },
 "nbformat": 4,
 "nbformat_minor": 5
}
