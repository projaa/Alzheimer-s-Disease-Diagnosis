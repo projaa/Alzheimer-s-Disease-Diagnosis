{
 "cells": [
  {
   "cell_type": "code",
   "execution_count": 1,
   "id": "3a5c7041",
   "metadata": {
    "execution": {
     "iopub.execute_input": "2022-03-18T04:30:16.385676Z",
     "iopub.status.busy": "2022-03-18T04:30:16.384859Z",
     "iopub.status.idle": "2022-03-18T04:30:22.406983Z",
     "shell.execute_reply": "2022-03-18T04:30:22.405970Z",
     "shell.execute_reply.started": "2022-03-18T04:26:33.719922Z"
    },
    "papermill": {
     "duration": 6.061663,
     "end_time": "2022-03-18T04:30:22.407146",
     "exception": false,
     "start_time": "2022-03-18T04:30:16.345483",
     "status": "completed"
    },
    "tags": []
   },
   "outputs": [],
   "source": [
    "#Import Libraries\n",
    "from sklearn.metrics import classification_report, confusion_matrix, accuracy_score, precision_score, recall_score, f1_score\n",
    "from keras.applications.imagenet_utils import preprocess_input\n",
    "from keras.preprocessing.image import ImageDataGenerator\n",
    "from tensorflow.keras.utils import to_categorical\n",
    "from sklearn.metrics import roc_curve, auc\n",
    "import matplotlib.pyplot as plt\n",
    "import numpy as np\n",
    "import keras"
   ]
  },
  {
   "cell_type": "code",
   "execution_count": 2,
   "id": "3ab48aa5",
   "metadata": {
    "execution": {
     "iopub.execute_input": "2022-03-18T04:30:22.448783Z",
     "iopub.status.busy": "2022-03-18T04:30:22.447232Z",
     "iopub.status.idle": "2022-03-18T04:30:22.449359Z",
     "shell.execute_reply": "2022-03-18T04:30:22.449790Z",
     "shell.execute_reply.started": "2022-03-18T04:26:39.751248Z"
    },
    "id": "DdKP6T92pHAL",
    "papermill": {
     "duration": 0.023604,
     "end_time": "2022-03-18T04:30:22.449924",
     "exception": false,
     "start_time": "2022-03-18T04:30:22.426320",
     "status": "completed"
    },
    "tags": []
   },
   "outputs": [],
   "source": [
    "#load the directory\n",
    "test_dir = '../input/dataset/MultiDataset/Test'"
   ]
  },
  {
   "cell_type": "code",
   "execution_count": 3,
   "id": "1fa3af1e",
   "metadata": {
    "execution": {
     "iopub.execute_input": "2022-03-18T04:30:22.489683Z",
     "iopub.status.busy": "2022-03-18T04:30:22.489117Z",
     "iopub.status.idle": "2022-03-18T04:30:22.492930Z",
     "shell.execute_reply": "2022-03-18T04:30:22.492460Z",
     "shell.execute_reply.started": "2022-03-18T04:26:39.760053Z"
    },
    "id": "S2GU-GdXlhxJ",
    "papermill": {
     "duration": 0.02546,
     "end_time": "2022-03-18T04:30:22.493054",
     "exception": false,
     "start_time": "2022-03-18T04:30:22.467594",
     "status": "completed"
    },
    "tags": []
   },
   "outputs": [],
   "source": [
    "#Variables declaration\n",
    "IMG_SIZE = (224,224)\n",
    "RANDOM_SEED = 1803"
   ]
  },
  {
   "cell_type": "code",
   "execution_count": 4,
   "id": "da48223e",
   "metadata": {
    "execution": {
     "iopub.execute_input": "2022-03-18T04:30:22.533617Z",
     "iopub.status.busy": "2022-03-18T04:30:22.532989Z",
     "iopub.status.idle": "2022-03-18T04:30:23.249393Z",
     "shell.execute_reply": "2022-03-18T04:30:23.250000Z",
     "shell.execute_reply.started": "2022-03-18T04:26:39.775449Z"
    },
    "id": "Bzmi2KrzmS_S",
    "papermill": {
     "duration": 0.739083,
     "end_time": "2022-03-18T04:30:23.250197",
     "exception": false,
     "start_time": "2022-03-18T04:30:22.511114",
     "status": "completed"
    },
    "tags": []
   },
   "outputs": [
    {
     "name": "stdout",
     "output_type": "stream",
     "text": [
      "Found 3147 images belonging to 4 classes.\n"
     ]
    }
   ],
   "source": [
    "#Test Data Generator\n",
    "test_datagen = ImageDataGenerator(preprocessing_function = preprocess_input)\n",
    "\n",
    "test_data = test_datagen.flow_from_directory(\n",
    "    test_dir,\n",
    "    target_size = IMG_SIZE,\n",
    "    color_mode  = 'rgb',\n",
    "    class_mode  = 'categorical',\n",
    "    shuffle     = 'False',\n",
    "    seed        = RANDOM_SEED\n",
    ")"
   ]
  },
  {
   "cell_type": "code",
   "execution_count": 5,
   "id": "9d467190",
   "metadata": {
    "execution": {
     "iopub.execute_input": "2022-03-18T04:30:23.294385Z",
     "iopub.status.busy": "2022-03-18T04:30:23.293839Z",
     "iopub.status.idle": "2022-03-18T04:30:23.296672Z",
     "shell.execute_reply": "2022-03-18T04:30:23.296189Z",
     "shell.execute_reply.started": "2022-03-18T04:26:40.708554Z"
    },
    "id": "pTgp-c5h60dj",
    "papermill": {
     "duration": 0.027488,
     "end_time": "2022-03-18T04:30:23.296786",
     "exception": false,
     "start_time": "2022-03-18T04:30:23.269298",
     "status": "completed"
    },
    "tags": []
   },
   "outputs": [],
   "source": [
    "#Evaluate on Test data\n",
    "def accuracy_loss_evaluation(model):\n",
    "    test_score = model.evaluate(test_data)\n",
    "    print('Test loss {:.4f}, accuracy {:.2f}%'.format(test_score[0], test_score[1] * 100))\n",
    "\n",
    "#True and predicted value calculation\n",
    "def true_prediction_calculation(model):\n",
    "    \n",
    "    predictions = []\n",
    "    true        = []\n",
    "    ctr         = 0\n",
    "    for batch, label in test_data:\n",
    "        prediction = model.predict(batch).argmax(axis = -1)\n",
    "        predictions.extend(prediction)\n",
    "        true.extend(label.argmax(axis = -1))\n",
    "        ctr += len(prediction)\n",
    "        if ctr >= len(test_data.labels):\n",
    "            break\n",
    "        \n",
    "    return true, predictions"
   ]
  },
  {
   "cell_type": "code",
   "execution_count": 6,
   "id": "dbdf5804",
   "metadata": {
    "execution": {
     "iopub.execute_input": "2022-03-18T04:30:23.351382Z",
     "iopub.status.busy": "2022-03-18T04:30:23.350569Z",
     "iopub.status.idle": "2022-03-18T04:30:23.352521Z",
     "shell.execute_reply": "2022-03-18T04:30:23.353253Z",
     "shell.execute_reply.started": "2022-03-18T04:26:40.718303Z"
    },
    "id": "Mnp9bU7e8mXs",
    "papermill": {
     "duration": 0.039164,
     "end_time": "2022-03-18T04:30:23.353393",
     "exception": false,
     "start_time": "2022-03-18T04:30:23.314229",
     "status": "completed"
    },
    "tags": []
   },
   "outputs": [],
   "source": [
    "class_labels = list(test_data.class_indices.keys())\n",
    "#Plot Confusion Matrix\n",
    "def plot_confusion_matirix(true, predictions):\n",
    "    matrix    = confusion_matrix(true, predictions)\n",
    "    fig, axes = plt.subplots()\n",
    "\n",
    "    axes.imshow(matrix, cmap = plt.get_cmap('Oranges'))\n",
    "    for (i, j), e in np.ndenumerate(matrix):\n",
    "        axes.text(j, i, s = str(e), ha='center', va = 'center')\n",
    "    axes.set_xticks(np.arange(0, len(class_labels), 1))\n",
    "    axes.set_xticklabels(class_labels)\n",
    "    axes.set_yticks(np.arange(0, len(class_labels), 1))\n",
    "    axes.set_yticklabels(class_labels)\n",
    "    #axes.set_title('Confusion Matrix')  \n",
    "    plt.show()\n",
    "\n",
    "\n",
    "#Plot ROC curve\n",
    "def plot_roc_curve(true, predictions):\n",
    "\n",
    "    fpr = dict()\n",
    "    tpr = dict()\n",
    "    roc_auc = dict()\n",
    "    lw = 3\n",
    "    n_classes = len(class_labels)\n",
    "    y_test = to_categorical(true)\n",
    "    y_pred = to_categorical(predictions)\n",
    "\n",
    "    plt.figure(figsize = (10,5))\n",
    "    for i in range(n_classes):\n",
    "        fpr[i], tpr[i], _ = roc_curve(y_test[:, i], y_pred[:, i])\n",
    "        roc_auc[i] = auc(fpr[i], tpr[i])\n",
    "\n",
    "    colors = ['aqua', 'darkorange', 'cornflowerblue', 'green']\n",
    "    for i, color in zip(range(n_classes), colors):\n",
    "        plt.plot(fpr[i], tpr[i], color = color, lw = lw,\n",
    "              label='ROC curve of class {0} (area = {1:0.4f})'\n",
    "              ''.format(class_labels[i], roc_auc[i]))\n",
    "\n",
    "    plt.plot([0, 1], [0, 1], 'k--', lw = lw)\n",
    "    #plt.title('Receiver Operating Characteristic (ROC) Curve')\n",
    "    plt.xlabel('False Positive Rate')\n",
    "    plt.ylabel('True Positive Rate')\n",
    "    plt.legend(loc = \"lower right\")\n",
    "    plt.show()\n",
    "    \n",
    "    \n",
    "#Accuracy, Precision, Recall, F1-score, Classification Report, ROC curve\n",
    "def performance_evaluation(true, predictions):\n",
    "\n",
    "    plot_confusion_matirix(true, predictions)\n",
    "\n",
    "    print('\\n\\nAccuracy: {:.2f}%\\n'.format(accuracy_score(true, predictions)*100))\n",
    "\n",
    "    print('Micro Precision: {:.2f}%'.format(precision_score(true, predictions,average = 'micro')*100))\n",
    "    print('Micro Recall: {:.2f}%'.format(recall_score(true, predictions,average = 'micro')*100))\n",
    "    print('Micro F1-score: {:.2f}%\\n'.format(f1_score(true, predictions,average = 'micro')*100))\n",
    "\n",
    "    print('\\nMacro Precision: {:.2f}%'.format(precision_score(true, predictions,average = 'macro')*100))\n",
    "    print('Macro Recall: {:.2f}%'.format(recall_score(true, predictions,average = 'macro')*100))\n",
    "    print('Macro F1-score: {:.2f}%\\n'.format(f1_score(true, predictions,average = 'macro')*100))\n",
    "\n",
    "    print('\\nWeighted Precision: {:.2f}%'.format(precision_score(true, predictions,average = 'weighted')*100))\n",
    "    print('Weighted Recall: {:.2f}%'.format(recall_score(true, predictions,average = 'weighted')*100))\n",
    "    print('Weighted F1-score: {:.2f}%'.format(f1_score(true, predictions,average = 'weighted')*100))\n",
    "\n",
    "    print('\\nClassification Report:\\n')\n",
    "    print(classification_report(true,predictions, target_names=['AD', 'CN', 'EMCI', 'LMCI']))\n",
    "\n",
    "    print('\\n')\n",
    "    plot_roc_curve(true, predictions)"
   ]
  },
  {
   "cell_type": "markdown",
   "id": "a1049d98",
   "metadata": {
    "id": "VpBdjhaINAh1",
    "papermill": {
     "duration": 0.017042,
     "end_time": "2022-03-18T04:30:23.388031",
     "exception": false,
     "start_time": "2022-03-18T04:30:23.370989",
     "status": "completed"
    },
    "tags": []
   },
   "source": [
    "# VGG-16 model"
   ]
  },
  {
   "cell_type": "code",
   "execution_count": 7,
   "id": "0b07cb4c",
   "metadata": {
    "execution": {
     "iopub.execute_input": "2022-03-18T04:30:23.428364Z",
     "iopub.status.busy": "2022-03-18T04:30:23.427838Z",
     "iopub.status.idle": "2022-03-18T04:30:26.527565Z",
     "shell.execute_reply": "2022-03-18T04:30:26.528155Z",
     "shell.execute_reply.started": "2022-03-18T04:26:40.740286Z"
    },
    "id": "N_pXCZN7NHHt",
    "papermill": {
     "duration": 3.121266,
     "end_time": "2022-03-18T04:30:26.528344",
     "exception": false,
     "start_time": "2022-03-18T04:30:23.407078",
     "status": "completed"
    },
    "tags": []
   },
   "outputs": [
    {
     "name": "stderr",
     "output_type": "stream",
     "text": [
      "2022-03-18 04:30:23.512362: I tensorflow/stream_executor/cuda/cuda_gpu_executor.cc:937] successful NUMA node read from SysFS had negative value (-1), but there must be at least one NUMA node, so returning NUMA node zero\n",
      "2022-03-18 04:30:23.626921: I tensorflow/stream_executor/cuda/cuda_gpu_executor.cc:937] successful NUMA node read from SysFS had negative value (-1), but there must be at least one NUMA node, so returning NUMA node zero\n",
      "2022-03-18 04:30:23.627708: I tensorflow/stream_executor/cuda/cuda_gpu_executor.cc:937] successful NUMA node read from SysFS had negative value (-1), but there must be at least one NUMA node, so returning NUMA node zero\n",
      "2022-03-18 04:30:23.628836: I tensorflow/core/platform/cpu_feature_guard.cc:142] This TensorFlow binary is optimized with oneAPI Deep Neural Network Library (oneDNN) to use the following CPU instructions in performance-critical operations:  AVX2 AVX512F FMA\n",
      "To enable them in other operations, rebuild TensorFlow with the appropriate compiler flags.\n",
      "2022-03-18 04:30:23.629881: I tensorflow/stream_executor/cuda/cuda_gpu_executor.cc:937] successful NUMA node read from SysFS had negative value (-1), but there must be at least one NUMA node, so returning NUMA node zero\n",
      "2022-03-18 04:30:23.630545: I tensorflow/stream_executor/cuda/cuda_gpu_executor.cc:937] successful NUMA node read from SysFS had negative value (-1), but there must be at least one NUMA node, so returning NUMA node zero\n",
      "2022-03-18 04:30:23.631135: I tensorflow/stream_executor/cuda/cuda_gpu_executor.cc:937] successful NUMA node read from SysFS had negative value (-1), but there must be at least one NUMA node, so returning NUMA node zero\n",
      "2022-03-18 04:30:25.416628: I tensorflow/stream_executor/cuda/cuda_gpu_executor.cc:937] successful NUMA node read from SysFS had negative value (-1), but there must be at least one NUMA node, so returning NUMA node zero\n",
      "2022-03-18 04:30:25.417397: I tensorflow/stream_executor/cuda/cuda_gpu_executor.cc:937] successful NUMA node read from SysFS had negative value (-1), but there must be at least one NUMA node, so returning NUMA node zero\n",
      "2022-03-18 04:30:25.418096: I tensorflow/stream_executor/cuda/cuda_gpu_executor.cc:937] successful NUMA node read from SysFS had negative value (-1), but there must be at least one NUMA node, so returning NUMA node zero\n",
      "2022-03-18 04:30:25.418682: I tensorflow/core/common_runtime/gpu/gpu_device.cc:1510] Created device /job:localhost/replica:0/task:0/device:GPU:0 with 15403 MB memory:  -> device: 0, name: Tesla P100-PCIE-16GB, pci bus id: 0000:00:04.0, compute capability: 6.0\n"
     ]
    }
   ],
   "source": [
    "#Load VGG-16 Model\n",
    "vgg16_model = keras.models.load_model('../input/multiclass-pretrained-models/multiclass_VGG16.h5')"
   ]
  },
  {
   "cell_type": "code",
   "execution_count": 8,
   "id": "a6e100f4",
   "metadata": {
    "execution": {
     "iopub.execute_input": "2022-03-18T04:30:26.569423Z",
     "iopub.status.busy": "2022-03-18T04:30:26.568702Z",
     "iopub.status.idle": "2022-03-18T04:30:53.368966Z",
     "shell.execute_reply": "2022-03-18T04:30:53.368215Z",
     "shell.execute_reply.started": "2022-03-18T04:26:44.489197Z"
    },
    "id": "zrwve-gsMI0u",
    "papermill": {
     "duration": 26.822218,
     "end_time": "2022-03-18T04:30:53.369136",
     "exception": false,
     "start_time": "2022-03-18T04:30:26.546918",
     "status": "completed"
    },
    "tags": []
   },
   "outputs": [
    {
     "name": "stderr",
     "output_type": "stream",
     "text": [
      "2022-03-18 04:30:26.817757: I tensorflow/compiler/mlir/mlir_graph_optimization_pass.cc:185] None of the MLIR Optimization Passes are enabled (registered 2)\n",
      "2022-03-18 04:30:27.928371: I tensorflow/stream_executor/cuda/cuda_dnn.cc:369] Loaded cuDNN version 8005\n"
     ]
    },
    {
     "name": "stdout",
     "output_type": "stream",
     "text": [
      "99/99 [==============================] - 27s 178ms/step - loss: 0.1410 - accuracy: 0.9657\n",
      "Test loss 0.1410, accuracy 96.57%\n"
     ]
    }
   ],
   "source": [
    "#accuracy-loss of each set for VGG-16 model\n",
    "accuracy_loss_evaluation(vgg16_model)"
   ]
  },
  {
   "cell_type": "code",
   "execution_count": 9,
   "id": "71ac1b07",
   "metadata": {
    "execution": {
     "iopub.execute_input": "2022-03-18T04:30:53.473937Z",
     "iopub.status.busy": "2022-03-18T04:30:53.473254Z",
     "iopub.status.idle": "2022-03-18T04:31:16.146932Z",
     "shell.execute_reply": "2022-03-18T04:31:16.146401Z",
     "shell.execute_reply.started": "2022-03-18T04:27:12.807751Z"
    },
    "id": "5KblqOzBODAZ",
    "papermill": {
     "duration": 22.727857,
     "end_time": "2022-03-18T04:31:16.147067",
     "exception": false,
     "start_time": "2022-03-18T04:30:53.419210",
     "status": "completed"
    },
    "tags": []
   },
   "outputs": [],
   "source": [
    "#Calculate true and predicted value of test set\n",
    "vgg16_y_true, vgg16_y_pred = true_prediction_calculation(vgg16_model)"
   ]
  },
  {
   "cell_type": "code",
   "execution_count": 10,
   "id": "e78a76d0",
   "metadata": {
    "execution": {
     "iopub.execute_input": "2022-03-18T04:31:16.251758Z",
     "iopub.status.busy": "2022-03-18T04:31:16.250933Z",
     "iopub.status.idle": "2022-03-18T04:31:16.663264Z",
     "shell.execute_reply": "2022-03-18T04:31:16.663727Z",
     "shell.execute_reply.started": "2022-03-18T04:27:36.495332Z"
    },
    "id": "b3HoYCv9-X_M",
    "papermill": {
     "duration": 0.466773,
     "end_time": "2022-03-18T04:31:16.663886",
     "exception": false,
     "start_time": "2022-03-18T04:31:16.197113",
     "status": "completed"
    },
    "tags": []
   },
   "outputs": [
    {
     "data": {
      "image/png": "[encoded data removed]",
      "text/plain": [
       "<Figure size 432x288 with 1 Axes>"
      ]
     },
     "metadata": {
      "needs_background": "light"
     },
     "output_type": "display_data"
    },
    {
     "name": "stdout",
     "output_type": "stream",
     "text": [
      "\n",
      "\n",
      "Accuracy: 96.57%\n",
      "\n",
      "Micro Precision: 96.57%\n",
      "Micro Recall: 96.57%\n",
      "Micro F1-score: 96.57%\n",
      "\n",
      "\n",
      "Macro Precision: 96.64%\n",
      "Macro Recall: 96.57%\n",
      "Macro F1-score: 96.58%\n",
      "\n",
      "\n",
      "Weighted Precision: 96.64%\n",
      "Weighted Recall: 96.57%\n",
      "Weighted F1-score: 96.58%\n",
      "\n",
      "Classification Report:\n",
      "\n",
      "              precision    recall  f1-score   support\n",
      "\n",
      "          AD       0.98      0.96      0.97       786\n",
      "          CN       0.96      0.96      0.96       789\n",
      "        EMCI       0.93      0.99      0.96       786\n",
      "        LMCI       0.98      0.96      0.97       786\n",
      "\n",
      "    accuracy                           0.97      3147\n",
      "   macro avg       0.97      0.97      0.97      3147\n",
      "weighted avg       0.97      0.97      0.97      3147\n",
      "\n",
      "\n",
      "\n"
     ]
    },
    {
     "data": {
      "image/png": "[encoded data removed]",
      "text/plain": [
       "<Figure size 720x360 with 1 Axes>"
      ]
     },
     "metadata": {
      "needs_background": "light"
     },
     "output_type": "display_data"
    }
   ],
   "source": [
    "#Performance Evaluation of VGG-16 model\n",
    "performance_evaluation(vgg16_y_true, vgg16_y_pred)"
   ]
  },
  {
   "cell_type": "markdown",
   "id": "739fe52b",
   "metadata": {
    "id": "PfYZ64NVOeYi",
    "papermill": {
     "duration": 0.051712,
     "end_time": "2022-03-18T04:31:16.767237",
     "exception": false,
     "start_time": "2022-03-18T04:31:16.715525",
     "status": "completed"
    },
    "tags": []
   },
   "source": [
    "# VGG-19 Model"
   ]
  },
  {
   "cell_type": "code",
   "execution_count": 11,
   "id": "75128507",
   "metadata": {
    "execution": {
     "iopub.execute_input": "2022-03-18T04:31:16.874275Z",
     "iopub.status.busy": "2022-03-18T04:31:16.873736Z",
     "iopub.status.idle": "2022-03-18T04:31:18.084859Z",
     "shell.execute_reply": "2022-03-18T04:31:18.083904Z",
     "shell.execute_reply.started": "2022-03-18T04:27:36.925675Z"
    },
    "id": "JoFzjMjJOrnu",
    "papermill": {
     "duration": 1.266063,
     "end_time": "2022-03-18T04:31:18.085013",
     "exception": false,
     "start_time": "2022-03-18T04:31:16.818950",
     "status": "completed"
    },
    "tags": []
   },
   "outputs": [],
   "source": [
    "#Load VGG-19 model\n",
    "vgg19_model = keras.models.load_model('../input/multiclass-pretrained-models/multiclass_VGG19.h5')"
   ]
  },
  {
   "cell_type": "code",
   "execution_count": 12,
   "id": "001e8dff",
   "metadata": {
    "execution": {
     "iopub.execute_input": "2022-03-18T04:31:18.198181Z",
     "iopub.status.busy": "2022-03-18T04:31:18.196805Z",
     "iopub.status.idle": "2022-03-18T04:31:27.929323Z",
     "shell.execute_reply": "2022-03-18T04:31:27.929938Z",
     "shell.execute_reply.started": "2022-03-18T04:27:38.521007Z"
    },
    "id": "dOD6QZ0ZOrpl",
    "papermill": {
     "duration": 9.790243,
     "end_time": "2022-03-18T04:31:27.930134",
     "exception": false,
     "start_time": "2022-03-18T04:31:18.139891",
     "status": "completed"
    },
    "tags": []
   },
   "outputs": [
    {
     "name": "stdout",
     "output_type": "stream",
     "text": [
      "99/99 [==============================] - 10s 95ms/step - loss: 0.1402 - accuracy: 0.9616\n",
      "Test loss 0.1402, accuracy 96.16%\n"
     ]
    }
   ],
   "source": [
    "#accuracy-loss of each set for VGG-19 model\n",
    "accuracy_loss_evaluation(vgg19_model)"
   ]
  },
  {
   "cell_type": "code",
   "execution_count": 13,
   "id": "5a0e5800",
   "metadata": {
    "execution": {
     "iopub.execute_input": "2022-03-18T04:31:28.102550Z",
     "iopub.status.busy": "2022-03-18T04:31:28.101473Z",
     "iopub.status.idle": "2022-03-18T04:31:50.833165Z",
     "shell.execute_reply": "2022-03-18T04:31:50.832667Z",
     "shell.execute_reply.started": "2022-03-18T04:27:48.444626Z"
    },
    "id": "CR8GGaErOrsX",
    "papermill": {
     "duration": 22.820141,
     "end_time": "2022-03-18T04:31:50.833310",
     "exception": false,
     "start_time": "2022-03-18T04:31:28.013169",
     "status": "completed"
    },
    "tags": []
   },
   "outputs": [],
   "source": [
    "#Calculate true and predicted value of test set\n",
    "vgg19_y_true, vgg19_y_pred = true_prediction_calculation(vgg19_model)"
   ]
  },
  {
   "cell_type": "code",
   "execution_count": 14,
   "id": "65a9be41",
   "metadata": {
    "execution": {
     "iopub.execute_input": "2022-03-18T04:31:51.008324Z",
     "iopub.status.busy": "2022-03-18T04:31:51.007539Z",
     "iopub.status.idle": "2022-03-18T04:31:51.411974Z",
     "shell.execute_reply": "2022-03-18T04:31:51.411049Z",
     "shell.execute_reply.started": "2022-03-18T04:28:12.352398Z"
    },
    "id": "BL1gRGttOrub",
    "papermill": {
     "duration": 0.494952,
     "end_time": "2022-03-18T04:31:51.412116",
     "exception": false,
     "start_time": "2022-03-18T04:31:50.917164",
     "status": "completed"
    },
    "tags": []
   },
   "outputs": [
    {
     "data": {
      "image/png": "[encoded data removed]",
      "text/plain": [
       "<Figure size 432x288 with 1 Axes>"
      ]
     },
     "metadata": {
      "needs_background": "light"
     },
     "output_type": "display_data"
    },
    {
     "name": "stdout",
     "output_type": "stream",
     "text": [
      "\n",
      "\n",
      "Accuracy: 96.16%\n",
      "\n",
      "Micro Precision: 96.16%\n",
      "Micro Recall: 96.16%\n",
      "Micro F1-score: 96.16%\n",
      "\n",
      "\n",
      "Macro Precision: 96.20%\n",
      "Macro Recall: 96.16%\n",
      "Macro F1-score: 96.16%\n",
      "\n",
      "\n",
      "Weighted Precision: 96.20%\n",
      "Weighted Recall: 96.16%\n",
      "Weighted F1-score: 96.16%\n",
      "\n",
      "Classification Report:\n",
      "\n",
      "              precision    recall  f1-score   support\n",
      "\n",
      "          AD       0.98      0.97      0.97       786\n",
      "          CN       0.97      0.96      0.96       789\n",
      "        EMCI       0.93      0.97      0.95       786\n",
      "        LMCI       0.97      0.94      0.96       786\n",
      "\n",
      "    accuracy                           0.96      3147\n",
      "   macro avg       0.96      0.96      0.96      3147\n",
      "weighted avg       0.96      0.96      0.96      3147\n",
      "\n",
      "\n",
      "\n"
     ]
    },
    {
     "data": {
      "image/png": "[encoded data removed]",
      "text/plain": [
       "<Figure size 720x360 with 1 Axes>"
      ]
     },
     "metadata": {
      "needs_background": "light"
     },
     "output_type": "display_data"
    }
   ],
   "source": [
    "#Performance Evaluation of VGG-19 model\n",
    "performance_evaluation(vgg19_y_true, vgg19_y_pred)"
   ]
  },
  {
   "cell_type": "markdown",
   "id": "782aa7a8",
   "metadata": {
    "id": "HObFtNMnPxND",
    "papermill": {
     "duration": 0.083736,
     "end_time": "2022-03-18T04:31:51.580108",
     "exception": false,
     "start_time": "2022-03-18T04:31:51.496372",
     "status": "completed"
    },
    "tags": []
   },
   "source": [
    "# ResNet-152"
   ]
  },
  {
   "cell_type": "code",
   "execution_count": 15,
   "id": "a93c389c",
   "metadata": {
    "execution": {
     "iopub.execute_input": "2022-03-18T04:31:51.754613Z",
     "iopub.status.busy": "2022-03-18T04:31:51.753871Z",
     "iopub.status.idle": "2022-03-18T04:31:58.720981Z",
     "shell.execute_reply": "2022-03-18T04:31:58.721417Z",
     "shell.execute_reply.started": "2022-03-18T04:28:12.775918Z"
    },
    "id": "HN_ebUjgPiJT",
    "papermill": {
     "duration": 7.055565,
     "end_time": "2022-03-18T04:31:58.721610",
     "exception": false,
     "start_time": "2022-03-18T04:31:51.666045",
     "status": "completed"
    },
    "tags": []
   },
   "outputs": [],
   "source": [
    "#Load ResNet-152 model\n",
    "resnet152_model = keras.models.load_model('../input/multiclass-pretrained-models/multiclass_ResNet152.h5')"
   ]
  },
  {
   "cell_type": "code",
   "execution_count": 16,
   "id": "340302a4",
   "metadata": {
    "execution": {
     "iopub.execute_input": "2022-03-18T04:31:58.897195Z",
     "iopub.status.busy": "2022-03-18T04:31:58.896591Z",
     "iopub.status.idle": "2022-03-18T04:32:16.279768Z",
     "shell.execute_reply": "2022-03-18T04:32:16.280347Z",
     "shell.execute_reply.started": "2022-03-18T04:28:20.155891Z"
    },
    "id": "kB0NVUmLPiMF",
    "papermill": {
     "duration": 17.473373,
     "end_time": "2022-03-18T04:32:16.280565",
     "exception": false,
     "start_time": "2022-03-18T04:31:58.807192",
     "status": "completed"
    },
    "tags": []
   },
   "outputs": [
    {
     "name": "stdout",
     "output_type": "stream",
     "text": [
      "99/99 [==============================] - 17s 147ms/step - loss: 0.1508 - accuracy: 0.9774\n",
      "Test loss 0.1508, accuracy 97.74%\n"
     ]
    }
   ],
   "source": [
    "#accuracy-loss of each set for ResNet-152 model\n",
    "accuracy_loss_evaluation(resnet152_model)"
   ]
  },
  {
   "cell_type": "code",
   "execution_count": 17,
   "id": "bcff87f5",
   "metadata": {
    "execution": {
     "iopub.execute_input": "2022-03-18T04:32:16.515865Z",
     "iopub.status.busy": "2022-03-18T04:32:16.514998Z",
     "iopub.status.idle": "2022-03-18T04:32:44.938055Z",
     "shell.execute_reply": "2022-03-18T04:32:44.937172Z",
     "shell.execute_reply.started": "2022-03-18T04:28:37.550586Z"
    },
    "id": "zfiS7bONPiNi",
    "papermill": {
     "duration": 28.542944,
     "end_time": "2022-03-18T04:32:44.938200",
     "exception": false,
     "start_time": "2022-03-18T04:32:16.395256",
     "status": "completed"
    },
    "tags": []
   },
   "outputs": [],
   "source": [
    "#Calculate true and predicted value of test set\n",
    "resnet152_y_true, resnet152_y_pred = true_prediction_calculation(resnet152_model)"
   ]
  },
  {
   "cell_type": "code",
   "execution_count": 18,
   "id": "94b9d3bd",
   "metadata": {
    "execution": {
     "iopub.execute_input": "2022-03-18T04:32:45.173907Z",
     "iopub.status.busy": "2022-03-18T04:32:45.173091Z",
     "iopub.status.idle": "2022-03-18T04:32:45.594233Z",
     "shell.execute_reply": "2022-03-18T04:32:45.594668Z",
     "shell.execute_reply.started": "2022-03-18T04:29:05.752553Z"
    },
    "papermill": {
     "duration": 0.541471,
     "end_time": "2022-03-18T04:32:45.594824",
     "exception": false,
     "start_time": "2022-03-18T04:32:45.053353",
     "status": "completed"
    },
    "tags": []
   },
   "outputs": [
    {
     "data": {
      "image/png": "[encoded data removed]",
      "text/plain": [
       "<Figure size 432x288 with 1 Axes>"
      ]
     },
     "metadata": {
      "needs_background": "light"
     },
     "output_type": "display_data"
    },
    {
     "name": "stdout",
     "output_type": "stream",
     "text": [
      "\n",
      "\n",
      "Accuracy: 97.74%\n",
      "\n",
      "Micro Precision: 97.74%\n",
      "Micro Recall: 97.74%\n",
      "Micro F1-score: 97.74%\n",
      "\n",
      "\n",
      "Macro Precision: 97.82%\n",
      "Macro Recall: 97.74%\n",
      "Macro F1-score: 97.75%\n",
      "\n",
      "\n",
      "Weighted Precision: 97.82%\n",
      "Weighted Recall: 97.74%\n",
      "Weighted F1-score: 97.75%\n",
      "\n",
      "Classification Report:\n",
      "\n",
      "              precision    recall  f1-score   support\n",
      "\n",
      "          AD       0.99      0.97      0.98       786\n",
      "          CN       0.97      0.98      0.98       789\n",
      "        EMCI       0.95      1.00      0.97       786\n",
      "        LMCI       1.00      0.96      0.98       786\n",
      "\n",
      "    accuracy                           0.98      3147\n",
      "   macro avg       0.98      0.98      0.98      3147\n",
      "weighted avg       0.98      0.98      0.98      3147\n",
      "\n",
      "\n",
      "\n"
     ]
    },
    {
     "data": {
      "image/png": "[encoded data removed]",
      "text/plain": [
       "<Figure size 720x360 with 1 Axes>"
      ]
     },
     "metadata": {
      "needs_background": "light"
     },
     "output_type": "display_data"
    }
   ],
   "source": [
    "#Performance Evaluation of ResNet-152 model\n",
    "performance_evaluation(resnet152_y_true, resnet152_y_pred)"
   ]
  }
 ],
 "metadata": {
  "kernelspec": {
   "display_name": "Python 3",
   "language": "python",
   "name": "python3"
  },
  "language_info": {
   "codemirror_mode": {
    "name": "ipython",
    "version": 3
   },
   "file_extension": ".py",
   "mimetype": "text/x-python",
   "name": "python",
   "nbconvert_exporter": "python",
   "pygments_lexer": "ipython3",
   "version": "3.7.12"
  },
  "papermill": {
   "default_parameters": {},
   "duration": 160.392525,
   "end_time": "2022-03-18T04:32:48.678679",
   "environment_variables": {},
   "exception": null,
   "input_path": "__notebook__.ipynb",
   "output_path": "__notebook__.ipynb",
   "parameters": {},
   "start_time": "2022-03-18T04:30:08.286154",
   "version": "2.3.3"
  }
 },
 "nbformat": 4,
 "nbformat_minor": 5
}
