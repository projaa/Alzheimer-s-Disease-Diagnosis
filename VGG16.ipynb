{
  "nbformat": 4,
  "nbformat_minor": 0,
  "metadata": {
    "accelerator": "GPU",
    "colab": {
      "name": "VGG16.ipynb",
      "provenance": [],
      "collapsed_sections": []
    },
    "kernelspec": {
      "display_name": "Python 3",
      "name": "python3"
    }
  },
  "cells": [
    {
      "cell_type": "code",
      "metadata": {
        "id": "WgllZkdgn2oh"
      },
      "source": [
        "#load libraries\n",
        "from tensorflow.keras.preprocessing.image import ImageDataGenerator\n",
        "from keras.applications.vgg16 import VGG16, preprocess_input\n",
        "from keras.models import Sequential\n",
        "from keras import models,layers\n",
        "import matplotlib.pyplot as plt\n",
        "import tensorflow as tf\n",
        "import numpy as np\n",
        "import random\n",
        "import shutil\n",
        "import cv2\n",
        "import os"
      ],
      "execution_count": 1,
      "outputs": []
    },
    {
      "cell_type": "code",
      "metadata": {
        "id": "ymfLNeV40c_p",
        "colab": {
          "base_uri": "https://localhost:8080/"
        },
        "outputId": "d2ec0622-4da6-408f-aa31-0353e06abc85"
      },
      "source": [
        "from google.colab import drive\n",
        "drive.mount('/content/drive')"
      ],
      "execution_count": 2,
      "outputs": [
        {
          "output_type": "stream",
          "name": "stdout",
          "text": [
            "Mounted at /content/drive\n"
          ]
        }
      ]
    },
    {
      "cell_type": "markdown",
      "source": [
        "# DATASET PREPARATION"
      ],
      "metadata": {
        "id": "2L82X6v50nvt"
      }
    },
    {
      "cell_type": "code",
      "metadata": {
        "id": "DdKP6T92pHAL"
      },
      "source": [
        "data_path = '/content/drive/MyDrive/Alzheimer_s Dataset/'"
      ],
      "execution_count": 3,
      "outputs": []
    },
    {
      "cell_type": "code",
      "metadata": {
        "id": "guoCfMxgGxRt",
        "colab": {
          "base_uri": "https://localhost:8080/"
        },
        "outputId": "24ec774c-cd81-48db-ab23-21f577f4cd1d"
      },
      "source": [
        "#4 classes\n",
        "classes = ['MildDemented','ModerateDemented','NonDemented','VeryMildDemented']\n",
        "freq_of_classes = []\n",
        "for CLASS in classes:\n",
        "  freq_of_classes.append(len(os.listdir(data_path + CLASS + '/')))\n",
        "print(freq_of_classes)"
      ],
      "execution_count": 4,
      "outputs": [
        {
          "output_type": "stream",
          "name": "stdout",
          "text": [
            "[717, 52, 2560, 1792]\n"
          ]
        }
      ]
    },
    {
      "cell_type": "code",
      "source": [
        "#Create Train-Test directory\n",
        "!mkdir TRAIN_DIR TRAIN_DIR/MildDemented TRAIN_DIR/ModerateDemented TRAIN_DIR/NonDemented TRAIN_DIR/VeryMildDemented\n",
        "!mkdir TEST_DIR TEST_DIR/MildDemented TEST_DIR/ModerateDemented TEST_DIR/NonDemented TEST_DIR/VeryMildDemented\n",
        "\n",
        "TRAIN_DIR = '/content/TRAIN_DIR/'\n",
        "TEST_DIR = '/content/TEST_DIR/'"
      ],
      "metadata": {
        "id": "WtrkG67i1S3w"
      },
      "execution_count": 5,
      "outputs": []
    },
    {
      "cell_type": "code",
      "source": [
        "#Distribute the data into Train-Test directory\n",
        "test_ratio = 0.2\n",
        "training_label_freq = []\n",
        "test_label_freq = []\n",
        "\n",
        "for label in classes:\n",
        "  training_path = os.listdir(data_path + label + '/')\n",
        "  test_path = random.sample(training_path,int(len(training_path)*test_ratio))\n",
        "  training_path = [file for file in training_path if file not in test_path]\n",
        "  #Data copied to train-test directory\n",
        "  for file in training_path:\n",
        "    shutil.copy(data_path + label + '/' + file,TRAIN_DIR + label + '/' + file)\n",
        "  for file in test_path:\n",
        "    shutil.copy(data_path + label + '/' + file,TEST_DIR + label + '/' + file)\n",
        "  \n",
        "  training_label_freq.append(len(training_path))\n",
        "  test_label_freq.append(len(test_path))\n",
        "\n",
        "print(training_label_freq)\n",
        "print(test_label_freq)"
      ],
      "metadata": {
        "id": "rNaOuxwO1lwv",
        "colab": {
          "base_uri": "https://localhost:8080/"
        },
        "outputId": "268a8a37-c846-4c52-9d74-2442f6d1d56d"
      },
      "execution_count": 6,
      "outputs": [
        {
          "output_type": "stream",
          "name": "stdout",
          "text": [
            "[574, 42, 2048, 1434]\n",
            "[143, 10, 512, 358]\n"
          ]
        }
      ]
    },
    {
      "cell_type": "code",
      "source": [
        "def load_data(dir_path):\n",
        "    X = []\n",
        "    y = []\n",
        "    class_labels = dict()\n",
        "    i = 0\n",
        "    for CLASS in classes:\n",
        "        class_labels[i] = CLASS\n",
        "        for file in os.listdir(dir_path + CLASS + '/'):\n",
        "            img = cv2.imread(dir_path + CLASS + '/' + file)\n",
        "            X.append(img)\n",
        "            y.append(i)\n",
        "        i += 1\n",
        "    X = np.array(X)\n",
        "    y = np.array(y)\n",
        "    print(str(len(X)) + ' images loaded.')\n",
        "    return X, y, class_labels"
      ],
      "metadata": {
        "id": "Tdt1azd_0vks"
      },
      "execution_count": 7,
      "outputs": []
    },
    {
      "cell_type": "code",
      "source": [
        "#load the dataset\n",
        "X_set, y_set, labels  = load_data(TRAIN_DIR)"
      ],
      "metadata": {
        "id": "x-RH_MEI02UC",
        "colab": {
          "base_uri": "https://localhost:8080/"
        },
        "outputId": "9e700275-b209-4de9-9cf3-18b40c458022"
      },
      "execution_count": 8,
      "outputs": [
        {
          "output_type": "stream",
          "name": "stdout",
          "text": [
            "4098 images loaded.\n"
          ]
        }
      ]
    },
    {
      "cell_type": "code",
      "source": [
        "print(X_set.shape)\n",
        "print(y_set.shape)\n",
        "print(labels)"
      ],
      "metadata": {
        "id": "Cv4AFPIY068R",
        "colab": {
          "base_uri": "https://localhost:8080/"
        },
        "outputId": "3da6be97-1e49-494e-abcb-5d96c8b78cf4"
      },
      "execution_count": 9,
      "outputs": [
        {
          "output_type": "stream",
          "name": "stdout",
          "text": [
            "(4098, 208, 176, 3)\n",
            "(4098,)\n",
            "{0: 'MildDemented', 1: 'ModerateDemented', 2: 'NonDemented', 3: 'VeryMildDemented'}\n"
          ]
        }
      ]
    },
    {
      "cell_type": "markdown",
      "source": [
        "# SMOTE"
      ],
      "metadata": {
        "id": "AsqyEcY709q6"
      }
    },
    {
      "cell_type": "code",
      "source": [
        "from imblearn.over_sampling import SMOTE\n",
        "\n",
        "def SMOTE_Sampling(X,y):\n",
        "    a = X.shape[0]        #Total number of samples 4098\n",
        "    b = X.shape[1]        #height 224\n",
        "    c = X.shape[2]        #width 176\n",
        "    d = X.shape[3]        #channels 3\n",
        "    X = X.reshape(X.shape[0], -1)   # (4098,224*176*3)\n",
        "    sampler = SMOTE()\n",
        "    X_res, y_res = sampler.fit_resample(X, y)\n",
        "    a = X_res.shape[0]    #New samples 2048*4\n",
        "    X_res = X_res.reshape(a,b,c,d) #(8192, 208, 176, 3))\n",
        "    print(X_res.shape)\n",
        "    print(y_res.shape)\n",
        "    return X_res, y_res"
      ],
      "metadata": {
        "id": "Zqio7LaV0_q2"
      },
      "execution_count": 10,
      "outputs": []
    },
    {
      "cell_type": "code",
      "source": [
        "reSampled_X_set, reSampled_y_set = SMOTE_Sampling(X_set,y_set)"
      ],
      "metadata": {
        "id": "gLW0XK0M1D0w",
        "colab": {
          "base_uri": "https://localhost:8080/"
        },
        "outputId": "ad9a6a55-116b-4751-d78b-438d20b33f4e"
      },
      "execution_count": 11,
      "outputs": [
        {
          "output_type": "stream",
          "name": "stdout",
          "text": [
            "(8192, 208, 176, 3)\n",
            "(8192,)\n"
          ]
        }
      ]
    },
    {
      "cell_type": "code",
      "source": [
        "from collections import Counter\n",
        "print(\"Before Resampling->\", Counter(y_set))\n",
        "print(\"After Resampling->\", Counter(reSampled_y_set))"
      ],
      "metadata": {
        "id": "gEtQO5Rs1GbJ",
        "colab": {
          "base_uri": "https://localhost:8080/"
        },
        "outputId": "cebb2b36-3ad4-48a6-d579-821349822834"
      },
      "execution_count": 12,
      "outputs": [
        {
          "output_type": "stream",
          "name": "stdout",
          "text": [
            "Before Resampling-> Counter({2: 2048, 3: 1434, 0: 574, 1: 42})\n",
            "After Resampling-> Counter({0: 2048, 1: 2048, 2: 2048, 3: 2048})\n"
          ]
        }
      ]
    },
    {
      "cell_type": "markdown",
      "source": [
        "# RESAMPLED DIRECTORY"
      ],
      "metadata": {
        "id": "q02v6xl-13z7"
      }
    },
    {
      "cell_type": "code",
      "source": [
        "!mkdir resampled_dir resampled_dir/MildDemented resampled_dir/ModerateDemented resampled_dir/NonDemented resampled_dir/VeryMildDemented"
      ],
      "metadata": {
        "id": "ho-wteqK17CM"
      },
      "execution_count": 13,
      "outputs": []
    },
    {
      "cell_type": "code",
      "source": [
        "RESAMPLED_DIR = '/content/resampled_dir/'"
      ],
      "metadata": {
        "id": "26qL6gJB19Pe"
      },
      "execution_count": 14,
      "outputs": []
    },
    {
      "cell_type": "code",
      "source": [
        "#Save the resampled images to new directory\n",
        "def save_sampled_images(X,y,dir_name):\n",
        "    i = 0\n",
        "    for (img,imclass) in zip(X,y):\n",
        "        if imclass == 0:\n",
        "            cv2.imwrite(dir_name + 'MildDemented/' + str(i) + '.jpg',img)\n",
        "        elif imclass == 1:\n",
        "            cv2.imwrite(dir_name + 'ModerateDemented/' + str(i) + '.jpg',img)\n",
        "        elif imclass == 2:\n",
        "            cv2.imwrite(dir_name + 'NonDemented/' + str(i) + '.jpg',img)\n",
        "        elif imclass == 3:\n",
        "            cv2.imwrite(dir_name + 'VeryMildDemented/' + str(i) + '.jpg',img)\n",
        "        i += 1"
      ],
      "metadata": {
        "id": "jjC7F6sc2GFh"
      },
      "execution_count": 15,
      "outputs": []
    },
    {
      "cell_type": "code",
      "source": [
        "save_sampled_images(reSampled_X_set,reSampled_y_set,dir_name = RESAMPLED_DIR)"
      ],
      "metadata": {
        "id": "Wy-esG842I1R"
      },
      "execution_count": 16,
      "outputs": []
    },
    {
      "cell_type": "markdown",
      "source": [
        "# DATA Generator"
      ],
      "metadata": {
        "id": "Dyh6Yyb22Kug"
      }
    },
    {
      "cell_type": "code",
      "metadata": {
        "id": "rENuYdQJ10vm",
        "colab": {
          "base_uri": "https://localhost:8080/"
        },
        "outputId": "fb3fb5b2-deb9-4e2a-912f-0c6f173f62fa"
      },
      "source": [
        "BATCH_SIZE = 128\n",
        "IMG_SIZE = (224,224)\n",
        "\n",
        "train_datagen = ImageDataGenerator(validation_split = 0.20, preprocessing_function = preprocess_input)\n",
        "train_data = train_datagen.flow_from_directory(RESAMPLED_DIR,\n",
        "                                               target_size = IMG_SIZE,\n",
        "                                               color_mode = 'rgb',\n",
        "                                               class_mode = 'categorical',\n",
        "                                               shuffle = 'True',\n",
        "                                               batch_size = BATCH_SIZE,\n",
        "                                               seed = 802,\n",
        "                                               subset = 'training')\n",
        "val_data = train_datagen.flow_from_directory(RESAMPLED_DIR,\n",
        "                                               target_size = IMG_SIZE,\n",
        "                                               color_mode = 'rgb',\n",
        "                                               class_mode = 'categorical',\n",
        "                                               shuffle = 'True',\n",
        "                                               batch_size = BATCH_SIZE,\n",
        "                                               seed = 802,\n",
        "                                               subset = 'validation')\n",
        "\n",
        "test_datagen = ImageDataGenerator(preprocessing_function = preprocess_input)\n",
        "test_data = test_datagen.flow_from_directory(TEST_DIR,\n",
        "                                               target_size = IMG_SIZE,\n",
        "                                               color_mode = 'rgb',\n",
        "                                               class_mode = 'categorical',\n",
        "                                               shuffle = 'False')"
      ],
      "execution_count": 17,
      "outputs": [
        {
          "output_type": "stream",
          "name": "stdout",
          "text": [
            "Found 6556 images belonging to 4 classes.\n",
            "Found 1636 images belonging to 4 classes.\n",
            "Found 1023 images belonging to 4 classes.\n"
          ]
        }
      ]
    },
    {
      "cell_type": "markdown",
      "source": [
        "# VGG16 MODEL"
      ],
      "metadata": {
        "id": "t_1S7RAqzmN4"
      }
    },
    {
      "cell_type": "code",
      "metadata": {
        "id": "BEFXgrE840oj",
        "colab": {
          "base_uri": "https://localhost:8080/"
        },
        "outputId": "84e2c2bf-97c8-4fb1-de19-5d449ab05bda"
      },
      "source": [
        "#load base model\n",
        "base_model = VGG16(\n",
        "    weights = 'imagenet',\n",
        "    include_top = False,\n",
        "    input_shape = IMG_SIZE + (3,)\n",
        ")\n",
        "model = Sequential()\n",
        "model.add(base_model)\n",
        "model.add(layers.Flatten())\n",
        "model.add(layers.Dropout(0.5))\n",
        "model.add(layers.Dense(4, activation='softmax'))\n",
        "model.layers[0].trainable = False"
      ],
      "execution_count": 18,
      "outputs": [
        {
          "output_type": "stream",
          "name": "stdout",
          "text": [
            "Downloading data from https://storage.googleapis.com/tensorflow/keras-applications/vgg16/vgg16_weights_tf_dim_ordering_tf_kernels_notop.h5\n",
            "58892288/58889256 [==============================] - 0s 0us/step\n",
            "58900480/58889256 [==============================] - 0s 0us/step\n"
          ]
        }
      ]
    },
    {
      "cell_type": "code",
      "metadata": {
        "id": "z2bxejvQdcHt"
      },
      "source": [
        "#Compile the model\n",
        "model.compile(optimizer = 'adam', loss = 'categorical_crossentropy', metrics = ['accuracy'])"
      ],
      "execution_count": 19,
      "outputs": []
    },
    {
      "cell_type": "code",
      "source": [
        "#Summary of the model\n",
        "model.summary()"
      ],
      "metadata": {
        "id": "evn0jEWIzfeU",
        "colab": {
          "base_uri": "https://localhost:8080/"
        },
        "outputId": "d1571806-1977-4563-c7e7-4216fe8fe333"
      },
      "execution_count": 20,
      "outputs": [
        {
          "output_type": "stream",
          "name": "stdout",
          "text": [
            "Model: \"sequential\"\n",
            "_________________________________________________________________\n",
            " Layer (type)                Output Shape              Param #   \n",
            "=================================================================\n",
            " vgg16 (Functional)          (None, 7, 7, 512)         14714688  \n",
            "                                                                 \n",
            " flatten (Flatten)           (None, 25088)             0         \n",
            "                                                                 \n",
            " dropout (Dropout)           (None, 25088)             0         \n",
            "                                                                 \n",
            " dense (Dense)               (None, 4)                 100356    \n",
            "                                                                 \n",
            "=================================================================\n",
            "Total params: 14,815,044\n",
            "Trainable params: 100,356\n",
            "Non-trainable params: 14,714,688\n",
            "_________________________________________________________________\n"
          ]
        }
      ]
    },
    {
      "cell_type": "code",
      "metadata": {
        "id": "C7mlh29MEBn3",
        "colab": {
          "base_uri": "https://localhost:8080/"
        },
        "outputId": "9e60675b-86b4-4578-ff16-3041298b79d3"
      },
      "source": [
        "#Fit the model\n",
        "from keras.callbacks import EarlyStopping\n",
        "EPOCHS = 100\n",
        "es = EarlyStopping(\n",
        "    monitor = 'loss', \n",
        "    mode = 'min',\n",
        "    patience = 10\n",
        ")\n",
        "reducer = tf.keras.callbacks.ReduceLROnPlateau(factor = np.sqrt(0.1),patience = 5,cooldown = 0, min_lr = 0.5e-6)\n",
        "hist = model.fit(train_data, batch_size = BATCH_SIZE, epochs = EPOCHS, validation_data = val_data, callbacks = [es,reducer])"
      ],
      "execution_count": 21,
      "outputs": [
        {
          "output_type": "stream",
          "name": "stdout",
          "text": [
            "Epoch 1/100\n",
            "52/52 [==============================] - 129s 2s/step - loss: 11.0668 - accuracy: 0.5462 - val_loss: 5.2230 - val_accuracy: 0.6155 - lr: 0.0010\n",
            "Epoch 2/100\n",
            "52/52 [==============================] - 57s 1s/step - loss: 4.6104 - accuracy: 0.7093 - val_loss: 3.4770 - val_accuracy: 0.6950 - lr: 0.0010\n",
            "Epoch 3/100\n",
            "52/52 [==============================] - 57s 1s/step - loss: 3.3150 - accuracy: 0.7631 - val_loss: 2.7361 - val_accuracy: 0.7347 - lr: 0.0010\n",
            "Epoch 4/100\n",
            "52/52 [==============================] - 58s 1s/step - loss: 3.1789 - accuracy: 0.7816 - val_loss: 3.8271 - val_accuracy: 0.6944 - lr: 0.0010\n",
            "Epoch 5/100\n",
            "52/52 [==============================] - 57s 1s/step - loss: 2.3165 - accuracy: 0.8179 - val_loss: 3.3544 - val_accuracy: 0.7378 - lr: 0.0010\n",
            "Epoch 6/100\n",
            "52/52 [==============================] - 57s 1s/step - loss: 2.4070 - accuracy: 0.8243 - val_loss: 1.7828 - val_accuracy: 0.8093 - lr: 0.0010\n",
            "Epoch 7/100\n",
            "52/52 [==============================] - 57s 1s/step - loss: 1.9950 - accuracy: 0.8420 - val_loss: 2.1702 - val_accuracy: 0.7800 - lr: 0.0010\n",
            "Epoch 8/100\n",
            "52/52 [==============================] - 57s 1s/step - loss: 2.2556 - accuracy: 0.8388 - val_loss: 4.3675 - val_accuracy: 0.7170 - lr: 0.0010\n",
            "Epoch 9/100\n",
            "52/52 [==============================] - 57s 1s/step - loss: 1.9217 - accuracy: 0.8577 - val_loss: 1.5308 - val_accuracy: 0.8344 - lr: 0.0010\n",
            "Epoch 10/100\n",
            "52/52 [==============================] - 57s 1s/step - loss: 1.9880 - accuracy: 0.8572 - val_loss: 2.4674 - val_accuracy: 0.7995 - lr: 0.0010\n",
            "Epoch 11/100\n",
            "52/52 [==============================] - 57s 1s/step - loss: 1.9808 - accuracy: 0.8646 - val_loss: 4.2943 - val_accuracy: 0.7421 - lr: 0.0010\n",
            "Epoch 12/100\n",
            "52/52 [==============================] - 57s 1s/step - loss: 1.9763 - accuracy: 0.8688 - val_loss: 2.6736 - val_accuracy: 0.8007 - lr: 0.0010\n",
            "Epoch 13/100\n",
            "52/52 [==============================] - 57s 1s/step - loss: 1.8504 - accuracy: 0.8745 - val_loss: 2.0126 - val_accuracy: 0.8258 - lr: 0.0010\n",
            "Epoch 14/100\n",
            "52/52 [==============================] - 57s 1s/step - loss: 2.2573 - accuracy: 0.8627 - val_loss: 7.2075 - val_accuracy: 0.7262 - lr: 0.0010\n",
            "Epoch 15/100\n",
            "52/52 [==============================] - 57s 1s/step - loss: 1.4707 - accuracy: 0.8951 - val_loss: 3.2897 - val_accuracy: 0.7897 - lr: 3.1623e-04\n",
            "Epoch 16/100\n",
            "52/52 [==============================] - 57s 1s/step - loss: 1.4023 - accuracy: 0.8944 - val_loss: 1.7235 - val_accuracy: 0.8411 - lr: 3.1623e-04\n",
            "Epoch 17/100\n",
            "52/52 [==============================] - 57s 1s/step - loss: 1.1684 - accuracy: 0.9068 - val_loss: 2.0338 - val_accuracy: 0.8307 - lr: 3.1623e-04\n",
            "Epoch 18/100\n",
            "52/52 [==============================] - 57s 1s/step - loss: 0.9696 - accuracy: 0.9143 - val_loss: 1.8589 - val_accuracy: 0.8331 - lr: 3.1623e-04\n",
            "Epoch 19/100\n",
            "52/52 [==============================] - 57s 1s/step - loss: 1.0442 - accuracy: 0.9095 - val_loss: 1.9165 - val_accuracy: 0.8380 - lr: 3.1623e-04\n",
            "Epoch 20/100\n",
            "52/52 [==============================] - 57s 1s/step - loss: 0.9065 - accuracy: 0.9195 - val_loss: 1.7234 - val_accuracy: 0.8429 - lr: 1.0000e-04\n",
            "Epoch 21/100\n",
            "52/52 [==============================] - 57s 1s/step - loss: 0.8554 - accuracy: 0.9198 - val_loss: 1.6240 - val_accuracy: 0.8521 - lr: 1.0000e-04\n",
            "Epoch 22/100\n",
            "52/52 [==============================] - 57s 1s/step - loss: 0.8079 - accuracy: 0.9225 - val_loss: 1.8470 - val_accuracy: 0.8386 - lr: 1.0000e-04\n",
            "Epoch 23/100\n",
            "52/52 [==============================] - 57s 1s/step - loss: 0.8356 - accuracy: 0.9222 - val_loss: 1.7137 - val_accuracy: 0.8441 - lr: 1.0000e-04\n",
            "Epoch 24/100\n",
            "52/52 [==============================] - 57s 1s/step - loss: 0.8149 - accuracy: 0.9256 - val_loss: 1.8223 - val_accuracy: 0.8399 - lr: 1.0000e-04\n",
            "Epoch 25/100\n",
            "52/52 [==============================] - 57s 1s/step - loss: 0.7012 - accuracy: 0.9321 - val_loss: 1.3832 - val_accuracy: 0.8637 - lr: 3.1623e-05\n",
            "Epoch 26/100\n",
            "52/52 [==============================] - 57s 1s/step - loss: 0.6792 - accuracy: 0.9333 - val_loss: 1.3465 - val_accuracy: 0.8631 - lr: 3.1623e-05\n",
            "Epoch 27/100\n",
            "52/52 [==============================] - 57s 1s/step - loss: 0.7171 - accuracy: 0.9300 - val_loss: 1.6619 - val_accuracy: 0.8502 - lr: 3.1623e-05\n",
            "Epoch 28/100\n",
            "52/52 [==============================] - 57s 1s/step - loss: 0.7191 - accuracy: 0.9291 - val_loss: 1.5650 - val_accuracy: 0.8539 - lr: 3.1623e-05\n",
            "Epoch 29/100\n",
            "52/52 [==============================] - 57s 1s/step - loss: 0.7412 - accuracy: 0.9298 - val_loss: 1.4847 - val_accuracy: 0.8576 - lr: 3.1623e-05\n",
            "Epoch 30/100\n",
            "52/52 [==============================] - 57s 1s/step - loss: 0.6823 - accuracy: 0.9295 - val_loss: 1.4236 - val_accuracy: 0.8564 - lr: 3.1623e-05\n",
            "Epoch 31/100\n",
            "52/52 [==============================] - 57s 1s/step - loss: 0.6585 - accuracy: 0.9303 - val_loss: 1.4243 - val_accuracy: 0.8631 - lr: 3.1623e-05\n",
            "Epoch 32/100\n",
            "52/52 [==============================] - 57s 1s/step - loss: 0.6078 - accuracy: 0.9346 - val_loss: 1.4579 - val_accuracy: 0.8606 - lr: 1.0000e-05\n",
            "Epoch 33/100\n",
            "52/52 [==============================] - 57s 1s/step - loss: 0.7189 - accuracy: 0.9291 - val_loss: 1.4923 - val_accuracy: 0.8557 - lr: 1.0000e-05\n",
            "Epoch 34/100\n",
            "52/52 [==============================] - 57s 1s/step - loss: 0.6349 - accuracy: 0.9318 - val_loss: 1.4570 - val_accuracy: 0.8619 - lr: 1.0000e-05\n",
            "Epoch 35/100\n",
            "52/52 [==============================] - 57s 1s/step - loss: 0.6788 - accuracy: 0.9321 - val_loss: 1.3783 - val_accuracy: 0.8631 - lr: 1.0000e-05\n",
            "Epoch 36/100\n",
            "52/52 [==============================] - 57s 1s/step - loss: 0.6908 - accuracy: 0.9308 - val_loss: 1.3736 - val_accuracy: 0.8649 - lr: 1.0000e-05\n",
            "Epoch 37/100\n",
            "52/52 [==============================] - 57s 1s/step - loss: 0.6060 - accuracy: 0.9365 - val_loss: 1.4159 - val_accuracy: 0.8637 - lr: 3.1623e-06\n",
            "Epoch 38/100\n",
            "52/52 [==============================] - 57s 1s/step - loss: 0.6702 - accuracy: 0.9329 - val_loss: 1.4009 - val_accuracy: 0.8649 - lr: 3.1623e-06\n",
            "Epoch 39/100\n",
            "52/52 [==============================] - 57s 1s/step - loss: 0.7042 - accuracy: 0.9320 - val_loss: 1.4226 - val_accuracy: 0.8637 - lr: 3.1623e-06\n",
            "Epoch 40/100\n",
            "52/52 [==============================] - 57s 1s/step - loss: 0.6301 - accuracy: 0.9335 - val_loss: 1.4249 - val_accuracy: 0.8637 - lr: 3.1623e-06\n",
            "Epoch 41/100\n",
            "52/52 [==============================] - 57s 1s/step - loss: 0.6410 - accuracy: 0.9358 - val_loss: 1.3915 - val_accuracy: 0.8655 - lr: 3.1623e-06\n",
            "Epoch 42/100\n",
            "52/52 [==============================] - 57s 1s/step - loss: 0.6592 - accuracy: 0.9304 - val_loss: 1.4024 - val_accuracy: 0.8643 - lr: 1.0000e-06\n",
            "Epoch 43/100\n",
            "52/52 [==============================] - 57s 1s/step - loss: 0.5858 - accuracy: 0.9375 - val_loss: 1.3973 - val_accuracy: 0.8643 - lr: 1.0000e-06\n",
            "Epoch 44/100\n",
            "52/52 [==============================] - 57s 1s/step - loss: 0.6751 - accuracy: 0.9329 - val_loss: 1.3973 - val_accuracy: 0.8649 - lr: 1.0000e-06\n",
            "Epoch 45/100\n",
            "52/52 [==============================] - 57s 1s/step - loss: 0.6828 - accuracy: 0.9311 - val_loss: 1.4074 - val_accuracy: 0.8649 - lr: 1.0000e-06\n",
            "Epoch 46/100\n",
            "52/52 [==============================] - 57s 1s/step - loss: 0.5977 - accuracy: 0.9336 - val_loss: 1.4261 - val_accuracy: 0.8637 - lr: 1.0000e-06\n",
            "Epoch 47/100\n",
            "52/52 [==============================] - 57s 1s/step - loss: 0.5978 - accuracy: 0.9373 - val_loss: 1.4360 - val_accuracy: 0.8637 - lr: 5.0000e-07\n",
            "Epoch 48/100\n",
            "52/52 [==============================] - 57s 1s/step - loss: 0.6567 - accuracy: 0.9289 - val_loss: 1.4287 - val_accuracy: 0.8637 - lr: 5.0000e-07\n",
            "Epoch 49/100\n",
            "52/52 [==============================] - 57s 1s/step - loss: 0.6382 - accuracy: 0.9353 - val_loss: 1.4311 - val_accuracy: 0.8637 - lr: 5.0000e-07\n",
            "Epoch 50/100\n",
            "52/52 [==============================] - 57s 1s/step - loss: 0.5730 - accuracy: 0.9370 - val_loss: 1.4267 - val_accuracy: 0.8637 - lr: 5.0000e-07\n",
            "Epoch 51/100\n",
            "52/52 [==============================] - 57s 1s/step - loss: 0.6142 - accuracy: 0.9356 - val_loss: 1.4335 - val_accuracy: 0.8625 - lr: 5.0000e-07\n",
            "Epoch 52/100\n",
            "52/52 [==============================] - 57s 1s/step - loss: 0.7099 - accuracy: 0.9308 - val_loss: 1.4274 - val_accuracy: 0.8637 - lr: 5.0000e-07\n",
            "Epoch 53/100\n",
            "52/52 [==============================] - 57s 1s/step - loss: 0.6768 - accuracy: 0.9320 - val_loss: 1.4256 - val_accuracy: 0.8637 - lr: 5.0000e-07\n",
            "Epoch 54/100\n",
            "52/52 [==============================] - 57s 1s/step - loss: 0.7450 - accuracy: 0.9259 - val_loss: 1.4237 - val_accuracy: 0.8637 - lr: 5.0000e-07\n",
            "Epoch 55/100\n",
            "52/52 [==============================] - 57s 1s/step - loss: 0.6649 - accuracy: 0.9295 - val_loss: 1.4244 - val_accuracy: 0.8619 - lr: 5.0000e-07\n",
            "Epoch 56/100\n",
            "52/52 [==============================] - 57s 1s/step - loss: 0.7129 - accuracy: 0.9309 - val_loss: 1.4315 - val_accuracy: 0.8625 - lr: 5.0000e-07\n",
            "Epoch 57/100\n",
            "52/52 [==============================] - 57s 1s/step - loss: 0.6738 - accuracy: 0.9315 - val_loss: 1.4337 - val_accuracy: 0.8625 - lr: 5.0000e-07\n",
            "Epoch 58/100\n",
            "52/52 [==============================] - 57s 1s/step - loss: 0.6506 - accuracy: 0.9306 - val_loss: 1.4280 - val_accuracy: 0.8631 - lr: 5.0000e-07\n",
            "Epoch 59/100\n",
            "52/52 [==============================] - 57s 1s/step - loss: 0.6382 - accuracy: 0.9332 - val_loss: 1.4165 - val_accuracy: 0.8643 - lr: 5.0000e-07\n",
            "Epoch 60/100\n",
            "52/52 [==============================] - 57s 1s/step - loss: 0.6711 - accuracy: 0.9318 - val_loss: 1.4144 - val_accuracy: 0.8631 - lr: 5.0000e-07\n"
          ]
        }
      ]
    },
    {
      "cell_type": "markdown",
      "source": [
        "# RESULTS"
      ],
      "metadata": {
        "id": "4GVJ4dbdzV64"
      }
    },
    {
      "cell_type": "code",
      "source": [
        "#Plot the results\n",
        "train_acc = hist.history['accuracy']\n",
        "val_acc = hist.history['val_accuracy']\n",
        "\n",
        "train_loss = hist.history['loss']\n",
        "val_loss = hist.history['val_loss']\n",
        "epochs_range = range(1, len(hist.epoch) + 1)\n",
        "\n",
        "plt.figure(figsize = (15,5))\n",
        "#accuracy\n",
        "plt.subplot(1, 2, 1)\n",
        "plt.plot(epochs_range, train_acc, label = 'Training Set')\n",
        "plt.plot(epochs_range, val_acc, label = 'Validation Set')\n",
        "plt.legend(loc = \"best\")\n",
        "plt.xlabel('Epochs')\n",
        "plt.ylabel('Accuracy')\n",
        "plt.title('Traning-Validation Accuracy')\n",
        "#loss\n",
        "plt.subplot(1, 2, 2)\n",
        "plt.plot(epochs_range, train_loss, label = 'Training Set')\n",
        "plt.plot(epochs_range, val_loss, label = 'Validation Set')\n",
        "plt.legend(loc=\"best\")\n",
        "plt.xlabel('Epochs')\n",
        "plt.ylabel('Loss')\n",
        "plt.title('Traning-Validation Loss')\n",
        "plt.tight_layout()\n",
        "plt.show()"
      ],
      "metadata": {
        "id": "BIic9yk4zENe",
        "colab": {
          "base_uri": "https://localhost:8080/",
          "height": 369
        },
        "outputId": "151834db-6851-4bdc-d494-d95530e7254b"
      },
      "execution_count": 22,
      "outputs": [
        {
          "output_type": "display_data",
          "data": {
            "image/png": "[encoded data removed]",
            "text/plain": [
              "<Figure size 1080x360 with 2 Axes>"
            ]
          },
          "metadata": {
            "needs_background": "light"
          }
        }
      ]
    },
    {
      "cell_type": "markdown",
      "source": [
        "# EVALUATION"
      ],
      "metadata": {
        "id": "iXMLQ2wfzMOS"
      }
    },
    {
      "cell_type": "code",
      "source": [
        "#Evaluate on training data\n",
        "train_score = model.evaluate(train_data)\n",
        "print('Train loss {:.4f}, accuracy {:.3f}%'.format(train_score[0], train_score[1] * 100))"
      ],
      "metadata": {
        "id": "N91YaXe-zEWK",
        "colab": {
          "base_uri": "https://localhost:8080/"
        },
        "outputId": "31c2a037-aeb6-4b82-e842-8a1baa2e0517"
      },
      "execution_count": 23,
      "outputs": [
        {
          "output_type": "stream",
          "name": "stdout",
          "text": [
            "52/52 [==============================] - 45s 864ms/step - loss: 0.0119 - accuracy: 0.9959\n",
            "Train loss 0.0119, accuracy 99.588%\n"
          ]
        }
      ]
    },
    {
      "cell_type": "code",
      "source": [
        "#Evaluate on validation data\n",
        "val_score = model.evaluate(val_data)\n",
        "print('Validation loss {:.4f}, accuracy {:.3f}%'.format(val_score[0], val_score[1] * 100))"
      ],
      "metadata": {
        "id": "rDHKH56fzE-9",
        "colab": {
          "base_uri": "https://localhost:8080/"
        },
        "outputId": "fb191d3f-ace3-4040-f890-9dec0cf86b26"
      },
      "execution_count": 24,
      "outputs": [
        {
          "output_type": "stream",
          "name": "stdout",
          "text": [
            "13/13 [==============================] - 12s 863ms/step - loss: 1.4144 - accuracy: 0.8631\n",
            "Validation loss 1.4144, accuracy 86.308%\n"
          ]
        }
      ]
    },
    {
      "cell_type": "code",
      "metadata": {
        "id": "LG8fAj1cEE_H",
        "colab": {
          "base_uri": "https://localhost:8080/"
        },
        "outputId": "b9646a1c-cb19-46a2-aceb-76777e500886"
      },
      "source": [
        "#Evaluate on test data\n",
        "test_score = model.evaluate(test_data)\n",
        "print('Test loss {:.4f}, accuracy {:.3f}%'.format(test_score[0], test_score[1] * 100))"
      ],
      "execution_count": 25,
      "outputs": [
        {
          "output_type": "stream",
          "name": "stdout",
          "text": [
            "32/32 [==============================] - 27s 534ms/step - loss: 1.1912 - accuracy: 0.8651\n",
            "Test loss 1.1912, accuracy 86.510%\n"
          ]
        }
      ]
    },
    {
      "cell_type": "code",
      "metadata": {
        "id": "E_vGNv0AEJaq"
      },
      "source": [
        "#True and predicted value calculation\n",
        "class_labels = list(test_data.class_indices.keys())\n",
        "y_pred = []\n",
        "y_true = []\n",
        "ctr = 0\n",
        "for batch, label in test_data:\n",
        "    prediction = model.predict(batch).argmax(axis = -1)\n",
        "    y_pred.extend(prediction)\n",
        "    y_true.extend(label.argmax(axis = -1))\n",
        "    ctr += len(prediction)\n",
        "    if ctr >= len(test_data.labels):\n",
        "        break"
      ],
      "execution_count": 26,
      "outputs": []
    },
    {
      "cell_type": "code",
      "metadata": {
        "id": "-jkTMtlumBq0",
        "colab": {
          "base_uri": "https://localhost:8080/",
          "height": 279
        },
        "outputId": "7b706088-e271-4dfb-baa0-bba57585acbc"
      },
      "source": [
        "#Confusion Matrix\n",
        "from sklearn.metrics import confusion_matrix, ConfusionMatrixDisplay\n",
        "cm = confusion_matrix(y_true, y_pred)\n",
        "ConfusionMatrixDisplay(confusion_matrix = cm, display_labels = class_labels).plot()\n",
        "plt.show()"
      ],
      "execution_count": 27,
      "outputs": [
        {
          "output_type": "display_data",
          "data": {
            "image/png": "[encoded data removed]",
            "text/plain": [
              "<Figure size 432x288 with 2 Axes>"
            ]
          },
          "metadata": {
            "needs_background": "light"
          }
        }
      ]
    },
    {
      "cell_type": "code",
      "metadata": {
        "id": "QcRxge3_4NOx",
        "colab": {
          "base_uri": "https://localhost:8080/"
        },
        "outputId": "2abb31c8-aa09-4f62-8ef9-68e90110e548"
      },
      "source": [
        "#Performance Evaluation\n",
        "from sklearn.metrics import accuracy_score, precision_score, recall_score, f1_score, classification_report\n",
        "print('Accuracy: {:.3f}%'.format(accuracy_score(y_true, y_pred)*100))\n",
        "print('Precision: {:.3f}%'.format(precision_score(y_true, y_pred, average = 'micro')*100))\n",
        "print('Recall: {:.3f}%'.format(recall_score(y_true, y_pred, average = 'micro')*100))\n",
        "print('F1-score: {:.3f}%\\n'.format(f1_score(y_true, y_pred, average = 'micro')*100))\n",
        "\n",
        "print('\\nClassification Report:\\n')\n",
        "print(classification_report(y_true, y_pred, target_names = class_labels))"
      ],
      "execution_count": 28,
      "outputs": [
        {
          "output_type": "stream",
          "name": "stdout",
          "text": [
            "Accuracy: 86.510%\n",
            "Precision: 86.510%\n",
            "Recall: 86.510%\n",
            "F1-score: 86.510%\n",
            "\n",
            "\n",
            "Classification Report:\n",
            "\n",
            "                  precision    recall  f1-score   support\n",
            "\n",
            "    MildDemented       0.94      0.55      0.70       143\n",
            "ModerateDemented       1.00      0.90      0.95        10\n",
            "     NonDemented       0.87      0.96      0.91       512\n",
            "VeryMildDemented       0.83      0.86      0.85       358\n",
            "\n",
            "        accuracy                           0.87      1023\n",
            "       macro avg       0.91      0.82      0.85      1023\n",
            "    weighted avg       0.87      0.87      0.86      1023\n",
            "\n"
          ]
        }
      ]
    }
  ]
}